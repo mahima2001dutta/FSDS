{
 "cells": [
  {
   "cell_type": "code",
   "execution_count": null,
   "id": "9a8a7c17",
   "metadata": {},
   "outputs": [],
   "source": [
    "# Q1. What is the purpose of Pythons OOP?\n",
    "# Ans:-\n",
    "The purpose of Object Oriented Programming is maintain the structure and\n",
    "reuseability of the code by maing classes and objects."
   ]
  },
  {
   "cell_type": "code",
   "execution_count": null,
   "id": "334ed9ce",
   "metadata": {},
   "outputs": [],
   "source": [
    "# Q2. Where does an inheritance search look for an attribute?\n",
    "# Ans:-\n",
    "It finds the first occurrence of attribute by looking in object,\n",
    "then in all classes above it, from bottom to top and left to right."
   ]
  },
  {
   "cell_type": "code",
   "execution_count": null,
   "id": "bed49d3f",
   "metadata": {},
   "outputs": [],
   "source": [
    "# Q3. How do you distinguish between a class object and an instance object?\n",
    "# Ans:-\n",
    "A normal variable is an instance object example:- a=10, s=\"string\"\n",
    "where as class object is the variable that uses class features\n",
    "example\n",
    "class test():\n",
    "    pass\n",
    "obj=test()"
   ]
  },
  {
   "cell_type": "code",
   "execution_count": null,
   "id": "79436edd",
   "metadata": {},
   "outputs": [],
   "source": [
    "# Q4. What makes the first argument in a class’s method function special?\n",
    "# Ans:-\n",
    "The first argumpent in a class is specal because it is a pointer that point variable to class.\n",
    "example:-\n",
    "class test():\n",
    "    def __init__(self,name,age): #self is a pointer that is pointing variable to the class\n",
    "        self.name=name\n",
    "        self.age=age"
   ]
  },
  {
   "cell_type": "code",
   "execution_count": null,
   "id": "8dff0131",
   "metadata": {},
   "outputs": [],
   "source": [
    "# Q5. What is the purpose of the __init__ method?\n",
    "# Ans:-\n",
    "__init__ method is an inbuilt method it act as a constructor.\n",
    "whenever an object is created init method is invoked (called).\n",
    "mostly we use this method to assign values to class variables."
   ]
  },
  {
   "cell_type": "code",
   "execution_count": null,
   "id": "f801e203",
   "metadata": {},
   "outputs": [],
   "source": [
    "# Q6. What is the process for creating a class instance?\n",
    "# Ans:-\n",
    "# Syntax for creating a class instance\n",
    "class test():\n",
    "    pass\n",
    "obj=test()"
   ]
  },
  {
   "cell_type": "code",
   "execution_count": null,
   "id": "7516b305",
   "metadata": {},
   "outputs": [],
   "source": [
    "# Q7. What is the process for creating a class?\n",
    "# Ans:-\n",
    "# The syntax for creating a class is\n",
    "# class class_name():\n",
    "#     def method(pointer):\n",
    "#         pass\n",
    "# example:-\n",
    "class Test():\n",
    "    def testme(self):\n",
    "        return \"This is a test function\""
   ]
  },
  {
   "cell_type": "code",
   "execution_count": null,
   "id": "0503a4f2",
   "metadata": {},
   "outputs": [],
   "source": [
    "# Q8. How would you define the superclasses of a class?\n",
    "# Ans:-\n",
    "A super class is the parent class which is inherited by the child class\n",
    "example:-\n",
    "class A():\n",
    "    pass\n",
    "class B(A):\n",
    "    pass"
   ]
  },
  {
   "cell_type": "code",
   "execution_count": null,
   "id": "3b91202b",
   "metadata": {},
   "outputs": [],
   "source": []
  }
 ],
 "metadata": {
  "kernelspec": {
   "display_name": "Python 3",
   "language": "python",
   "name": "python3"
  },
  "language_info": {
   "codemirror_mode": {
    "name": "ipython",
    "version": 3
   },
   "file_extension": ".py",
   "mimetype": "text/x-python",
   "name": "python",
   "nbconvert_exporter": "python",
   "pygments_lexer": "ipython3",
   "version": "3.8.8"
  }
 },
 "nbformat": 4,
 "nbformat_minor": 5
}
