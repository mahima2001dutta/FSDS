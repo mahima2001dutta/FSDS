{
 "cells": [
  {
   "cell_type": "code",
   "execution_count": null,
   "id": "1c84142f",
   "metadata": {},
   "outputs": [],
   "source": [
    "Q1. What is the relationship between classes and modules?\n",
    "# Ans:-\n",
    "A module is a file that may consist of different different classes.\n",
    "A class is an block of code which is used to create objects"
   ]
  },
  {
   "cell_type": "code",
   "execution_count": null,
   "id": "7f3dc62d",
   "metadata": {},
   "outputs": [],
   "source": [
    "Q2. How do you make instances and classes?\n",
    "# Ans:-\n",
    "Syntax to create class and instance\n",
    "# Class\n",
    "class test():\n",
    "    def testme(self):\n",
    "        return \"this is an test menthod\"\n",
    "\n",
    "# Instance\n",
    "object1=test()"
   ]
  },
  {
   "cell_type": "code",
   "execution_count": null,
   "id": "b27842ac",
   "metadata": {},
   "outputs": [],
   "source": [
    "Q3. Where and how should be class attributes created?\n",
    "# Ans:-\n",
    "class attributes must be created inside the class\n",
    "example:-\n",
    "class test():\n",
    "    CLASS_VAR=10 # Class Attributes\n",
    "    def ___init__(self):\n",
    "        pass\n",
    "    "
   ]
  },
  {
   "cell_type": "code",
   "execution_count": null,
   "id": "3c5d4803",
   "metadata": {},
   "outputs": [],
   "source": [
    "Q4. Where and how are instance attributes created?\n",
    "# Ans:-\n",
    "class attributes must be created inside the class\n",
    "example:-\n",
    "class test():\n",
    "    def ___init__(self,name):\n",
    "        self.name=name # Instance Attributes\n",
    "    "
   ]
  },
  {
   "cell_type": "code",
   "execution_count": null,
   "id": "374639a1",
   "metadata": {},
   "outputs": [],
   "source": [
    "Q5. What does the term 'self' in a Python class mean?\n",
    "# Ans:-\n",
    "In python, in oops methods, self keword is used as a pointer to point variablr to the class\n"
   ]
  },
  {
   "cell_type": "code",
   "execution_count": 3,
   "id": "545239ae",
   "metadata": {},
   "outputs": [
    {
     "name": "stdout",
     "output_type": "stream",
     "text": [
      "3\n",
      "Aman\n",
      "[1, 2, 3, 4]\n"
     ]
    }
   ],
   "source": [
    "# Q6. How does a Python class handle operator overloading?\n",
    "# Ans:-\n",
    "# Operator Overloading means giving extended meaning beyond their predefined operational meaning.\n",
    "# For example operator + is used to add two integers as well as join two strings and merge two lists.\n",
    "# It is achievable because ‘+’ operator is overloaded by int class and str class.\n",
    "\n",
    "class test():\n",
    "    def add(this,x,y):\n",
    "        return x + y\n",
    "\n",
    "obj1=test()\n",
    "print(obj1.add(1,2))\n",
    "print(obj1.add(\"Am\",\"an\"))\n",
    "print(obj1.add([1,2],[3,4]))"
   ]
  },
  {
   "cell_type": "code",
   "execution_count": null,
   "id": "f97f06ef",
   "metadata": {},
   "outputs": [],
   "source": [
    "# Q7. When do you consider allowing operator overloading of your classes?\n",
    "# Ans:-\n",
    "Consider that we have two objects which are a physical representation of\n",
    "a class (user-defined data type) and we have to add two objects with\n",
    "binary ‘+’ operator it throws an error, because compiler don’t know how to add two objects.\n",
    "So we define a method for an operator and that process is called operator overloading. \n",
    "We can overload all existing operators but we can’t create a new operator.\n",
    "To perform operator overloading, \n",
    "Python provides some special function or magic function that is automatically invoked \n",
    "when it is associated with that particular operator.\n",
    "For example, when we use + operator, the magic method __add__ is automatically\n",
    "invoked in which the operation for + operator is defined."
   ]
  },
  {
   "cell_type": "code",
   "execution_count": null,
   "id": "5ebcb63f",
   "metadata": {},
   "outputs": [],
   "source": [
    "Q8. What is the most popular form of operator overloading?\n",
    "Ans:-\n",
    "Plus Operator Overloaded\n",
    "Multiplication Operator Overloaded\n",
    "Greater than and Less than Operator Overloaded\n",
    "Equal to Operator Overloaded"
   ]
  },
  {
   "cell_type": "code",
   "execution_count": null,
   "id": "e3ac0da0",
   "metadata": {},
   "outputs": [],
   "source": [
    "Q9. What are the two most important concepts to grasp in order to comprehend Python OOP code?\n",
    "Ans:-\n",
    "Inheritance and Polymorphism.\n",
    "To design robust, flexible, and easy-to-maintain software, inheritance,\n",
    "and polymorphism are the key components.\n",
    "Operator overloading is a kind of polymorphism"
   ]
  },
  {
   "cell_type": "code",
   "execution_count": null,
   "id": "a728edd5",
   "metadata": {},
   "outputs": [],
   "source": []
  },
  {
   "cell_type": "code",
   "execution_count": null,
   "id": "38c4b3a4",
   "metadata": {},
   "outputs": [],
   "source": []
  },
  {
   "cell_type": "code",
   "execution_count": null,
   "id": "9ab8479b",
   "metadata": {},
   "outputs": [],
   "source": []
  }
 ],
 "metadata": {
  "kernelspec": {
   "display_name": "Python 3",
   "language": "python",
   "name": "python3"
  },
  "language_info": {
   "codemirror_mode": {
    "name": "ipython",
    "version": 3
   },
   "file_extension": ".py",
   "mimetype": "text/x-python",
   "name": "python",
   "nbconvert_exporter": "python",
   "pygments_lexer": "ipython3",
   "version": "3.8.8"
  }
 },
 "nbformat": 4,
 "nbformat_minor": 5
}
