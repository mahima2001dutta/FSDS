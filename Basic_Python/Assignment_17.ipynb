{
 "cells": [
  {
   "cell_type": "code",
   "execution_count": 2,
   "id": "f5598933",
   "metadata": {},
   "outputs": [
    {
     "name": "stdout",
     "output_type": "stream",
     "text": [
      "Guess the number :1\n",
      "Too Low\n",
      "Guess the number :2\n",
      "Too Low\n",
      "Guess the number :3\n",
      "Too Low\n",
      "Guess the number :4\n",
      "Too Low\n",
      "Guess the number :5\n",
      "Too Low\n",
      "Guess the number :6\n",
      "Too Low\n",
      "Guess the number :7\n",
      "Just Right!\n"
     ]
    }
   ],
   "source": [
    "# 1. Assign the value 7 to the variable guess_me. Then, write the conditional tests (if, else, and elif) to\n",
    "# print the string 'too low' if guess_me is less than 7, 'too high' if greater than 7, and 'just right' if equal\n",
    "# to 7.\n",
    "# Ans:-\n",
    "guess_me=7\n",
    "while True:\n",
    "    no=int(input(\"Guess the number :\"))\n",
    "    if no > guess_me:\n",
    "        print(\"Too High\")\n",
    "    elif no < guess_me:\n",
    "        print(\"Too Low\")\n",
    "    elif no == guess_me:\n",
    "        print(\"Just Right!\")\n",
    "        break\n",
    "    else:\n",
    "        print(\"You hav enterd a wrong input\")"
   ]
  },
  {
   "cell_type": "code",
   "execution_count": 3,
   "id": "547c5215",
   "metadata": {},
   "outputs": [
    {
     "name": "stdout",
     "output_type": "stream",
     "text": [
      "too low!\n",
      "too low!\n",
      "too low!\n",
      "too low!\n",
      "too low!\n",
      "too low!\n",
      "Found It!\n"
     ]
    }
   ],
   "source": [
    "# 2. Assign the value 7 to the variable guess_me and the value 1 to the variable start. Write a while\n",
    "# loop that compares start with guess_me. Print too low if start is less than guess me. If start equals\n",
    "# guess_me, print 'found it!' and exit the loop. If start is greater than guess_me, print 'oops' and exit\n",
    "# the loop. Increment start at the end of the loop.\n",
    "\n",
    "# Ans:-\n",
    "guess_me=7\n",
    "start=1\n",
    "while start<=guess_me:\n",
    "    if start<guess_me:\n",
    "        print(\"too low!\")\n",
    "    elif start==guess_me:\n",
    "        print(\"Found It!\")\n",
    "    elif start>guess_me:\n",
    "        print(\"oops\")\n",
    "        break\n",
    "    start+=1"
   ]
  },
  {
   "cell_type": "code",
   "execution_count": 4,
   "id": "5223839e",
   "metadata": {},
   "outputs": [
    {
     "name": "stdout",
     "output_type": "stream",
     "text": [
      "3\n",
      "2\n",
      "1\n",
      "0\n"
     ]
    }
   ],
   "source": [
    "# 3. Print the following values of the list [3, 2, 1, 0] using a for loop.\n",
    "list=[i for i in range(0,4)]\n",
    "list=list[::-1]\n",
    "for i in list:\n",
    "    print(i)"
   ]
  },
  {
   "cell_type": "code",
   "execution_count": 5,
   "id": "ef24ff1c",
   "metadata": {},
   "outputs": [
    {
     "data": {
      "text/plain": [
       "[2, 4, 6, 8, 10]"
      ]
     },
     "execution_count": 5,
     "metadata": {},
     "output_type": "execute_result"
    }
   ],
   "source": [
    "# 4. Use a list comprehension to make a list of the even numbers in range(10)\n",
    "# Ans:\n",
    "list=[i for i in range(1,10+1) if i%2==0]\n",
    "list"
   ]
  },
  {
   "cell_type": "code",
   "execution_count": 6,
   "id": "576ac516",
   "metadata": {},
   "outputs": [
    {
     "data": {
      "text/plain": [
       "{1: 1, 2: 4, 3: 9, 4: 16, 5: 25, 6: 36, 7: 49, 8: 64, 9: 81, 10: 100}"
      ]
     },
     "execution_count": 6,
     "metadata": {},
     "output_type": "execute_result"
    }
   ],
   "source": [
    "# 5. Use a dictionary comprehension to create the dictionary squares. Use range(10) to return the\n",
    "# keys, and use the square of each key as its value.\n",
    "dt_sq={i:i*i for i in range(1,10+1)}\n",
    "dt_sq"
   ]
  },
  {
   "cell_type": "code",
   "execution_count": 7,
   "id": "4f920222",
   "metadata": {},
   "outputs": [
    {
     "data": {
      "text/plain": [
       "{1, 3, 5, 7, 9}"
      ]
     },
     "execution_count": 7,
     "metadata": {},
     "output_type": "execute_result"
    }
   ],
   "source": [
    "# 6. Construct the set odd from the odd numbers in the range using a set comprehension (10).\n",
    "# Ans:-\n",
    "set_odd={i for i in range(1,10) if i%2==1}\n",
    "set_odd"
   ]
  },
  {
   "cell_type": "code",
   "execution_count": 8,
   "id": "fc614902",
   "metadata": {},
   "outputs": [
    {
     "name": "stdout",
     "output_type": "stream",
     "text": [
      "Got_0 Got_1 Got_2 Got_3 Got_4 Got_5 Got_6 Got_7 Got_8 Got_9 "
     ]
    }
   ],
   "source": [
    "# 7. Use a generator comprehension to return the string 'Got ' and a number for the numbers in\n",
    "# range(10). Iterate through this by using a for loop.\n",
    "# Ans:-\n",
    "gen=('Got_'+str(i) for i in range(10))\n",
    "for i in gen:\n",
    "    print(i,end=\" \")"
   ]
  },
  {
   "cell_type": "code",
   "execution_count": 9,
   "id": "cd66234a",
   "metadata": {},
   "outputs": [
    {
     "data": {
      "text/plain": [
       "['Harry', 'Ron', 'Hermione']"
      ]
     },
     "execution_count": 9,
     "metadata": {},
     "output_type": "execute_result"
    }
   ],
   "source": [
    "# 8. Define a function called good that returns the list ['Harry', 'Ron', 'Hermione'].\n",
    "# Ans:-\n",
    "def good():\n",
    "    return ['Harry', 'Ron', 'Hermione']\n",
    "good()"
   ]
  },
  {
   "cell_type": "code",
   "execution_count": 10,
   "id": "2de00cbf",
   "metadata": {},
   "outputs": [
    {
     "name": "stdout",
     "output_type": "stream",
     "text": [
      "1\n",
      "3\n",
      "5\n"
     ]
    }
   ],
   "source": [
    "# 9. Define a generator function called get_odds that returns the odd numbers from range(10). Use a\n",
    "# for loop to find and print the third value returned.\n",
    "# Ans:-\n",
    "def get_odds(no):\n",
    "    for i in range(1,no+1):\n",
    "        if i%2==1:\n",
    "            yield i\n",
    "result=get_odds(10)\n",
    "for i in range(3):\n",
    "    print(next(result))"
   ]
  },
  {
   "cell_type": "code",
   "execution_count": 11,
   "id": "06e30af7",
   "metadata": {},
   "outputs": [
    {
     "name": "stdout",
     "output_type": "stream",
     "text": [
      "Enter the number :-20\n",
      "Caught an oops name 'test' is not defined\n"
     ]
    }
   ],
   "source": [
    "# 10. Define an exception called OopsException. Raise this exception to see what happens. Then write\n",
    "# the code to catch this exception and print 'Caught an oops'.\n",
    "# Ans:-\n",
    "class OopsException(Exception):\n",
    "    def test(no):\n",
    "        if no==0 and no<=-1:\n",
    "            raise OopsException\n",
    "\n",
    "try:\n",
    "    no=int(input(\"Enter the number :\"))\n",
    "    test(no)\n",
    "except Exception as e:\n",
    "    print(\"Caught an oops\",e)"
   ]
  },
  {
   "cell_type": "code",
   "execution_count": 12,
   "id": "5fdc376d",
   "metadata": {},
   "outputs": [
    {
     "data": {
      "text/plain": [
       "{'Creature of Habit': 'A nun turns into a monster',\n",
       " 'Crewel Fate': 'A haunted yarn shop'}"
      ]
     },
     "execution_count": 12,
     "metadata": {},
     "output_type": "execute_result"
    }
   ],
   "source": [
    "# 11. Use zip() to make a dictionary called movies that pairs these lists: titles = ['Creature of Habit',\n",
    "# 'Crewel Fate'] and plots = ['A nun turns into a monster', 'A haunted yarn shop'].\n",
    "# Ans:-\n",
    "    \n",
    "titles = ['Creature of Habit','Crewel Fate']\n",
    "plots = ['A nun turns into a monster', 'A haunted yarn shop']\n",
    "dictionary_dt=dict(zip(titles,plots))\n",
    "dictionary_dt"
   ]
  },
  {
   "cell_type": "code",
   "execution_count": null,
   "id": "9e3ae856",
   "metadata": {},
   "outputs": [],
   "source": []
  },
  {
   "cell_type": "code",
   "execution_count": null,
   "id": "a4d4f239",
   "metadata": {},
   "outputs": [],
   "source": []
  },
  {
   "cell_type": "code",
   "execution_count": null,
   "id": "4c328428",
   "metadata": {},
   "outputs": [],
   "source": []
  },
  {
   "cell_type": "code",
   "execution_count": null,
   "id": "b048b323",
   "metadata": {},
   "outputs": [],
   "source": []
  }
 ],
 "metadata": {
  "kernelspec": {
   "display_name": "Python 3",
   "language": "python",
   "name": "python3"
  },
  "language_info": {
   "codemirror_mode": {
    "name": "ipython",
    "version": 3
   },
   "file_extension": ".py",
   "mimetype": "text/x-python",
   "name": "python",
   "nbconvert_exporter": "python",
   "pygments_lexer": "ipython3",
   "version": "3.8.8"
  }
 },
 "nbformat": 4,
 "nbformat_minor": 5
}
