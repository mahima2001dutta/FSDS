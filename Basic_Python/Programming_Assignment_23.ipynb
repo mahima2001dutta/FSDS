{
 "cells": [
  {
   "cell_type": "markdown",
   "id": "3b8368dc",
   "metadata": {
    "id": "3b8368dc"
   },
   "source": [
    "#### 1.Create a function that takes a number as an argument and returns True or False depending on whether the number is symmetrical or not. A number is symmetrical when it is the same as its reverse.\n",
    "**Examples:**    \n",
    "`is_symmetrical(7227) ➞ True`  \n",
    "`is_symmetrical(12567) ➞ False`  \n",
    "`is_symmetrical(44444444) ➞ True`  \n",
    "`is_symmetrical(9939) ➞ False`  \n",
    "`is_symmetrical(1112111) ➞ True`  "
   ]
  },
  {
   "cell_type": "code",
   "execution_count": 1,
   "id": "c26dbf7e",
   "metadata": {
    "id": "c26dbf7e",
    "outputId": "bb6fbccf-8931-42ca-d01b-e547dcb9165c"
   },
   "outputs": [
    {
     "name": "stdout",
     "output_type": "stream",
     "text": [
      "7227 ➞ True\n",
      "12567 ➞ False\n",
      "44444444 ➞ True\n",
      "9939 ➞ False\n",
      "1112111 ➞ True\n"
     ]
    }
   ],
   "source": [
    "def is_symmetrical(input_num):\n",
    "    if str(input_num) == str(input_num)[::-1]:\n",
    "        print(f'{input_num} ➞ {True}')\n",
    "    else:\n",
    "        print(f'{input_num} ➞ {False}')\n",
    "\n",
    "is_symmetrical(7227)\n",
    "is_symmetrical(12567)\n",
    "is_symmetrical(44444444)\n",
    "is_symmetrical(9939)\n",
    "is_symmetrical(1112111)"
   ]
  },
  {
   "cell_type": "markdown",
   "id": "45b97989",
   "metadata": {
    "id": "45b97989"
   },
   "source": [
    "#### 2.Given a string of numbers separated by a comma and space, return the product of the numbers.\n",
    "**Examples:**  \n",
    "`multiply_nums(\"2, 3\") ➞ 6`  \n",
    "`multiply_nums(\"1, 2, 3, 4\") ➞ 24`  \n",
    "`multiply_nums(\"54, 75, 453, 0\") ➞ 0`  \n",
    "`multiply_nums(\"10, -2\") ➞ -20`  "
   ]
  },
  {
   "cell_type": "code",
   "execution_count": 2,
   "id": "60133913",
   "metadata": {
    "id": "60133913",
    "outputId": "a469f52d-8ea4-4777-f310-93c308f967f7"
   },
   "outputs": [
    {
     "name": "stdout",
     "output_type": "stream",
     "text": [
      "2, 3 ➞ 6\n",
      "1, 2, 3, 4 ➞ 24\n",
      "54, 75, 453, 0 ➞ 0\n",
      "10, -2 ➞ -20\n"
     ]
    }
   ],
   "source": [
    "def multiply_nums(input_string):\n",
    "    output_string = input_string.replace(' ','').split(',')\n",
    "    output_num = 1\n",
    "    for i in output_string:\n",
    "        output_num *= int(i)\n",
    "    print(f'{input_string} ➞ {output_num}')\n",
    "    \n",
    "multiply_nums(\"2, 3\")\n",
    "multiply_nums(\"1, 2, 3, 4\")\n",
    "multiply_nums(\"54, 75, 453, 0\")\n",
    "multiply_nums(\"10, -2\")"
   ]
  },
  {
   "cell_type": "markdown",
   "id": "42e17e6f",
   "metadata": {
    "id": "42e17e6f"
   },
   "source": [
    "#### 3.Create a function that squares every digit of a number.\n",
    "**Examples:**  \n",
    "`square_digits(9119) ➞ 811181`  \n",
    "`square_digits(2483) ➞ 416649`  \n",
    "`square_digits(3212) ➞ 9414`  \n",
    "\n",
    "**Notes:**   \n",
    "The function receives an integer and must return an integer."
   ]
  },
  {
   "cell_type": "code",
   "execution_count": 4,
   "id": "fb0d6d2b",
   "metadata": {
    "id": "fb0d6d2b",
    "outputId": "f7f3c46e-e925-456a-ffbb-5936de1d59ee"
   },
   "outputs": [
    {
     "name": "stdout",
     "output_type": "stream",
     "text": [
      "9119 ➞ 811181\n",
      "2483 ➞ 416649\n",
      "3212 ➞ 9414\n"
     ]
    }
   ],
   "source": [
    "def square_digits(input_num):\n",
    "    input_list = [str(int(i) ** 2) for i in str(input_num)]\n",
    "    output_list = ''.join(input_list)\n",
    "    print(f'{input_num} ➞ {int(output_list)}')\n",
    "\n",
    "square_digits(9119)\n",
    "square_digits(2483)\n",
    "square_digits(3212)"
   ]
  },
  {
   "cell_type": "markdown",
   "id": "5edc0e1b",
   "metadata": {
    "id": "5edc0e1b"
   },
   "source": [
    "#### 4.Create a function that sorts a list and removes all duplicate items from it.\n",
    "**Examples:**  \n",
    "`setify([1, 3, 3, 5, 5]) ➞ [1, 3, 5]`  \n",
    "`setify([4, 4, 4, 4]) ➞ [4]`  \n",
    "`setify([5, 7, 8, 9, 10, 15]) ➞ [5, 7, 8, 9, 10, 15]`  \n",
    "`setify([3, 3, 3, 2, 1]) ➞ [1, 2, 3]`  "
   ]
  },
  {
   "cell_type": "code",
   "execution_count": 6,
   "id": "8ca50bbd",
   "metadata": {
    "id": "8ca50bbd",
    "outputId": "d8865cf5-4221-487e-bcc4-614894b7772c"
   },
   "outputs": [
    {
     "name": "stdout",
     "output_type": "stream",
     "text": [
      "[1, 3, 3, 5, 5] ➞ [1, 3, 5]\n",
      "[4, 4, 4, 4] ➞ [4]\n",
      "[5, 7, 8, 9, 10, 15] ➞ [5, 7, 8, 9, 10, 15]\n",
      "[3, 3, 3, 2, 1] ➞ [1, 2, 3]\n"
     ]
    }
   ],
   "source": [
    "def setify(input_list):\n",
    "    output_list = sorted(set(input_list))\n",
    "    print(f'{input_list} ➞ {output_list}')\n",
    "    \n",
    "setify([1, 3, 3, 5, 5]) \n",
    "setify([4, 4, 4, 4])\n",
    "setify([5, 7, 8, 9, 10, 15])\n",
    "setify([3, 3, 3, 2, 1])"
   ]
  },
  {
   "cell_type": "markdown",
   "id": "02d28ede",
   "metadata": {
    "id": "02d28ede"
   },
   "source": [
    "#### 5.Create a function that returns the mean of all digits.\n",
    "**Examples:**  \n",
    "`mean(42) ➞ 3`  \n",
    "`mean(12345) ➞ 3`  \n",
    "`mean(666) ➞ 6`  \n",
    "\n",
    "**Notes:**   \n",
    "    1.The mean of all digits is the sum of digits / how many digits there are (e.g. mean of digits in 512 is (5+1+2)/3(number of digits) = 8/3=2).  \n",
    "    2.The mean will always be an integer."
   ]
  },
  {
   "cell_type": "code",
   "execution_count": 7,
   "id": "30baa94c",
   "metadata": {
    "id": "30baa94c",
    "outputId": "b7d75f5a-dd62-4a67-ec1e-79e24ee5c336"
   },
   "outputs": [
    {
     "name": "stdout",
     "output_type": "stream",
     "text": [
      "Mean of 42  ➞ 3\n",
      "Mean of 12345  ➞ 3\n",
      "Mean of 666  ➞ 6\n"
     ]
    }
   ],
   "source": [
    "def mean(input_num):\n",
    "    input_list = [int(i) for i in str(input_num)]\n",
    "    output_num = sum(input_list)/len(str(input_num))\n",
    "    print(f'Mean of {input_num}  ➞ {output_num:.0f}')\n",
    "    \n",
    "mean(42)\n",
    "mean(12345)\n",
    "mean(666)"
   ]
  },
  {
   "cell_type": "code",
   "execution_count": null,
   "id": "08c2f627",
   "metadata": {},
   "outputs": [],
   "source": []
  }
 ],
 "metadata": {
  "colab": {
   "name": "Basic_Programming Assignment_23.ipynb",
   "provenance": []
  },
  "kernelspec": {
   "display_name": "Python 3 (ipykernel)",
   "language": "python",
   "name": "python3"
  },
  "language_info": {
   "codemirror_mode": {
    "name": "ipython",
    "version": 3
   },
   "file_extension": ".py",
   "mimetype": "text/x-python",
   "name": "python",
   "nbconvert_exporter": "python",
   "pygments_lexer": "ipython3",
   "version": "3.9.12"
  }
 },
 "nbformat": 4,
 "nbformat_minor": 5
}
