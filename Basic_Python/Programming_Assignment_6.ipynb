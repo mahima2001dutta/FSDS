{
 "cells": [
  {
   "cell_type": "code",
   "execution_count": 4,
   "id": "02885056",
   "metadata": {},
   "outputs": [
    {
     "name": "stdout",
     "output_type": "stream",
     "text": [
      "Enter the number :10\n",
      "0 1 1 2 3 5 8 13 21 34 "
     ]
    }
   ],
   "source": [
    "# 1. Write a Python Program to Display Fibonacci Sequence Using Recursion?\n",
    "# Ans:-\n",
    "def fibo(no):\n",
    "    if no==1:\n",
    "        return 0\n",
    "    elif no==2:\n",
    "        return 1\n",
    "    else:\n",
    "        return fibo(no-1)+fibo(no-2)\n",
    "no=int(input(\"Enter the number :\"))\n",
    "for i in range(1,no+1):\n",
    "    print(fibo(i),end=\" \")"
   ]
  },
  {
   "cell_type": "code",
   "execution_count": 2,
   "id": "4a5b7087",
   "metadata": {},
   "outputs": [
    {
     "name": "stdout",
     "output_type": "stream",
     "text": [
      "Enter the number :20\n",
      "The factorial of 20 is 2432902008176640000\n"
     ]
    }
   ],
   "source": [
    "# 2. Write a Python Program to Find Factorial of Number Using Recursion?\n",
    "# Ans:-\n",
    "no=int(input(\"Enter the number :\"))\n",
    "def fact(no):\n",
    "    if no>1:\n",
    "        return no*fact(no-1)\n",
    "    else:\n",
    "        return 1\n",
    "print(\"The factorial of\",no,\"is\",fact(no))"
   ]
  },
  {
   "cell_type": "code",
   "execution_count": 12,
   "id": "4ea18db5",
   "metadata": {},
   "outputs": [
    {
     "name": "stdout",
     "output_type": "stream",
     "text": [
      "Enter your weight in kg :-54\n",
      "Enter your height in m :-1.65\n",
      "Your Body Mass Index is 19.834710743801654\n"
     ]
    }
   ],
   "source": [
    "# 3. Write a Python Program to calculate your Body Mass Index?\n",
    "# Ans:-\n",
    "# Metric units \n",
    "weight=int(input(\"Enter your weight in kg :-\"))\n",
    "height=float(input(\"Enter your height in m :-\"))\n",
    "BMI=weight/(height*height)\n",
    "print(\"Your Body Mass Index is\",BMI)"
   ]
  },
  {
   "cell_type": "code",
   "execution_count": 14,
   "id": "5e6abd78",
   "metadata": {},
   "outputs": [
    {
     "name": "stdout",
     "output_type": "stream",
     "text": [
      "Enter the number :3\n",
      "The log of 3 is 1.0986122886681098\n"
     ]
    }
   ],
   "source": [
    "# 4. Write a Python Program to calculate the natural logarithm of any number?\n",
    "# Ans:-\n",
    "import math\n",
    "no=int(input(\"Enter the number :\"))\n",
    "print(\"The log of {} is\".format(no),math.log(no))"
   ]
  },
  {
   "cell_type": "code",
   "execution_count": 5,
   "id": "a2f18ff0",
   "metadata": {},
   "outputs": [
    {
     "name": "stdout",
     "output_type": "stream",
     "text": [
      "Enter the number :5\n",
      "Cube Sum of 5 is 225\n"
     ]
    }
   ],
   "source": [
    "# 5. Write a Python Program for cube sum of first n natural numbers?\n",
    "no=int(input(\"Enter the number :\"))\n",
    "x=[i**3 for i in range(no+1)]\n",
    "print(\"Cube Sum of {} is\".format(no),sum(x))"
   ]
  },
  {
   "cell_type": "code",
   "execution_count": null,
   "id": "62ea3c95",
   "metadata": {},
   "outputs": [],
   "source": []
  }
 ],
 "metadata": {
  "kernelspec": {
   "display_name": "Python 3",
   "language": "python",
   "name": "python3"
  },
  "language_info": {
   "codemirror_mode": {
    "name": "ipython",
    "version": 3
   },
   "file_extension": ".py",
   "mimetype": "text/x-python",
   "name": "python",
   "nbconvert_exporter": "python",
   "pygments_lexer": "ipython3",
   "version": "3.8.8"
  }
 },
 "nbformat": 4,
 "nbformat_minor": 5
}
