{
 "cells": [
  {
   "cell_type": "code",
   "execution_count": null,
   "id": "c70e7d25",
   "metadata": {},
   "outputs": [],
   "source": [
    "# 1. What are escape characters, and how do you use them?\n",
    "# Ans:-\n",
    "An escape character is the \\ back slash followed by the character in it.\n",
    "We use them inside a string."
   ]
  },
  {
   "cell_type": "code",
   "execution_count": null,
   "id": "84dff1b1",
   "metadata": {},
   "outputs": [],
   "source": [
    "# 2. What do the escape characters n and t stand for?\n",
    "# Ans:-\n",
    "\\n stands for new line character.\n",
    "\\t stands for one tab of space."
   ]
  },
  {
   "cell_type": "code",
   "execution_count": 1,
   "id": "664d8c70",
   "metadata": {},
   "outputs": [
    {
     "name": "stdout",
     "output_type": "stream",
     "text": [
      "This is a \n",
      " String of words\n"
     ]
    }
   ],
   "source": [
    "# 3. What is the way to include backslash characters in a string?\n",
    "# Ans:-\n",
    "print(\"This is a \\n String of words\")"
   ]
  },
  {
   "cell_type": "code",
   "execution_count": 5,
   "id": "2587e2b3",
   "metadata": {},
   "outputs": [
    {
     "name": "stdout",
     "output_type": "stream",
     "text": [
      "This is a 'String'\n",
      "This is a \"String\"\n"
     ]
    }
   ],
   "source": [
    "# 4. The string \"Howl's Moving Castle\" is a correct value. Why isnt the\n",
    "# single quote character in the word Howls not escaped a problem?\n",
    "# Ans:-\n",
    "# Because in python if we want to print single quote in a string we can use \n",
    "# double quote in start and end, vice and versa for double quote.\n",
    "print(\"This is a 'String'\")\n",
    "print('This is a \"String\"')"
   ]
  },
  {
   "cell_type": "code",
   "execution_count": 8,
   "id": "4295aa74",
   "metadata": {},
   "outputs": [
    {
     "name": "stdout",
     "output_type": "stream",
     "text": [
      "This is a first line\n",
      "This is a second line\n"
     ]
    }
   ],
   "source": [
    "# 5. How do you write a string of newlines if you dont want to use the n character?\n",
    "# Ans:-\n",
    "# We can use another print statment or we can use another variable.\n",
    "print(\"This is a first line\")\n",
    "print(\"This is a second line\")"
   ]
  },
  {
   "cell_type": "code",
   "execution_count": 15,
   "id": "850d1d3f",
   "metadata": {},
   "outputs": [],
   "source": [
    "# 6. What are the values of the given expressions?\n",
    "# 'Hello, world!'[1]\n",
    "# 'Hello, world!'[0:5]\n",
    "# 'Hello, world!'[:5]\n",
    "# 'Hello, world!'[3:]\n",
    "# Ans:-\n",
    "'Hello, world!'[1] is 'e'\n",
    "'Hello, world!'[0:5] is 'Hello'\n",
    "'Hello, world!'[:5] is 'Hello'\n",
    "'Hello, world!'[3:] is 'lo, world!'"
   ]
  },
  {
   "cell_type": "code",
   "execution_count": null,
   "id": "3820fdc7",
   "metadata": {},
   "outputs": [],
   "source": [
    "# 7. What are the values of the following expressions?\n",
    "# 'Hello'.upper()\n",
    "# 'Hello'.upper().isupper()\n",
    "# 'Hello'.upper().lower()\n",
    "# Ans:-\n",
    "'Hello'.upper() is 'HELLO'\n",
    "'Hello'.upper().isupper() is True\n",
    "'Hello'.upper().lower() is 'hello'"
   ]
  },
  {
   "cell_type": "code",
   "execution_count": 24,
   "id": "7768deeb",
   "metadata": {},
   "outputs": [
    {
     "name": "stdout",
     "output_type": "stream",
     "text": [
      "['Remember,', 'remember,', 'the', 'fifth', 'of', 'July.']\n",
      "\n",
      "There-can-only-one.\n"
     ]
    }
   ],
   "source": [
    "# 8. What are the values of the following expressions?\n",
    "# 'Remember, remember, the fifth of July.'.split()\n",
    "# '-'.join('There can only one.'.split())\n",
    "# Ans:-\n",
    "print('Remember, remember, the fifth of July.'.split())\n",
    "print()\n",
    "print('-'.join('There can only one.'.split()))"
   ]
  },
  {
   "cell_type": "code",
   "execution_count": null,
   "id": "413131fb",
   "metadata": {},
   "outputs": [],
   "source": [
    "# 9. What are the methods for right-justifying, left-justifying, and centering a string?\n"
   ]
  },
  {
   "cell_type": "code",
   "execution_count": 26,
   "id": "d9679147",
   "metadata": {},
   "outputs": [
    {
     "data": {
      "text/plain": [
       "'Aman'"
      ]
     },
     "execution_count": 26,
     "metadata": {},
     "output_type": "execute_result"
    }
   ],
   "source": [
    "# 10. What is the best way to remove whitespace characters from the start or end?\n",
    "# Ans:-\n",
    "name=\"     Aman     \"\n",
    "name.strip()"
   ]
  },
  {
   "cell_type": "code",
   "execution_count": null,
   "id": "30c55684",
   "metadata": {},
   "outputs": [],
   "source": []
  }
 ],
 "metadata": {
  "kernelspec": {
   "display_name": "Python 3",
   "language": "python",
   "name": "python3"
  },
  "language_info": {
   "codemirror_mode": {
    "name": "ipython",
    "version": 3
   },
   "file_extension": ".py",
   "mimetype": "text/x-python",
   "name": "python",
   "nbconvert_exporter": "python",
   "pygments_lexer": "ipython3",
   "version": "3.8.8"
  }
 },
 "nbformat": 4,
 "nbformat_minor": 5
}
