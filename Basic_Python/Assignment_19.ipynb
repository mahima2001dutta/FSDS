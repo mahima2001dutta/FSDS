{
 "cells": [
  {
   "cell_type": "code",
   "execution_count": 2,
   "id": "2da79ece",
   "metadata": {},
   "outputs": [
    {
     "name": "stdout",
     "output_type": "stream",
     "text": [
      "<class '__main__.Thing'>\n",
      "<__main__.Thing object at 0x000002D6533A2DC0>\n"
     ]
    }
   ],
   "source": [
    "# 1. Make a class called Thing with no contents and print it. Then, create an object called example\n",
    "# from this class and also print it. Are the printed values the same or different?\n",
    "# Ans:-\n",
    "\n",
    "class Thing():\n",
    "    pass\n",
    "print(Thing)\n",
    "example=Thing()\n",
    "print(example)\n",
    "# Class is same object is different"
   ]
  },
  {
   "cell_type": "code",
   "execution_count": 3,
   "id": "fe821364",
   "metadata": {},
   "outputs": [
    {
     "name": "stdout",
     "output_type": "stream",
     "text": [
      "abc\n"
     ]
    }
   ],
   "source": [
    "# 2. Create a new class called Thing2 and add the value 'abc' to the letters class attribute.\n",
    "# Letters should be printed.\n",
    "\n",
    "class Thing2():\n",
    "    letter='abc'\n",
    "print(Thing2.letter)"
   ]
  },
  {
   "cell_type": "code",
   "execution_count": 6,
   "id": "fbddb418",
   "metadata": {},
   "outputs": [
    {
     "name": "stdout",
     "output_type": "stream",
     "text": [
      "xyz\n"
     ]
    }
   ],
   "source": [
    "# 3. Make yet another class called, of course, Thing3. This time, assign the value 'xyz' to an instance\n",
    "# (object) attribute called letters. Print letters. Do you need to make an object from the class to do\n",
    "# this?\n",
    "# Ans:-\n",
    "\n",
    "class Things3():\n",
    "    def __init__(self,letters):\n",
    "        self.letters=letters\n",
    "obj=Things3('xyz')\n",
    "print(obj.letters)"
   ]
  },
  {
   "cell_type": "code",
   "execution_count": 1,
   "id": "d0fc8a0d",
   "metadata": {},
   "outputs": [
    {
     "data": {
      "text/plain": [
       "'Hydrogen'"
      ]
     },
     "execution_count": 1,
     "metadata": {},
     "output_type": "execute_result"
    }
   ],
   "source": [
    "# 4. Create an Element class with the instance attributes name, symbol, and number. Create a class\n",
    "# object with the values 'Hydrogen,' 'H,' and 1.\n",
    "# Ans:-\n",
    "class Element():\n",
    "    def __init__(self,name,symbol,number):\n",
    "        self.name=name\n",
    "        self.symbol=symbol\n",
    "        self.number=number\n",
    "\n",
    "obj1=Element('Hydrogen', 'H',1)\n",
    "obj1.name"
   ]
  },
  {
   "cell_type": "code",
   "execution_count": 2,
   "id": "6bb04dad",
   "metadata": {},
   "outputs": [
    {
     "name": "stdout",
     "output_type": "stream",
     "text": [
      "Hydrogen\n",
      "H\n",
      "1\n",
      "Hydrogen\n",
      "H\n",
      "1\n",
      "Hydrogen\n",
      "H\n",
      "1\n"
     ]
    }
   ],
   "source": [
    "# 5. Make a dictionary with these keys and values: 'name': 'Hydrogen', 'symbol': 'H', 'number': 1. Then,\n",
    "# create an object called hydrogen from class Element using this dictionary.\n",
    "# Ans:-\n",
    "dt={'name': 'Hydrogen', 'symbol': 'H', 'number': 1}\n",
    "hydrogen=Element(dt['name'],dt['symbol'],dt['number'])\n",
    "print(hydrogen.name)\n",
    "print(hydrogen.symbol)\n",
    "print(hydrogen.number)\n",
    "\n",
    "hydrogen=Element(**dt)\n",
    "print(hydrogen.name)\n",
    "print(hydrogen.symbol)\n",
    "print(hydrogen.number)\n",
    "\n",
    "hydrogen=Element(*dt.values())\n",
    "print(hydrogen.name)\n",
    "print(hydrogen.symbol)\n",
    "print(hydrogen.number)"
   ]
  },
  {
   "cell_type": "code",
   "execution_count": 3,
   "id": "839da617",
   "metadata": {},
   "outputs": [
    {
     "name": "stdout",
     "output_type": "stream",
     "text": [
      "Hydrogen\n",
      "H\n",
      "1\n"
     ]
    }
   ],
   "source": [
    "# 6. For the Element class, define a method called dump() that prints the values of the object’s\n",
    "# attributes (name, symbol, and number). Create the hydrogen object from this new definition and\n",
    "# use dump() to print its attributes.\n",
    "# Ans:-\n",
    "class Element():\n",
    "    def __init__(self,name,symbol,number):\n",
    "        self.name=name\n",
    "        self.symbol=symbol\n",
    "        self.number=number\n",
    "    \n",
    "    def dump(self):\n",
    "        print(self.name)\n",
    "        print(self.symbol)\n",
    "        print(self.number)\n",
    "\n",
    "hydrogen=Element(**dt)\n",
    "hydrogen.dump()"
   ]
  },
  {
   "cell_type": "code",
   "execution_count": 4,
   "id": "037325a3",
   "metadata": {},
   "outputs": [
    {
     "name": "stdout",
     "output_type": "stream",
     "text": [
      "<__main__.Element object at 0x000001B7A44C0550>\n",
      "Hydrogen H 1\n"
     ]
    }
   ],
   "source": [
    "# 7. Call print(hydrogen). In the definition of Element, change the name of method dump to __str__,\n",
    "# create a new hydrogen object, and call print(hydrogen) again.\n",
    "# Ans:-\n",
    "print(hydrogen)\n",
    "class Element():\n",
    "    def __init__(self,name,symbol,number):\n",
    "        self.name=name\n",
    "        self.symbol=symbol\n",
    "        self.number=number\n",
    "    \n",
    "    def __str__(self):\n",
    "        return f\"{self.name} {self.symbol} {self.number}\"\n",
    "        \n",
    "hydrogen=Element(**dt)\n",
    "print(hydrogen)\n"
   ]
  },
  {
   "cell_type": "code",
   "execution_count": 8,
   "id": "7b464c05",
   "metadata": {},
   "outputs": [
    {
     "name": "stdout",
     "output_type": "stream",
     "text": [
      "Hydrogen\n",
      "1\n",
      "H\n"
     ]
    }
   ],
   "source": [
    "# 8. Modify Element to make the attributes name, symbol, and number private. Define a getter\n",
    "# property for each to return its value.\n",
    "# Ans:-\n",
    "class Element():\n",
    "    def __init__(self,name,symbol,number):\n",
    "        self.__name=name\n",
    "        self.__symbol=symbol\n",
    "        self.__number=number\n",
    "   \n",
    "    @property\n",
    "    def getName(self):\n",
    "        return self.__name\n",
    "    \n",
    "    @property\n",
    "    def getSymbol(self):\n",
    "        return self.__symbol\n",
    "    \n",
    "    @property\n",
    "    def getNumber(self):\n",
    "        return self.__number\n",
    "\n",
    "hydrogen=Element(**dt)\n",
    "print(hydrogen.getName)\n",
    "print(hydrogen.getNumber)\n",
    "print(hydrogen.getSymbol)"
   ]
  },
  {
   "cell_type": "code",
   "execution_count": 10,
   "id": "6f37502b",
   "metadata": {},
   "outputs": [
    {
     "name": "stdout",
     "output_type": "stream",
     "text": [
      "berries\n",
      "clover\n",
      "campers\n"
     ]
    }
   ],
   "source": [
    "# 9. Define three classes: Bear, Rabbit, and Octothorpe. For each, define only one method: eats(). This\n",
    "# should return 'berries' (Bear), 'clover' (Rabbit), or 'campers' (Octothorpe). Create one object from\n",
    "# each and print what it eats.\n",
    "# Ans:-\n",
    "\n",
    "class Bear():\n",
    "    def eats(self):\n",
    "        return 'berries'\n",
    "\n",
    "class Rabbit():\n",
    "    def eats(self):\n",
    "        return 'clover'\n",
    "\n",
    "class Octothorpe():\n",
    "    def eats(self):\n",
    "        return 'campers'\n",
    "\n",
    "bear=Bear()\n",
    "print(bear.eats())\n",
    "rabbit=Rabbit()\n",
    "print(rabbit.eats())\n",
    "octothorpe=Octothorpe()\n",
    "print(octothorpe.eats())"
   ]
  },
  {
   "cell_type": "code",
   "execution_count": 13,
   "id": "92b87faa",
   "metadata": {},
   "outputs": [
    {
     "data": {
      "text/plain": [
       "'disintegrate and crush and ring'"
      ]
     },
     "execution_count": 13,
     "metadata": {},
     "output_type": "execute_result"
    }
   ],
   "source": [
    "# 10. Define these classes: Laser, Claw, and SmartPhone. Each has only one method: does(). This\n",
    "# returns 'disintegrate' (Laser), 'crush' (Claw), or 'ring' (SmartPhone). Then, define the class Robot that\n",
    "# has one instance (object) of each of these. Define a does() method for the Robot that prints what its\n",
    "# component objects do.\n",
    "# Ans:-\n",
    "class Laser():\n",
    "    def does(self):\n",
    "        return 'disintegrate'\n",
    "\n",
    "class Claw():\n",
    "    def does(self):\n",
    "        return 'crush'\n",
    "\n",
    "class SmartPhone():\n",
    "    def does(self):\n",
    "        return 'ring'\n",
    "\n",
    "class SmartPhone():\n",
    "    def does(self):\n",
    "        return 'ring'\n",
    "\n",
    "class Robot():\n",
    "    def __init__(self):\n",
    "        self.laser=Laser()\n",
    "        self.claw=Claw()\n",
    "        self.smartphone=SmartPhone()\n",
    "\n",
    "    def does(self):\n",
    "        return f\"{self.laser.does()} and {self.claw.does()} and {self.smartphone.does()}\"\n",
    "\n",
    "chiti=Robot()\n",
    "chiti.does()"
   ]
  },
  {
   "cell_type": "code",
   "execution_count": null,
   "id": "4209093f",
   "metadata": {},
   "outputs": [],
   "source": []
  },
  {
   "cell_type": "code",
   "execution_count": null,
   "id": "f555b75c",
   "metadata": {},
   "outputs": [],
   "source": []
  },
  {
   "cell_type": "code",
   "execution_count": null,
   "id": "97b3c86d",
   "metadata": {},
   "outputs": [],
   "source": []
  },
  {
   "cell_type": "code",
   "execution_count": null,
   "id": "52961bfc",
   "metadata": {},
   "outputs": [],
   "source": []
  },
  {
   "cell_type": "code",
   "execution_count": null,
   "id": "39d6b1c8",
   "metadata": {},
   "outputs": [],
   "source": []
  },
  {
   "cell_type": "code",
   "execution_count": null,
   "id": "66f47ac4",
   "metadata": {},
   "outputs": [],
   "source": []
  },
  {
   "cell_type": "code",
   "execution_count": null,
   "id": "70723f41",
   "metadata": {},
   "outputs": [],
   "source": []
  }
 ],
 "metadata": {
  "kernelspec": {
   "display_name": "Python 3",
   "language": "python",
   "name": "python3"
  },
  "language_info": {
   "codemirror_mode": {
    "name": "ipython",
    "version": 3
   },
   "file_extension": ".py",
   "mimetype": "text/x-python",
   "name": "python",
   "nbconvert_exporter": "python",
   "pygments_lexer": "ipython3",
   "version": "3.8.8"
  }
 },
 "nbformat": 4,
 "nbformat_minor": 5
}
