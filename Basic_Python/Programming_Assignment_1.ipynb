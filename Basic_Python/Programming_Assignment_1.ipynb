{
 "cells": [
  {
   "cell_type": "code",
   "execution_count": 2,
   "id": "4eb6db0f",
   "metadata": {},
   "outputs": [
    {
     "name": "stdout",
     "output_type": "stream",
     "text": [
      "Hello Python\n"
     ]
    }
   ],
   "source": [
    "# 1.\tWrite a Python program to print \"Hello Python\"?\n",
    "# Ans:-\n",
    "print(\"Hello Python\")"
   ]
  },
  {
   "cell_type": "code",
   "execution_count": 4,
   "id": "33bdab41",
   "metadata": {},
   "outputs": [
    {
     "name": "stdout",
     "output_type": "stream",
     "text": [
      "Enter the first number :12\n",
      "Enter the second number :2\n",
      "Addition is 14\n",
      "Division is 6.0\n"
     ]
    }
   ],
   "source": [
    "# 2.\tWrite a Python program to do arithmetical operations addition and division.?\n",
    "# Ans:-\n",
    "a=int(input(\"Enter the first number :\"))\n",
    "b=int(input(\"Enter the second number :\"))\n",
    "add=a+b\n",
    "div=a/b\n",
    "print(\"Addition is\",add)\n",
    "print(\"Division is\",div)"
   ]
  },
  {
   "cell_type": "code",
   "execution_count": 9,
   "id": "94175877",
   "metadata": {},
   "outputs": [
    {
     "name": "stdout",
     "output_type": "stream",
     "text": [
      "Enter the base of a triangle :10\n",
      "Enter the height of a triangle :11\n",
      "Area of Triangle is  55.0\n"
     ]
    }
   ],
   "source": [
    "# 3.\tWrite a Python program to find the area of a triangle?\n",
    "# Ans:-\n",
    "base=int(input(\"Enter the base of a triangle :\"))\n",
    "height=int(input(\"Enter the height of a triangle :\"))\n",
    "Area_of_triangle=1/2*base*height\n",
    "print(\"Area of Triangle is \",Area_of_triangle)"
   ]
  },
  {
   "cell_type": "code",
   "execution_count": 12,
   "id": "b44401f1",
   "metadata": {},
   "outputs": [
    {
     "name": "stdout",
     "output_type": "stream",
     "text": [
      "Enter the first number :5\n",
      "Enter the second number :6\n",
      "Before Swaping!\n",
      "a = 5\n",
      "b = 6\n",
      "After Swaping!\n",
      "a = 6\n",
      "b = 5\n"
     ]
    }
   ],
   "source": [
    "# 4.\tWrite a Python program to swap two variables?\n",
    "# Ans:-\n",
    "a=int(input(\"Enter the first number :\"))\n",
    "b=int(input(\"Enter the second number :\"))\n",
    "print(\"Before Swaping!\")\n",
    "print(\"a =\",a)\n",
    "print(\"b =\",b)\n",
    "print(\"After Swaping!\")\n",
    "a,b=b,a\n",
    "print(\"a =\",a)\n",
    "print(\"b =\",b)"
   ]
  },
  {
   "cell_type": "code",
   "execution_count": 15,
   "id": "4635fd52",
   "metadata": {},
   "outputs": [
    {
     "data": {
      "text/plain": [
       "4"
      ]
     },
     "execution_count": 15,
     "metadata": {},
     "output_type": "execute_result"
    }
   ],
   "source": [
    "# 5.\tWrite a Python program to generate a random number?\n",
    "# Ans:-\n",
    "from random import randint\n",
    "no=randint(0,10)\n",
    "no"
   ]
  },
  {
   "cell_type": "code",
   "execution_count": null,
   "id": "335e6a5b",
   "metadata": {},
   "outputs": [],
   "source": []
  }
 ],
 "metadata": {
  "kernelspec": {
   "display_name": "Python 3",
   "language": "python",
   "name": "python3"
  },
  "language_info": {
   "codemirror_mode": {
    "name": "ipython",
    "version": 3
   },
   "file_extension": ".py",
   "mimetype": "text/x-python",
   "name": "python",
   "nbconvert_exporter": "python",
   "pygments_lexer": "ipython3",
   "version": "3.8.8"
  }
 },
 "nbformat": 4,
 "nbformat_minor": 5
}
