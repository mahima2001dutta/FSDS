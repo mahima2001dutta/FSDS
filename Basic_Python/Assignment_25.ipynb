{
 "cells": [
  {
   "cell_type": "code",
   "execution_count": 3,
   "id": "99470678",
   "metadata": {},
   "outputs": [
    {
     "data": {
      "text/plain": [
       "generator"
      ]
     },
     "execution_count": 3,
     "metadata": {},
     "output_type": "execute_result"
    }
   ],
   "source": [
    "1) . What is the difference between enclosing a list comprehension in square brackets and\n",
    "parentheses?\n",
    "Ans:-\n",
    "Enclosing a list comphrension in square brackets gives the output in list form where as \n",
    "Enclosing it in a parenthesis gives out put in a generator form (generator comphrension)\n"
   ]
  },
  {
   "cell_type": "code",
   "execution_count": 4,
   "id": "6f55459c",
   "metadata": {},
   "outputs": [
    {
     "name": "stdout",
     "output_type": "stream",
     "text": [
      "<class 'list'>\n",
      "<class 'generator'>\n"
     ]
    }
   ],
   "source": [
    "x=[i for i in range(10)]\n",
    "print(type(x))\n",
    "y=(i for i in range(10))\n",
    "print(type(y))"
   ]
  },
  {
   "cell_type": "code",
   "execution_count": null,
   "id": "f4b402ce",
   "metadata": {},
   "outputs": [],
   "source": [
    "2) What is the relationship between generators and iterators?\n",
    "Ans:-\n",
    "A process that is repeated more than one time by applying the same logic is called an Iteration.\n",
    "An iterator is an object which contains a countable number of values and \n",
    "it is used to iterate over iterable objects like list, tuples, sets, etc\n",
    "\n",
    "It is another way of creating iterators in a simple way where it uses\n",
    "the keyword “yield” instead of returning it in a defined function.\n",
    "Generators are implemented using a function. \n",
    "Just as iterators, generators also follow lazy evaluation.\n",
    "Here, the yield function returns the data without affecting or exiting the function. \n",
    "It will return a sequence of data in an iterable format where we need to iterate over\n",
    "the sequence to use the data as they won’t store the entire sequence in the memory."
   ]
  },
  {
   "cell_type": "code",
   "execution_count": null,
   "id": "8a86f4ec",
   "metadata": {},
   "outputs": [],
   "source": [
    "3) What are the signs that a function is a generator function?\n",
    "Ans:-\n",
    "A generator funcion has yield insted of return."
   ]
  },
  {
   "cell_type": "code",
   "execution_count": null,
   "id": "c260d53f",
   "metadata": {},
   "outputs": [],
   "source": [
    "# 4) What is the purpose of a yield statement?\n",
    "# Ans:-\n",
    "Yield will return the object of that value\n",
    "Using yield makes the function a generator.\n",
    "The generator will continue to yield the a variable on each loop, waiting until \n",
    "the generators next() method is called to continue on to the next loop iteration."
   ]
  },
  {
   "cell_type": "code",
   "execution_count": 7,
   "id": "2e9439de",
   "metadata": {},
   "outputs": [
    {
     "name": "stdout",
     "output_type": "stream",
     "text": [
      "[0, 1, 2, 3, 4, 5, 6, 7, 8, 9]\n"
     ]
    },
    {
     "data": {
      "text/plain": [
       "[0, 1, 4, 9, 16, 25, 36, 49, 64, 81]"
      ]
     },
     "execution_count": 7,
     "metadata": {},
     "output_type": "execute_result"
    }
   ],
   "source": [
    "# 5) What is the relationship between map calls and list comprehensions? Make a comparison and\n",
    "# contrast between the two.\n",
    "# Ans:-\n",
    "# A map() function will map the iterator with a function.\n",
    "# where as list comprehension is another way writing a loop and condition\n",
    "x=[i for i in range(10)]\n",
    "print(x)\n",
    "def sqr(x):\n",
    "    return x*x\n",
    "list(map(sqr,x))"
   ]
  },
  {
   "cell_type": "code",
   "execution_count": null,
   "id": "e72bb272",
   "metadata": {},
   "outputs": [],
   "source": []
  },
  {
   "cell_type": "code",
   "execution_count": null,
   "id": "c0aec24d",
   "metadata": {},
   "outputs": [],
   "source": []
  }
 ],
 "metadata": {
  "kernelspec": {
   "display_name": "Python 3",
   "language": "python",
   "name": "python3"
  },
  "language_info": {
   "codemirror_mode": {
    "name": "ipython",
    "version": 3
   },
   "file_extension": ".py",
   "mimetype": "text/x-python",
   "name": "python",
   "nbconvert_exporter": "python",
   "pygments_lexer": "ipython3",
   "version": "3.8.8"
  }
 },
 "nbformat": 4,
 "nbformat_minor": 5
}
