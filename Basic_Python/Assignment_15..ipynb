{
 "cells": [
  {
   "cell_type": "code",
   "execution_count": 1,
   "id": "a204b560",
   "metadata": {},
   "outputs": [
    {
     "name": "stdout",
     "output_type": "stream",
     "text": [
      "No of seconds in an hour 3600\n"
     ]
    }
   ],
   "source": [
    "# 1.How many seconds are in an hour? Use the interactive interpreter as a calculator and multiply the\n",
    "# number of seconds in a minute (60) by the number of minutes in an hour (also 60).\n",
    "# sol. 60\n",
    "# Ans:-\n",
    "one_min=60\n",
    "one_hour=one_min*60\n",
    "print(f\"No of seconds in an hour {one_hour}\")"
   ]
  },
  {
   "cell_type": "code",
   "execution_count": 2,
   "id": "d24223b2",
   "metadata": {},
   "outputs": [],
   "source": [
    "# 2. Assign the result from the previous task (seconds in an hour) to a variable called\n",
    "# seconds_per_hour.\n",
    "# Ans:-\n",
    "second_per_hour=one_hour"
   ]
  },
  {
   "cell_type": "code",
   "execution_count": 12,
   "id": "ea7865bb",
   "metadata": {},
   "outputs": [
    {
     "name": "stdout",
     "output_type": "stream",
     "text": [
      "No of seconds in a day 86400\n"
     ]
    }
   ],
   "source": [
    "# 3. How many seconds do you think there are in a day? Make use of the variables seconds per hour\n",
    "# and minutes per hour.\n",
    "# Ans:-\n",
    "minutes_per_hour=60\n",
    "seconds_in_day=24*minutes_per_hour*one_min\n",
    "print(f\"No of seconds in a day {seconds_in_day}\")"
   ]
  },
  {
   "cell_type": "code",
   "execution_count": 13,
   "id": "6bd9ab0b",
   "metadata": {},
   "outputs": [
    {
     "name": "stdout",
     "output_type": "stream",
     "text": [
      "No of seconds in a day 86400\n"
     ]
    }
   ],
   "source": [
    "# 4. Calculate seconds per day again, but this time save the result in a variable called seconds_per_day\n",
    "# Ans:-\n",
    "seconds_per_day=24*second_per_hour\n",
    "print(f\"No of seconds in a day {seconds_per_day}\")"
   ]
  },
  {
   "cell_type": "code",
   "execution_count": 15,
   "id": "8ed7b39f",
   "metadata": {},
   "outputs": [
    {
     "data": {
      "text/plain": [
       "24.0"
      ]
     },
     "execution_count": 15,
     "metadata": {},
     "output_type": "execute_result"
    }
   ],
   "source": [
    "# 5. Divide seconds_per_day by seconds_per_hour. Use floating-point (/) division.\n",
    "# Ans:-\n",
    "result=seconds_per_day/second_per_hour\n",
    "result"
   ]
  },
  {
   "cell_type": "code",
   "execution_count": 16,
   "id": "071ebe91",
   "metadata": {},
   "outputs": [
    {
     "data": {
      "text/plain": [
       "24"
      ]
     },
     "execution_count": 16,
     "metadata": {},
     "output_type": "execute_result"
    }
   ],
   "source": [
    "# 6. Divide seconds_per_day by seconds_per_hour, using integer (//) division. Did this number agree\n",
    "# with the floating-point value from the previous question, aside from the final .0?\n",
    "# Ans:-\n",
    "result=seconds_per_day//second_per_hour\n",
    "result\n",
    "# Yes"
   ]
  },
  {
   "cell_type": "code",
   "execution_count": 44,
   "id": "68858d1b",
   "metadata": {},
   "outputs": [
    {
     "name": "stdout",
     "output_type": "stream",
     "text": [
      "2\n",
      "3\n",
      "5\n",
      "7\n",
      "11\n",
      "13\n",
      "17\n",
      "19\n",
      "23\n",
      "29\n",
      "31\n",
      "37\n",
      "41\n",
      "43\n",
      "47\n",
      "53\n",
      "59\n",
      "61\n",
      "67\n",
      "71\n"
     ]
    }
   ],
   "source": [
    "# 7. Write a generator, genPrimes, that returns the sequence of prime numbers on successive calls to\n",
    "# its next() method: 2, 3, 5, 7, 11,\n",
    "# Ans:-\n",
    "def genPrime(no):\n",
    "    for number in range (2, no + 1):  \n",
    "        if number > 1:  \n",
    "            for i in range (2, number):  \n",
    "                if (number % i) == 0:  \n",
    "                    break  \n",
    "            else:  \n",
    "                yield number  \n",
    "\n",
    "result=genPrime(100)\n",
    "for i in range(20):\n",
    "    print(next(result))"
   ]
  },
  {
   "cell_type": "code",
   "execution_count": null,
   "id": "165bea36",
   "metadata": {},
   "outputs": [],
   "source": []
  }
 ],
 "metadata": {
  "kernelspec": {
   "display_name": "Python 3",
   "language": "python",
   "name": "python3"
  },
  "language_info": {
   "codemirror_mode": {
    "name": "ipython",
    "version": 3
   },
   "file_extension": ".py",
   "mimetype": "text/x-python",
   "name": "python",
   "nbconvert_exporter": "python",
   "pygments_lexer": "ipython3",
   "version": "3.8.8"
  }
 },
 "nbformat": 4,
 "nbformat_minor": 5
}
