{
 "cells": [
  {
   "cell_type": "markdown",
   "id": "86c4e861",
   "metadata": {
    "id": "86c4e861"
   },
   "source": [
    "#### 1.Create a function that takes three arguments a, b, c and returns the sum of the numbers that are evenly divided by c from the range a, b inclusive ?\n",
    "**Examples:**  \n",
    "`evenly_divisible(1, 10, 20) ➞ 0\n",
    "    # No number between 1 and 10 can be evenly divided by 20.\n",
    "evenly_divisible(1, 10, 2) ➞ 30\n",
    "    # 2 + 4 + 6 + 8 + 10 = 30\n",
    "evenly_divisible(1, 10, 3) ➞ 18\n",
    "    # 3 + 6 + 9 = 18`"
   ]
  },
  {
   "cell_type": "code",
   "execution_count": 1,
   "id": "b9f60e1c",
   "metadata": {
    "id": "b9f60e1c",
    "outputId": "dbb2d595-06b4-4205-83da-3f87649fedfd"
   },
   "outputs": [
    {
     "name": "stdout",
     "output_type": "stream",
     "text": [
      "(1, 10, 20) ➞ 0\n",
      "(1, 10, 2) ➞ 30\n",
      "(1, 10, 3) ➞ 18\n"
     ]
    }
   ],
   "source": [
    "def even_divisible(a, b, c):\n",
    "    div_list = []\n",
    "    for num in range(a, b + 1):\n",
    "        if num % c == 0:\n",
    "            div_list.append(num)\n",
    "    print(f'{a, b, c} ➞ {sum(div_list)}')\n",
    "\n",
    "even_divisible(1, 10, 20)\n",
    "even_divisible(1, 10, 2)\n",
    "even_divisible(1, 10, 3)"
   ]
  },
  {
   "cell_type": "markdown",
   "id": "8589ab33",
   "metadata": {
    "id": "8589ab33"
   },
   "source": [
    "#### 2.Create a function that returns True if a given inequality expression is correct and False otherwise ?\n",
    "**Examples:**  \n",
    "`correct_signs(\"3 < 7 < 11\") ➞ True`  \n",
    "`correct_signs(\"13 > 44 > 33 > 1\") ➞ False`  \n",
    "`correct_signs(\"1 < 2 < 6 < 9 > 3\") ➞ True`"
   ]
  },
  {
   "cell_type": "code",
   "execution_count": 2,
   "id": "0021eeb2",
   "metadata": {
    "id": "0021eeb2",
    "outputId": "9df9e7f1-4fca-4711-8ac8-85355f76ec23"
   },
   "outputs": [
    {
     "name": "stdout",
     "output_type": "stream",
     "text": [
      "Enter the inequality: 3 < 7 < 11\n",
      "3 < 7 < 11 ➞ True\n",
      "Enter the inequality: 13 > 44 > 33 > 1\n",
      "13 > 44 > 33 > 1 ➞ False\n",
      "Enter the inequality: 1 < 2 < 6 < 9 > 3\n",
      "1 < 2 < 6 < 9 > 3 ➞ True\n"
     ]
    }
   ],
   "source": [
    "def check_equality():\n",
    "    input_string = input('Enter the inequality: ')\n",
    "    output_bool = eval(input_string)\n",
    "    print(f'{input_string} ➞ {output_bool}')\n",
    "\n",
    "for x in range(3):\n",
    "    check_equality()"
   ]
  },
  {
   "cell_type": "markdown",
   "id": "d7200223",
   "metadata": {
    "id": "d7200223"
   },
   "source": [
    "#### 3.Create a function that replaces all the vowels in a string with a specified character ?\n",
    "**Examples:**  \n",
    "`replace_vowels(\"the aardvark\", \"#\") ➞ \"th# ##rdv#rk\"`  \n",
    "`replace_vowels(\"minnie mouse\", \"?\") ➞ \"m?nn?? m??s?\"`  \n",
    "`replace_vowels(\"shakespeare\", \"*\") ➞ \"shksp**r\"`"
   ]
  },
  {
   "cell_type": "code",
   "execution_count": 6,
   "id": "e83aad2e",
   "metadata": {
    "id": "e83aad2e",
    "outputId": "c49f089e-29d4-4af6-e210-d2a2d6f3e8b0"
   },
   "outputs": [
    {
     "name": "stdout",
     "output_type": "stream",
     "text": [
      "String: the aardvark\n",
      "Replacement character: #\n",
      "the aardvark # ➞ th# ##rdv#rk\n",
      "String: minnie mouse\n",
      "Replacement character: ?\n",
      "minnie mouse ? ➞ m?nn?? m??s?\n",
      "String: shakespeare\n",
      "Replacement character: *\n",
      "shakespeare * ➞ sh*k*sp**r*\n"
     ]
    }
   ],
   "source": [
    "def replace_vowels():\n",
    "    vowels = ['a', 'e', 'i', 'o', 'u', 'A', 'E', 'I', 'O', 'U']\n",
    "    input_string = input(\"String: \")\n",
    "    input_string_copy = input_string\n",
    "    input_char = input('Replacement character: ')\n",
    "    for i in input_string:\n",
    "        if i in vowels:\n",
    "            input_string = input_string.replace(i, input_char)\n",
    "    print(f'{input_string_copy} {input_char} ➞ {input_string}')\n",
    "            \n",
    "for x in range(3):\n",
    "    replace_vowels()"
   ]
  },
  {
   "cell_type": "markdown",
   "id": "4c343c6e",
   "metadata": {
    "id": "4c343c6e"
   },
   "source": [
    "#### 4.Write a function that calculates the factorial of a number recursively ?\n",
    "**Examples:**  \n",
    "`factorial(5) ➞ 120`  \n",
    "`factorial(3) ➞ 6`  \n",
    "`factorial(1) ➞ 1`  \n",
    "`factorial(0) ➞ 1`  "
   ]
  },
  {
   "cell_type": "code",
   "execution_count": 7,
   "id": "4d026831",
   "metadata": {
    "id": "4d026831",
    "outputId": "f90f3a0d-6aa7-4f6f-9cef-777f0d6469d5"
   },
   "outputs": [
    {
     "name": "stdout",
     "output_type": "stream",
     "text": [
      "factorial(5) ➞ 120\n",
      "factorial(3) ➞ 6\n",
      "factorial(1) ➞ 1\n",
      "factorial(0) ➞ 1\n"
     ]
    }
   ],
   "source": [
    "def factorial(n):\n",
    "    if n==0:\n",
    "        return 1\n",
    "    return n * factorial(n-1)\n",
    "\n",
    "print(f'factorial(5) ➞ {factorial(5)}')\n",
    "print(f'factorial(3) ➞ {factorial(3)}')\n",
    "print(f'factorial(1) ➞ {factorial(1)}')\n",
    "print(f'factorial(0) ➞ {factorial(0)}')"
   ]
  },
  {
   "cell_type": "markdown",
   "id": "a0d0b57f",
   "metadata": {
    "id": "a0d0b57f"
   },
   "source": [
    "#### 5.Hamming distance is the number of characters that differ between two strings ?\n",
    "To illustrate:  \n",
    "    `String1: \"abcbba\"`  \n",
    "    `String2: \"abcbda\"`  \n",
    "Hamming Distance: 1 - \"b\" vs. \"d\" is the only difference.  \n",
    "Create a function that computes the hamming distance between two strings.  \n",
    "**Examples:**  \n",
    "`hamming_distance(\"abcde\", \"bcdef\") ➞ 5`  \n",
    "`hamming_distance(\"abcde\", \"abcde\") ➞ 0`  \n",
    "`hamming_distance(\"strong\", \"strung\") ➞ 1`  "
   ]
  },
  {
   "cell_type": "code",
   "execution_count": 9,
   "id": "d72b29ae",
   "metadata": {
    "id": "d72b29ae",
    "outputId": "4f393503-e44f-42ec-8a27-d3c87a48e870"
   },
   "outputs": [
    {
     "name": "stdout",
     "output_type": "stream",
     "text": [
      "Enter the String_1: abcde\n",
      "Enter the String_2: bcdef\n",
      "Hamning Distance b/w abcde and bcdef ➞ 5\n",
      "Enter the String_1: abcde\n",
      "Enter the String_2: abcde\n",
      "Hamning Distance b/w abcde and abcde ➞ 0\n",
      "Enter the String_1: strong\n",
      "Enter the String_2: strung\n",
      "Hamning Distance b/w strong and strung ➞ 1\n"
     ]
    }
   ],
   "source": [
    "def gen_ham_distance():\n",
    "    input_string_1 = input('Enter the String_1: ')\n",
    "    input_string_2 = input('Enter the String_2: ')\n",
    "    if len(input_string_1) == len(input_string_2):\n",
    "        count = 0\n",
    "        for i in range(len(input_string_1)):\n",
    "            if input_string_1[i] != input_string_2[i]:\n",
    "                count = count+1\n",
    "        print(f'Hamning Distance b/w {input_string_1} and {input_string_2} ➞ {count}')\n",
    "    else:\n",
    "        print('Both Strings Must be of Same Length')\n",
    "\n",
    "for x in range(3):\n",
    "    gen_ham_distance()"
   ]
  },
  {
   "cell_type": "code",
   "execution_count": null,
   "id": "b40cdeb3",
   "metadata": {},
   "outputs": [],
   "source": []
  }
 ],
 "metadata": {
  "colab": {
   "name": "Basic_Programming Assignment_17.ipynb",
   "provenance": []
  },
  "kernelspec": {
   "display_name": "Python 3 (ipykernel)",
   "language": "python",
   "name": "python3"
  },
  "language_info": {
   "codemirror_mode": {
    "name": "ipython",
    "version": 3
   },
   "file_extension": ".py",
   "mimetype": "text/x-python",
   "name": "python",
   "nbconvert_exporter": "python",
   "pygments_lexer": "ipython3",
   "version": "3.9.12"
  }
 },
 "nbformat": 4,
 "nbformat_minor": 5
}
