{
 "cells": [
  {
   "cell_type": "code",
   "execution_count": null,
   "id": "6fcae0e6",
   "metadata": {},
   "outputs": [],
   "source": [
    "# 1. What exactly is []?\n",
    "# Ans:-\n",
    "[] This is an empty list."
   ]
  },
  {
   "cell_type": "code",
   "execution_count": 8,
   "id": "5b2ae1ad",
   "metadata": {},
   "outputs": [
    {
     "data": {
      "text/plain": [
       "[2, 4, 'hello', 6, 8, 10]"
      ]
     },
     "execution_count": 8,
     "metadata": {},
     "output_type": "execute_result"
    }
   ],
   "source": [
    "# 2. In a list of values stored in a variable called spam, how would you assign the value 'hello'\n",
    "# as the third value? (Assume [2, 4, 6, 8, 10] are in spam.)\n",
    "# Lets pretend the spam includes the list ['a','b','c','d'] for the next three queries.\n",
    "# Ans:-\n",
    "spam=[2, 4, 6, 8, 10]\n",
    "spam.insert(2,'hello')\n",
    "spam"
   ]
  },
  {
   "cell_type": "code",
   "execution_count": 9,
   "id": "cc0b66aa",
   "metadata": {},
   "outputs": [],
   "source": [
    "spam=['a','b','c','d']"
   ]
  },
  {
   "cell_type": "code",
   "execution_count": null,
   "id": "eb87243d",
   "metadata": {},
   "outputs": [],
   "source": [
    "# 3. What is the value of spam[int(int('3' * 2) / 11)]?\n",
    "# Ans:-\n",
    "The value of spam will be 'd'"
   ]
  },
  {
   "cell_type": "code",
   "execution_count": null,
   "id": "4e236b49",
   "metadata": {},
   "outputs": [],
   "source": [
    "# 4. What is the value of spam[-1]?\n",
    "# Ans:-\n",
    "The value of spam will be 'd'"
   ]
  },
  {
   "cell_type": "code",
   "execution_count": null,
   "id": "27231b73",
   "metadata": {},
   "outputs": [],
   "source": [
    "5. What is the value of spam[:2]?\n",
    "# Ans:-\n",
    "The value of spam will be ['a','d']"
   ]
  },
  {
   "cell_type": "code",
   "execution_count": null,
   "id": "e25a9d04",
   "metadata": {},
   "outputs": [],
   "source": [
    "Lets pretend bacon has the list [3.14, 'cat', 11, 'cat', True] for the next three questions.\n",
    "bacon=[3.14, 'cat', 11, 'cat', True]"
   ]
  },
  {
   "cell_type": "code",
   "execution_count": null,
   "id": "dd6b5501",
   "metadata": {},
   "outputs": [],
   "source": [
    "# 6. What is the value of bacon.index('cat')?\n",
    "# Ans:-\n",
    "The value of bacon.index('cat') will be 1."
   ]
  },
  {
   "cell_type": "code",
   "execution_count": null,
   "id": "7b988036",
   "metadata": {},
   "outputs": [],
   "source": [
    "# 7. How does bacon.append(99) change the look of the list value in bacon?\n",
    "# Ans:-\n",
    "The look of new list will be bacon=[3.14, 'cat', 11, 'cat', True, 99]"
   ]
  },
  {
   "cell_type": "code",
   "execution_count": null,
   "id": "58e9518d",
   "metadata": {},
   "outputs": [],
   "source": [
    "# 8. How does bacon.remove('cat') change the look of the list in bacon?\n",
    "# Ans:-\n",
    "The look of new list will be bacon=[3.14, 11, 'cat', True]"
   ]
  },
  {
   "cell_type": "code",
   "execution_count": 37,
   "id": "886b2666",
   "metadata": {},
   "outputs": [
    {
     "name": "stdout",
     "output_type": "stream",
     "text": [
      "['Aman', 'Gupta']\n"
     ]
    },
    {
     "data": {
      "text/plain": [
       "['Aman', 'Aman', 'Aman']"
      ]
     },
     "execution_count": 37,
     "metadata": {},
     "output_type": "execute_result"
    }
   ],
   "source": [
    "# 9. What are the list concatenation and list replication operators?\n",
    "# Ans:-\n",
    "# In List concatenation we use + operator\n",
    "F_name=['Aman']\n",
    "L_name=[\"Gupta\"]\n",
    "Full_name=F_name+L_name\n",
    "print(Full_name)\n",
    "\n",
    "# In list replication we use + operator\n",
    "F_name*3"
   ]
  },
  {
   "cell_type": "code",
   "execution_count": null,
   "id": "8527262b",
   "metadata": {},
   "outputs": [],
   "source": [
    "# 10. What is difference between the list methods append() and insert()?\n",
    "# Ans:-\n",
    "append() will insert the elements in the last position.\n",
    "In insert() we need to specify the index."
   ]
  },
  {
   "cell_type": "code",
   "execution_count": null,
   "id": "7baeaf8e",
   "metadata": {},
   "outputs": [],
   "source": [
    "# 11. What are the two methods for removing items from a list?\n",
    "# Ans:-\n",
    "list.pop() it will delete the last element.\n",
    "list.remove() it will remove the specified element"
   ]
  },
  {
   "cell_type": "code",
   "execution_count": 29,
   "id": "df12f389",
   "metadata": {},
   "outputs": [
    {
     "name": "stdout",
     "output_type": "stream",
     "text": [
      "4\n",
      "4\n",
      "ma ['m', 'a']\n"
     ]
    }
   ],
   "source": [
    "# 12. Describe how list values and string values are identical.\n",
    "# Ans:-\n",
    "s=\"Aman\"\n",
    "l=['A','m','a','n']\n",
    "print(len(s))\n",
    "print(len(l))\n",
    "print(s[1:3],l[1:3])"
   ]
  },
  {
   "cell_type": "code",
   "execution_count": null,
   "id": "e3b11499",
   "metadata": {},
   "outputs": [],
   "source": [
    "# 13. Whats the difference between tuples and lists?\n",
    "# Ans:-\n",
    "tuples are immutable i.e(Non changeable) entities and it is denoted by round () brackecks.\n",
    "List are mutable  i.e(change able) entities and it is denoted by square [] brackets."
   ]
  },
  {
   "cell_type": "code",
   "execution_count": 30,
   "id": "162ee4a8",
   "metadata": {},
   "outputs": [
    {
     "data": {
      "text/plain": [
       "((42,), tuple)"
      ]
     },
     "execution_count": 30,
     "metadata": {},
     "output_type": "execute_result"
    }
   ],
   "source": [
    "# 14. How do you type a tuple value that only contains the integer 42?\n",
    "# Ans:-\n",
    "t=(42,)\n",
    "t, type(t)"
   ]
  },
  {
   "cell_type": "code",
   "execution_count": 32,
   "id": "207ceb59",
   "metadata": {},
   "outputs": [
    {
     "name": "stdout",
     "output_type": "stream",
     "text": [
      "<class 'list'>\n",
      "<class 'tuple'>\n",
      "[6, 7, 8, 9, 0]\n",
      "(1, 2, 3, 4, 5)\n"
     ]
    }
   ],
   "source": [
    "# 15. How do you get a list values tuple form? How do you get a tuple values list form?\n",
    "# Ans:-\n",
    "l=[1,2,3,4,5]\n",
    "t=(6,7,8,9,0)\n",
    "print(type(l))\n",
    "print(type(t))\n",
    "l1=list(t)\n",
    "print(l1)\n",
    "t1=tuple(l)\n",
    "print(t1)"
   ]
  },
  {
   "cell_type": "code",
   "execution_count": null,
   "id": "164c488e",
   "metadata": {},
   "outputs": [],
   "source": [
    "16. Variables that contain list values are not necessarily lists themselves. Instead, what do they\n",
    "contain?\n",
    "# Ans:-\n",
    "Variables do not store values directly.\n",
    "Python variables work with references to objects representing the values.\n",
    "For example, we have\n",
    "a = [1,2,3]\n",
    "Python creates a new reference for a to point at the object \n",
    "representing the value [1,2,3] in the memory."
   ]
  },
  {
   "cell_type": "code",
   "execution_count": 43,
   "id": "728b5800",
   "metadata": {},
   "outputs": [
    {
     "name": "stdout",
     "output_type": "stream",
     "text": [
      "1618410706368\n",
      "1618410737088\n",
      "1618393292608\n",
      "1618393292608\n"
     ]
    }
   ],
   "source": [
    "# 17. How do you distinguish between copy.copy() and copy.deepcopy()?\n",
    "# Ans:-\n",
    "\n",
    "# Creating a list\n",
    "l=[1,[2,3],4]\n",
    "\n",
    "import copy\n",
    "\n",
    "copy_l=copy.copy(l)\n",
    "\n",
    "print(id(l))\n",
    "print(id(copy_l))\n",
    "\n",
    "print(id(l[1]))\n",
    "print(id(copy_l[1]))\n",
    "\n",
    "# copy_l becomes the new object but copy_l[1] is the same object as l[1]"
   ]
  },
  {
   "cell_type": "code",
   "execution_count": 44,
   "id": "5ed01607",
   "metadata": {},
   "outputs": [
    {
     "name": "stdout",
     "output_type": "stream",
     "text": [
      "1618410706368\n",
      "1618394056704\n",
      "1618393292608\n",
      "1618394221376\n"
     ]
    }
   ],
   "source": [
    "# Deep copy List\n",
    "deep_copy_l=copy.deepcopy(l)\n",
    "\n",
    "print(id(l))\n",
    "print(id(deep_copy_l))\n",
    "\n",
    "print(id(l[1]))\n",
    "print(id(deep_copy_l[1]))\n",
    "\n",
    "# deep_copy_l becomes the new object and l[1] is the new object."
   ]
  },
  {
   "cell_type": "code",
   "execution_count": null,
   "id": "7855d5d0",
   "metadata": {},
   "outputs": [],
   "source": []
  }
 ],
 "metadata": {
  "kernelspec": {
   "display_name": "Python 3",
   "language": "python",
   "name": "python3"
  },
  "language_info": {
   "codemirror_mode": {
    "name": "ipython",
    "version": 3
   },
   "file_extension": ".py",
   "mimetype": "text/x-python",
   "name": "python",
   "nbconvert_exporter": "python",
   "pygments_lexer": "ipython3",
   "version": "3.8.8"
  }
 },
 "nbformat": 4,
 "nbformat_minor": 5
}
