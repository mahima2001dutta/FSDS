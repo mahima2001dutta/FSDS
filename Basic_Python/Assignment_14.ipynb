{
 "cells": [
  {
   "cell_type": "code",
   "execution_count": null,
   "id": "e275bb04",
   "metadata": {},
   "outputs": [],
   "source": [
    "# 1. What does RGBA stand for?\n",
    "# Ans:-\n",
    "RGBA is a four-channel format containing data for Red, Green, Blue, and an Alpha value.\n",
    "Where Alpha Represents the Opacity.\n",
    "Each value is a floating point number between 0.0 and 1.0. \n",
    "For example, the tuple (1, 0, 0, 1) represents an opaque red, while (0, 1, 0, 0.5) represents a half transparent green."
   ]
  },
  {
   "cell_type": "code",
   "execution_count": null,
   "id": "895fc96f",
   "metadata": {},
   "outputs": [],
   "source": [
    "# 2. From the Pillow module, how do you get the RGBA value of any images?\n",
    "# Ans:-\n",
    "ImageColor.getcolor() gives rgba value of any image"
   ]
  },
  {
   "cell_type": "code",
   "execution_count": null,
   "id": "5c549dea",
   "metadata": {},
   "outputs": [],
   "source": [
    "# 3. What is a box tuple, and how does it work?\n",
    "# Ans:-\n",
    "A box tuple is a tuple value of four integers: the left-edge x-coordinate, \n",
    "the top-edge y-coordinate,the width, and the height, respectively."
   ]
  },
  {
   "cell_type": "code",
   "execution_count": null,
   "id": "32933528",
   "metadata": {},
   "outputs": [],
   "source": [
    "# 4. Use your image and load in notebook then, How can you find out the width and height of an\n",
    "# Image object?\n",
    "# Ans:-\n",
    "# Example Program\n",
    "# from PIL import Image\n",
    "# pic = Image.open('Pic.jpg')\n",
    "# print(f'Width, Height -> {pic.size}') # Approach 1\n",
    "# print(f'Width, Height -> {pic.width},{pic.height}') # Approach 2\n",
    "# width,height = pic.size\n",
    "# print(f'Width, Height -> {width},{height}') # Approach 3"
   ]
  },
  {
   "cell_type": "code",
   "execution_count": null,
   "id": "6f096305",
   "metadata": {},
   "outputs": [],
   "source": [
    "# 5. What method would you call to get Image object for a 100×100 image, excluding the lower-left\n",
    "# quarter of it?\n",
    "# Ans:-\n",
    "# from PIL import Image\n",
    "# img = Image.open('Pic.jpg')\n",
    "# new_img = img.crop((0,50,50,50))"
   ]
  },
  {
   "cell_type": "code",
   "execution_count": null,
   "id": "a65cf90f",
   "metadata": {},
   "outputs": [],
   "source": [
    "# 6. After making changes to an Image object, how could you save it as an image file?\n",
    "# Ans:-\n",
    "#Example Program\n",
    "# from PIL import Image\n",
    "# pic = Image.open('pic.jpg')\n",
    "# pic.save('pic2.jpg')"
   ]
  },
  {
   "cell_type": "code",
   "execution_count": null,
   "id": "77be905e",
   "metadata": {},
   "outputs": [],
   "source": [
    "# 7. What module contains Pillow’s shape-drawing code?\n",
    "# Ans:-\n",
    "# Pillows ImageDraw module contains Shape drawing methods. The 'ImageDraw' module provides simple 2D graphics support for Image Object. Generally, we use this module to create new images, annotate or retouch existing images and to generate graphics on the fly for web use.\n",
    "# The graphics commands support the drawing of shapes and annotation of text."
   ]
  },
  {
   "cell_type": "code",
   "execution_count": null,
   "id": "43d65788",
   "metadata": {},
   "outputs": [],
   "source": [
    "# 8. Image objects do not have drawing methods. What kind of object does? How do you get this kind\n",
    "# of object?\n",
    "# Ans:-\n",
    "#  ImageDraw objects have shape-drawing methods such as point(), line(), or rectangle().\n",
    "#     They are returned by passing the Image object to the ImageDraw.Draw() function."
   ]
  },
  {
   "cell_type": "code",
   "execution_count": null,
   "id": "2715259e",
   "metadata": {},
   "outputs": [],
   "source": []
  }
 ],
 "metadata": {
  "kernelspec": {
   "display_name": "Python 3 (ipykernel)",
   "language": "python",
   "name": "python3"
  },
  "language_info": {
   "codemirror_mode": {
    "name": "ipython",
    "version": 3
   },
   "file_extension": ".py",
   "mimetype": "text/x-python",
   "name": "python",
   "nbconvert_exporter": "python",
   "pygments_lexer": "ipython3",
   "version": "3.9.12"
  }
 },
 "nbformat": 4,
 "nbformat_minor": 5
}
