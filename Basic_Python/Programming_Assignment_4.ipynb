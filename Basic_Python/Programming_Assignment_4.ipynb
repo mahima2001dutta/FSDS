{
 "cells": [
  {
   "cell_type": "code",
   "execution_count": 48,
   "id": "21af8fb6",
   "metadata": {},
   "outputs": [
    {
     "name": "stdout",
     "output_type": "stream",
     "text": [
      "Enter the number :0\n",
      "The factorial of 0 is 1\n"
     ]
    }
   ],
   "source": [
    "# 1.\tWrite a Python Program to Find the Factorial of a Number?\n",
    "no=int(input(\"Enter the number :\"))\n",
    "def fact(no):\n",
    "    if no>1:\n",
    "        return no*fact(no-1)\n",
    "    else:\n",
    "        return 1\n",
    "print(\"The factorial of\",no,\"is\",fact(no))"
   ]
  },
  {
   "cell_type": "code",
   "execution_count": 1,
   "id": "9d8c4b24",
   "metadata": {},
   "outputs": [
    {
     "name": "stdout",
     "output_type": "stream",
     "text": [
      "Enter the table number :13\n",
      "13 x 1 = 13\n",
      "13 x 2 = 26\n",
      "13 x 3 = 39\n",
      "13 x 4 = 52\n",
      "13 x 5 = 65\n",
      "13 x 6 = 78\n",
      "13 x 7 = 91\n",
      "13 x 8 = 104\n",
      "13 x 9 = 117\n",
      "13 x 10 = 130\n"
     ]
    }
   ],
   "source": [
    "# 2.\tWrite a Python Program to Display the multiplication Table?\n",
    "# Ans:-\n",
    "no=int(input(\"Enter the table number :\"))\n",
    "for i in range(1,11):\n",
    "    print(no,\"x\",i,\"=\",i*no)"
   ]
  },
  {
   "cell_type": "code",
   "execution_count": 10,
   "id": "4206aa89",
   "metadata": {},
   "outputs": [
    {
     "name": "stdout",
     "output_type": "stream",
     "text": [
      "Enter the number:15\n",
      "0  1  1  2  3  5  8  13  21  34  55  89  144  233  377  "
     ]
    }
   ],
   "source": [
    "# 3.\tWrite a Python Program to Print the Fibonacci sequence?\n",
    "no=int(input(\"Enter the number:\"))\n",
    "a=-1\n",
    "b=1\n",
    "for i in range(no):\n",
    "    c=a+b\n",
    "    print(c,\" \",end='')\n",
    "    a=b\n",
    "    b=c"
   ]
  },
  {
   "cell_type": "code",
   "execution_count": 7,
   "id": "15ab9f0a",
   "metadata": {},
   "outputs": [
    {
     "name": "stdout",
     "output_type": "stream",
     "text": [
      "Enter the number :225\n",
      "It is not an Armstrong Number\n"
     ]
    }
   ],
   "source": [
    "# 4.\tWrite a Python Program to Check Armstrong Number?\n",
    "# Ans:-\n",
    "no=int(input(\"Enter the number :\"))\n",
    "# Making a copy of number\n",
    "copy_no=no\n",
    "# initilizing sum=0\n",
    "sum=0\n",
    "# Order is to know how many digit of no it is. \n",
    "order=len(str(no))\n",
    "# Using while loop\n",
    "while(no>1):\n",
    "    digit=no%10\n",
    "    sum=digit**order\n",
    "    no=no//10\n",
    "if(sum==copy_no):\n",
    "    print(\"It is an Armstrong Number\")\n",
    "else:\n",
    "    print(\"It is not an Armstrong Number\")    "
   ]
  },
  {
   "cell_type": "code",
   "execution_count": 47,
   "id": "0f48cf8b",
   "metadata": {},
   "outputs": [
    {
     "name": "stdout",
     "output_type": "stream",
     "text": [
      "Enter the number greater than 100 :2000\n",
      "153\n",
      "370\n",
      "371\n",
      "407\n",
      "1634\n"
     ]
    }
   ],
   "source": [
    "# 5.\tWrite a Python Program to Find Armstrong Number in an Interval?\n",
    "# Ans:-\n",
    "no=int(input(\"Enter the number greater than 100 :\"))\n",
    "for i in range(100,no+1):\n",
    "    order=len(str(i))\n",
    "    sum=0\n",
    "    temp=i\n",
    "    while(temp>0):\n",
    "        digit=temp%10\n",
    "        sum=sum+digit**order\n",
    "        temp=temp//10\n",
    "    if(i==sum):\n",
    "        print(i)"
   ]
  },
  {
   "cell_type": "code",
   "execution_count": 55,
   "id": "cbeacc91",
   "metadata": {},
   "outputs": [
    {
     "name": "stdout",
     "output_type": "stream",
     "text": [
      "Enter the number :5\n",
      "15\n"
     ]
    }
   ],
   "source": [
    "# 6.\tWrite a Python Program to Find the Sum of Natural Numbers?\n",
    "# Ans:-\n",
    "no=int(input(\"Enter the number :\"))\n",
    "def sum(no):\n",
    "    if no>=1:\n",
    "        return no+sum(no-1)\n",
    "    else:\n",
    "        return 0\n",
    "res=sum(no)\n",
    "print(res)"
   ]
  },
  {
   "cell_type": "code",
   "execution_count": null,
   "id": "a13c0a60",
   "metadata": {},
   "outputs": [],
   "source": []
  }
 ],
 "metadata": {
  "kernelspec": {
   "display_name": "Python 3",
   "language": "python",
   "name": "python3"
  },
  "language_info": {
   "codemirror_mode": {
    "name": "ipython",
    "version": 3
   },
   "file_extension": ".py",
   "mimetype": "text/x-python",
   "name": "python",
   "nbconvert_exporter": "python",
   "pygments_lexer": "ipython3",
   "version": "3.8.8"
  }
 },
 "nbformat": 4,
 "nbformat_minor": 5
}
