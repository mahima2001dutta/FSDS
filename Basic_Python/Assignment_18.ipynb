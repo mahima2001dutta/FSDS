{
 "cells": [
  {
   "cell_type": "code",
   "execution_count": 3,
   "id": "71baa452",
   "metadata": {},
   "outputs": [],
   "source": [
    "# 1. Create a zoo.py file first. Define the hours() function, which prints the string 'Open 9-5 daily'.\n",
    "# Then, use the interactive interpreter to import the zoo module and call its hours() function.\n",
    "# Ans:-\n",
    "with open('zoo.py','w') as write:\n",
    "    write.write(\"def hours():\\n\\tprint('Open 9-5 daily')\")\n",
    "    write.close()"
   ]
  },
  {
   "cell_type": "code",
   "execution_count": 5,
   "id": "92ffb268",
   "metadata": {},
   "outputs": [
    {
     "name": "stdout",
     "output_type": "stream",
     "text": [
      "Open 9-5 daily\n"
     ]
    }
   ],
   "source": [
    "# 2. In the interactive interpreter, import the zoo module as menagerie and call its hours() function.\n",
    "# Ans:-\n",
    "import zoo as menagerie\n",
    "menagerie.hours()"
   ]
  },
  {
   "cell_type": "code",
   "execution_count": 10,
   "id": "2c1cc06e",
   "metadata": {},
   "outputs": [
    {
     "name": "stdout",
     "output_type": "stream",
     "text": [
      "Open 9-5 daily\n"
     ]
    }
   ],
   "source": [
    "# 3. Using the interpreter, explicitly import and call the hours() function from zoo.\n",
    "# Ans:-\n",
    "from zoo import hours\n",
    "hours()"
   ]
  },
  {
   "cell_type": "code",
   "execution_count": 12,
   "id": "ed759120",
   "metadata": {},
   "outputs": [
    {
     "name": "stdout",
     "output_type": "stream",
     "text": [
      "Open 9-5 daily\n"
     ]
    }
   ],
   "source": [
    "# 4. Import the hours() function as info and call it.\n",
    "# Ans:-\n",
    "from zoo import hours as info\n",
    "info()"
   ]
  },
  {
   "cell_type": "code",
   "execution_count": 15,
   "id": "39a8ee0f",
   "metadata": {},
   "outputs": [
    {
     "data": {
      "text/plain": [
       "{'a': 1, 'b': 2, 'c': 3}"
      ]
     },
     "execution_count": 15,
     "metadata": {},
     "output_type": "execute_result"
    }
   ],
   "source": [
    "# 5. Create a plain dictionary with the key-value pairs 'a': 1, 'b': 2, and 'c': 3, and print it out.\n",
    "# Ans:-\n",
    "dt={'a': 1, 'b': 2, 'c': 3}\n",
    "dt"
   ]
  },
  {
   "cell_type": "code",
   "execution_count": 27,
   "id": "7c060a3e",
   "metadata": {},
   "outputs": [
    {
     "name": "stdout",
     "output_type": "stream",
     "text": [
      "Ordered Dictionary OrderedDict([('a', 1), ('b', 2), ('c', 3)])\n",
      "Plain Dictionary {'a': 1, 'b': 2, 'c': 3}\n"
     ]
    }
   ],
   "source": [
    "# 6.Make an OrderedDict called fancy from the same pairs listed in 5 and print it. Did it print in the\n",
    "# same order as plain?\n",
    "# Ans:-\n",
    "from collections import OrderedDict\n",
    "fancy=OrderedDict(dt)\n",
    "print(\"Ordered Dictionary\",fancy)\n",
    "print(\"Plain Dictionary\",dt)"
   ]
  },
  {
   "cell_type": "code",
   "execution_count": 28,
   "id": "91b2989b",
   "metadata": {},
   "outputs": [
    {
     "name": "stdout",
     "output_type": "stream",
     "text": [
      "['something for a']\n"
     ]
    }
   ],
   "source": [
    "# 7. Make a default dictionary called dict_of_lists and pass it the argument list. Make the list\n",
    "# dict_of_lists['a'] and append the value 'something for a' to it in one assignment. Print\n",
    "# dict_of_lists['a'].\n",
    "# Ans:-\n",
    "\n",
    "from collections import defaultdict\n",
    "dict_of_lists = defaultdict(list)\n",
    "dict_of_lists['a'].append('something for a')\n",
    "print(dict_of_lists['a'])"
   ]
  },
  {
   "cell_type": "code",
   "execution_count": null,
   "id": "315643f8",
   "metadata": {},
   "outputs": [],
   "source": []
  }
 ],
 "metadata": {
  "kernelspec": {
   "display_name": "Python 3",
   "language": "python",
   "name": "python3"
  },
  "language_info": {
   "codemirror_mode": {
    "name": "ipython",
    "version": 3
   },
   "file_extension": ".py",
   "mimetype": "text/x-python",
   "name": "python",
   "nbconvert_exporter": "python",
   "pygments_lexer": "ipython3",
   "version": "3.8.8"
  }
 },
 "nbformat": 4,
 "nbformat_minor": 5
}
