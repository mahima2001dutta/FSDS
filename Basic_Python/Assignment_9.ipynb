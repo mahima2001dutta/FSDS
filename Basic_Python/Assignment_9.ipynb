{
 "cells": [
  {
   "cell_type": "code",
   "execution_count": null,
   "id": "71e2853b",
   "metadata": {},
   "outputs": [],
   "source": [
    "# 1. To what does a relative path refer?\n",
    "# Ans:-\n",
    "A relative path is a URL that only contains a portion of the full path. \n",
    "Its complete location is based on its relation to the directory where it is linking"
   ]
  },
  {
   "cell_type": "code",
   "execution_count": null,
   "id": "cbd478b9",
   "metadata": {},
   "outputs": [],
   "source": [
    "# 2. What does an absolute path start with your operating system?\n",
    "# Ans:-\n",
    "An absolute path starts with a \\ in the operating system.\n",
    "example :- A:\\My projects"
   ]
  },
  {
   "cell_type": "code",
   "execution_count": 2,
   "id": "97469fae",
   "metadata": {},
   "outputs": [
    {
     "name": "stdout",
     "output_type": "stream",
     "text": [
      "C:\\Users\\Aman\\Data science course\\Python\\Assignments\\Python_Basic_Assignments\n"
     ]
    }
   ],
   "source": [
    "# 3. What do the functions os.getcwd() and os.chdir() do?\n",
    "# Ans:-\n",
    "# os.getcwd will give us the current working directory of the file.\n",
    "import os\n",
    "print(os.getcwd())"
   ]
  },
  {
   "cell_type": "code",
   "execution_count": 7,
   "id": "c4b3d588",
   "metadata": {},
   "outputs": [
    {
     "data": {
      "text/plain": [
       "'C:\\\\Users\\\\Aman\\\\Data science course\\\\Python\\\\Assignments'"
      ]
     },
     "execution_count": 7,
     "metadata": {},
     "output_type": "execute_result"
    }
   ],
   "source": [
    "# os.chdir() is used to change the directory.\n",
    "os.chdir('C:\\\\Users\\\\Aman\\\\Data science course\\\\Python\\\\Assignments')\n",
    "os.getcwd()"
   ]
  },
  {
   "cell_type": "code",
   "execution_count": null,
   "id": "c92de087",
   "metadata": {},
   "outputs": [],
   "source": [
    "# 4. What are the . and .. folders?\n",
    "Ans:-\n",
    "The. is the current directory. While .. signifies the parent directory."
   ]
  },
  {
   "cell_type": "code",
   "execution_count": 20,
   "id": "e81b1b6e",
   "metadata": {},
   "outputs": [
    {
     "name": "stdout",
     "output_type": "stream",
     "text": [
      "spam.txt\n",
      "\n",
      "C://bacon//eggs\n"
     ]
    }
   ],
   "source": [
    "# 5. In C:\\bacon\\eggs\\spam.txt, which part is the dir name, and which part is the base name?\n",
    "# Ans:-\n",
    "# spam.txt is the base name\n",
    "print(os.path.basename('C:\\bacon\\eggs\\spam.txt'))\n",
    "print()\n",
    "# C://bacon//eggs is the dir name\n",
    "print(os.path.dirname('C://bacon//eggs//spam.txt'))"
   ]
  },
  {
   "cell_type": "code",
   "execution_count": null,
   "id": "5400fc7c",
   "metadata": {},
   "outputs": [],
   "source": [
    "# 6. What are the three “mode” arguments that can be passed to the open() function?\n",
    "# Ans:-\n",
    "'r' This stands for read operations.\n",
    "'w' This stands for write operations.\n",
    "'a' This stands for append operations."
   ]
  },
  {
   "cell_type": "code",
   "execution_count": null,
   "id": "0e145a20",
   "metadata": {},
   "outputs": [],
   "source": [
    "# 7. What happens if an existing file is opened in write mode?\n",
    "# Ans:-\n",
    "All the previous data gets deleted or rewritten."
   ]
  },
  {
   "cell_type": "code",
   "execution_count": 11,
   "id": "cd49973d",
   "metadata": {},
   "outputs": [
    {
     "name": "stdout",
     "output_type": "stream",
     "text": [
      "This is a new way to write code\n",
      "jksnvkjnvjna\n",
      "mdkl;mvbl\n",
      "dfklbamhkm\n",
      "fb df b\n",
      "kmblkzmb\n",
      "ldfbmdb\n",
      ".vl;s,l;\n",
      ",fbdb;db,\n"
     ]
    }
   ],
   "source": [
    "# 8. How do you tell the difference between read() and readlines()?\n",
    "# Ans:-\n",
    "# read() function will read and print the whole file as it is stored in the file.\n",
    "with open('C://Users//Aman//Data science course//Python//text.txt','r') as file:\n",
    "    print(file.read()) "
   ]
  },
  {
   "cell_type": "code",
   "execution_count": 12,
   "id": "d15799e1",
   "metadata": {},
   "outputs": [
    {
     "name": "stdout",
     "output_type": "stream",
     "text": [
      "['This is a new way to write code\\n', 'jksnvkjnvjna\\n', 'mdkl;mvbl\\n', 'dfklbamhkm\\n', 'fb df b\\n', 'kmblkzmb\\n', 'ldfbmdb\\n', '.vl;s,l;\\n', ',fbdb;db,']\n"
     ]
    }
   ],
   "source": [
    "# Where as readlines will return the list of lines seperated with \\n.\n",
    "with open('C://Users//Aman//Data science course//Python//text.txt','r') as file:\n",
    "    print(file.readlines())"
   ]
  },
  {
   "cell_type": "code",
   "execution_count": null,
   "id": "d7bcdae2",
   "metadata": {},
   "outputs": [],
   "source": [
    "# 9. What data structure does a shelf value resemble?\n",
    "# Ans:-\n",
    "A shelf value resembles a dictionary value,\n",
    "It has keys and values, along with keys() and values() methods\n",
    "that work similarly to the dictionary methods of the same names"
   ]
  },
  {
   "cell_type": "code",
   "execution_count": null,
   "id": "b9ed3bda",
   "metadata": {},
   "outputs": [],
   "source": []
  }
 ],
 "metadata": {
  "kernelspec": {
   "display_name": "Python 3",
   "language": "python",
   "name": "python3"
  },
  "language_info": {
   "codemirror_mode": {
    "name": "ipython",
    "version": 3
   },
   "file_extension": ".py",
   "mimetype": "text/x-python",
   "name": "python",
   "nbconvert_exporter": "python",
   "pygments_lexer": "ipython3",
   "version": "3.8.8"
  }
 },
 "nbformat": 4,
 "nbformat_minor": 5
}
