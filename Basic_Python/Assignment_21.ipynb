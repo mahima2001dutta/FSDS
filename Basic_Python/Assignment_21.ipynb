{
 "cells": [
  {
   "cell_type": "code",
   "execution_count": 1,
   "id": "a860f60e",
   "metadata": {},
   "outputs": [
    {
     "name": "stdout",
     "output_type": "stream",
     "text": [
      "18-11-2022\n"
     ]
    }
   ],
   "source": [
    "# 1. Add the current date to the text file today.txt as a string.\n",
    "import datetime\n",
    "# Code to Add current date to the today.txt file\n",
    "file = open('today.txt','w')\n",
    "file.write(datetime.datetime.now().strftime(\"%d-%m-%Y\"))\n",
    "file.close()\n",
    "# Code to Read current date from today.txt file\n",
    "file = open('today.txt','r')\n",
    "print(file.read())\n",
    "file.close()"
   ]
  },
  {
   "cell_type": "code",
   "execution_count": 2,
   "id": "39062e88",
   "metadata": {},
   "outputs": [
    {
     "name": "stdout",
     "output_type": "stream",
     "text": [
      "18-11-2022\n"
     ]
    }
   ],
   "source": [
    "# 2. Read the text file today.txt into the string today_string\n",
    "file = open('today.txt','r')\n",
    "today_string = file.read()\n",
    "print(today_string)"
   ]
  },
  {
   "cell_type": "code",
   "execution_count": 3,
   "id": "38f619d3",
   "metadata": {},
   "outputs": [
    {
     "name": "stdout",
     "output_type": "stream",
     "text": [
      "2022-11-18 00:00:00\n"
     ]
    }
   ],
   "source": [
    "# 3. Parse the date from today_string.\n",
    "from datetime import datetime\n",
    "parsed_data = datetime.strptime(today_string, '%d-%m-%Y')\n",
    "print(parsed_data)"
   ]
  },
  {
   "cell_type": "code",
   "execution_count": 4,
   "id": "a0eb26be",
   "metadata": {},
   "outputs": [
    {
     "name": "stdout",
     "output_type": "stream",
     "text": [
      "Assignment_1.ipynb\n",
      "Assignment_10.ipynb\n",
      "Assignment_11.ipynb\n",
      "Assignment_12.ipynb\n",
      "Assignment_13.ipynb\n",
      "Assignment_14.ipynb\n",
      "Assignment_15..ipynb\n",
      "Assignment_16.ipynb\n",
      "Assignment_17.ipynb\n",
      "Assignment_18.ipynb\n",
      "Assignment_19.ipynb\n",
      "Assignment_2.ipynb\n",
      "Assignment_20.ipynb\n",
      "Assignment_21.ipynb\n",
      "Assignment_22.ipynb\n",
      "Assignment_23.ipynb\n",
      "Assignment_24.ipynb\n",
      "Assignment_25.ipynb\n",
      "Assignment_3.ipynb\n",
      "Assignment_4.ipynb\n",
      "Assignment_5.ipynb\n",
      "Assignment_6.ipynb\n",
      "Assignment_7.ipynb\n",
      "Assignment_8.ipynb\n",
      "Assignment_9.ipynb\n",
      "books.csv\n",
      "books.db\n",
      "college_records.csv\n",
      "Programming Assignment_8.ipynb\n",
      "Programming_Assignment_1.ipynb\n",
      "Programming_Assignment_10.ipynb\n",
      "Programming_Assignment_2.ipynb\n",
      "Programming_Assignment_3.ipynb\n",
      "Programming_Assignment_4.ipynb\n",
      "Programming_Assignment_5.ipynb\n",
      "Programming_Assignment_6.ipynb\n",
      "Programming_Assignment_7.ipynb\n",
      "test.txt\n",
      "today.txt\n",
      "zoo.py\n",
      "Assignment_1-checkpoint.ipynb\n",
      "Assignment_10-checkpoint.ipynb\n",
      "Assignment_11-checkpoint.ipynb\n",
      "Assignment_12-checkpoint.ipynb\n",
      "Assignment_13-checkpoint.ipynb\n",
      "Assignment_14-checkpoint.ipynb\n",
      "Assignment_15.-checkpoint.ipynb\n",
      "Assignment_16-checkpoint.ipynb\n",
      "Assignment_17-checkpoint.ipynb\n",
      "Assignment_18-checkpoint.ipynb\n",
      "Assignment_19-checkpoint.ipynb\n",
      "Assignment_2-checkpoint.ipynb\n",
      "Assignment_20-checkpoint.ipynb\n",
      "Assignment_21-checkpoint.ipynb\n",
      "Assignment_22-checkpoint.ipynb\n",
      "Assignment_23-checkpoint.ipynb\n",
      "Assignment_24-checkpoint.ipynb\n",
      "Assignment_25-checkpoint.ipynb\n",
      "Assignment_3-checkpoint.ipynb\n",
      "Assignment_4-checkpoint.ipynb\n",
      "Assignment_5-checkpoint.ipynb\n",
      "Assignment_6-checkpoint.ipynb\n",
      "Assignment_7-checkpoint.ipynb\n",
      "Assignment_8-checkpoint.ipynb\n",
      "Assignment_9-checkpoint.ipynb\n",
      "Programming Assignment_8-checkpoint.ipynb\n",
      "Programming_Assignment_1-checkpoint.ipynb\n",
      "Programming_Assignment_10-checkpoint.ipynb\n",
      "Programming_Assignment_2-checkpoint.ipynb\n",
      "Programming_Assignment_3-checkpoint.ipynb\n",
      "Programming_Assignment_4-checkpoint.ipynb\n",
      "Programming_Assignment_5-checkpoint.ipynb\n",
      "Programming_Assignment_6-checkpoint.ipynb\n",
      "Programming_Assignment_7-checkpoint.ipynb\n",
      "zoo.cpython-38.pyc\n"
     ]
    }
   ],
   "source": [
    "# 4. List the files in your current directory\n",
    "import os\n",
    "for folders, subfolders, files in os.walk(os.getcwd()):\n",
    "    for file in files:\n",
    "        print(file)"
   ]
  },
  {
   "cell_type": "code",
   "execution_count": 5,
   "id": "e4126135",
   "metadata": {},
   "outputs": [
    {
     "data": {
      "text/plain": [
       "['.ipynb_checkpoints',\n",
       " 'Assignment_1.ipynb',\n",
       " 'Assignment_10.ipynb',\n",
       " 'Assignment_11.ipynb',\n",
       " 'Assignment_12.ipynb',\n",
       " 'Assignment_13.ipynb',\n",
       " 'Assignment_14.ipynb',\n",
       " 'Assignment_15..ipynb',\n",
       " 'Assignment_16.ipynb',\n",
       " 'Assignment_17.ipynb',\n",
       " 'Assignment_18.ipynb',\n",
       " 'Assignment_19.ipynb',\n",
       " 'Assignment_2.ipynb',\n",
       " 'Assignment_20.ipynb',\n",
       " 'Assignment_21.ipynb',\n",
       " 'Assignment_22.ipynb',\n",
       " 'Assignment_23.ipynb',\n",
       " 'Assignment_24.ipynb',\n",
       " 'Assignment_25.ipynb',\n",
       " 'Assignment_3.ipynb',\n",
       " 'Assignment_4.ipynb',\n",
       " 'Assignment_5.ipynb',\n",
       " 'Assignment_6.ipynb',\n",
       " 'Assignment_7.ipynb',\n",
       " 'Assignment_8.ipynb',\n",
       " 'Assignment_9.ipynb',\n",
       " 'books.csv',\n",
       " 'books.db',\n",
       " 'college_records.csv',\n",
       " 'Programming Assignment_8.ipynb',\n",
       " 'Programming_Assignment_1.ipynb',\n",
       " 'Programming_Assignment_10.ipynb',\n",
       " 'Programming_Assignment_2.ipynb',\n",
       " 'Programming_Assignment_3.ipynb',\n",
       " 'Programming_Assignment_4.ipynb',\n",
       " 'Programming_Assignment_5.ipynb',\n",
       " 'Programming_Assignment_6.ipynb',\n",
       " 'Programming_Assignment_7.ipynb',\n",
       " 'test.txt',\n",
       " 'today.txt',\n",
       " 'zoo.py',\n",
       " '__pycache__']"
      ]
     },
     "execution_count": 5,
     "metadata": {},
     "output_type": "execute_result"
    }
   ],
   "source": [
    "# 5. Create a list of all of the files in your parent directory (minimum five files should be available).\n",
    "import os \n",
    "os.listdir()"
   ]
  },
  {
   "cell_type": "code",
   "execution_count": 6,
   "id": "605ef049",
   "metadata": {},
   "outputs": [],
   "source": [
    "import multiprocessing\n",
    "import time \n",
    "import random\n",
    "import datetime\n",
    "\n",
    "def procOne():\n",
    "    print(f'Proc_one_Starttime -> {datetime.datetime.now()}')\n",
    "    time.sleep(random.randint(1,5))\n",
    "    print(f'Proc_one_Endtime -> {datetime.datetime.now()}')\n",
    "    \n",
    "def procTwo():\n",
    "    print(f'Proc_two_Starttime -> {datetime.datetime.now()}')\n",
    "    time.sleep(random.randint(1,5))\n",
    "    print(f'Proc_two_Endtime -> {datetime.datetime.now()}')\n",
    "\n",
    "def procThree():\n",
    "    print(f'Proc_two_Starttime -> {datetime.datetime.now()}')\n",
    "    time.sleep(random.randint(1,5))\n",
    "    print(f'Proc_two_Endtime -> {datetime.datetime.now()}')\n",
    "    \n",
    "if __name__ == \"__main__\":    \n",
    "    p1 = multiprocessing.Process(target=procOne)\n",
    "    p2 = multiprocessing.Process(target=procTwo)\n",
    "    p3 = multiprocessing.Process(target=procThree)\n",
    "\n",
    "    p1.start()\n",
    "    p2.start()\n",
    "    p3.start()\n",
    "\n",
    "    p1.join()\n",
    "    p2.join()\n",
    "    p3.join()"
   ]
  },
  {
   "cell_type": "code",
   "execution_count": 7,
   "id": "71251f6b",
   "metadata": {},
   "outputs": [
    {
     "name": "stdout",
     "output_type": "stream",
     "text": [
      "1994-01-12 00:00:00 <class 'datetime.datetime'>\n"
     ]
    }
   ],
   "source": [
    "\n",
    "# 7. Create a date object of your day of birth.\n",
    "from datetime import datetime\n",
    "my_dob = datetime.strptime('12/01/1994','%d/%m/%Y')\n",
    "print(my_dob, type(my_dob))"
   ]
  },
  {
   "cell_type": "code",
   "execution_count": 8,
   "id": "60f01548",
   "metadata": {},
   "outputs": [
    {
     "data": {
      "text/plain": [
       "'Wednesday'"
      ]
     },
     "execution_count": 8,
     "metadata": {},
     "output_type": "execute_result"
    }
   ],
   "source": [
    "# 8. What day of the week was your day of birth?\n",
    "from datetime import datetime\n",
    "my_dob = datetime(1994,1,12)\n",
    "my_dob.strftime(\"%A\")"
   ]
  },
  {
   "cell_type": "code",
   "execution_count": 9,
   "id": "bd8915c2",
   "metadata": {},
   "outputs": [
    {
     "data": {
      "text/plain": [
       "datetime.datetime(1966, 8, 27, 0, 0)"
      ]
     },
     "execution_count": 9,
     "metadata": {},
     "output_type": "execute_result"
    }
   ],
   "source": [
    "# 9. When will you be (or when were you) 10,000 days old?\n",
    "from datetime import datetime, timedelta\n",
    "my_dob = datetime.strptime(\"12/01/1994\",'%d/%m/%Y')\n",
    "future_date = my_dob-timedelta(10000)\n",
    "future_date"
   ]
  },
  {
   "cell_type": "code",
   "execution_count": null,
   "id": "133cad9c",
   "metadata": {},
   "outputs": [],
   "source": []
  },
  {
   "cell_type": "code",
   "execution_count": null,
   "id": "04f857e0",
   "metadata": {},
   "outputs": [],
   "source": []
  },
  {
   "cell_type": "code",
   "execution_count": null,
   "id": "95e94c23",
   "metadata": {},
   "outputs": [],
   "source": []
  }
 ],
 "metadata": {
  "kernelspec": {
   "display_name": "Python 3 (ipykernel)",
   "language": "python",
   "name": "python3"
  },
  "language_info": {
   "codemirror_mode": {
    "name": "ipython",
    "version": 3
   },
   "file_extension": ".py",
   "mimetype": "text/x-python",
   "name": "python",
   "nbconvert_exporter": "python",
   "pygments_lexer": "ipython3",
   "version": "3.9.12"
  }
 },
 "nbformat": 4,
 "nbformat_minor": 5
}
