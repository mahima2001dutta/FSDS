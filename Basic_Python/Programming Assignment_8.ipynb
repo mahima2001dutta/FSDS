{
 "cells": [
  {
   "cell_type": "code",
   "execution_count": 1,
   "id": "8e84aee1",
   "metadata": {},
   "outputs": [
    {
     "name": "stdout",
     "output_type": "stream",
     "text": [
      "Enter m of matrices :3\n",
      "Enter n of matrices :3\n",
      "Enter l[0,0] 1\n",
      "Enter l[0,1] 2\n",
      "Enter l[0,2] 3\n",
      "Enter l[1,0] 4\n",
      "Enter l[1,1] 5\n",
      "Enter l[1,2] 6\n",
      "Enter l[2,0] 7\n",
      "Enter l[2,1] 8\n",
      "Enter l[2,2] 9\n",
      "Enter l[0,0] 9\n",
      "Enter l[0,1] 8\n",
      "Enter l[0,2] 7\n",
      "Enter l[1,0] 6\n",
      "Enter l[1,1] 5\n",
      "Enter l[1,2] 4\n",
      "Enter l[2,0] 3\n",
      "Enter l[2,1] 2\n",
      "Enter l[2,2] 1\n",
      "[[10, 10, 10], [10, 10, 10], [10, 10, 10]]\n"
     ]
    }
   ],
   "source": [
    "# 1. Write a Python Program to Add Two Matrices?\n",
    "# Ans:-\n",
    "def matrices(m,n):\n",
    "    l=[]\n",
    "    for i in range(m):\n",
    "        row=[]\n",
    "        for j in range(n):\n",
    "            inp=int(input(f\"Enter l[{i},{j}] \"))\n",
    "            row.append(inp)\n",
    "        l.append(row)\n",
    "    return l\n",
    "def sum_of_matrices(a,b):\n",
    "    output=[]\n",
    "    for i in range(len(a)): #This is for rows\n",
    "        row=[]\n",
    "        for j in range(len(a[0])): #This is for columns\n",
    "            row.append(a[i][j]+b[i][j])\n",
    "        output.append(row)\n",
    "    return output\n",
    "            \n",
    "m=int(input(\"Enter m of matrices :\"))\n",
    "n=int(input(\"Enter n of matrices :\"))\n",
    "a=matrices(m,n)\n",
    "b=matrices(m,n)\n",
    "result=sum_of_matrices(a,b)\n",
    "print(result)\n",
    "\n",
    "#  a=[[1,2,3],[4,5,6],[7,8,9]]\n",
    "#  b=[[9,8,7],[6,5,4],[3,2,1]]\n",
    "#  c=[[0,0,0],[0,0,0],[0,0,0]]\n",
    "\n",
    "#  for i in range(len(a)):\n",
    "#      for j in range(len(a[0])):\n",
    "#          c[i][j]=a[i][j]+b[i][j]\n",
    "\n",
    "#  for i in c:\n",
    "#      print(i) "
   ]
  },
  {
   "cell_type": "code",
   "execution_count": 9,
   "id": "8bbe338c",
   "metadata": {},
   "outputs": [
    {
     "name": "stdout",
     "output_type": "stream",
     "text": [
      "[[48, 60, 56], [132, 159, 146], [216, 258, 236]]\n"
     ]
    }
   ],
   "source": [
    "# 2. Write a Python Program to Multiply Two Matrices?\n",
    "# Ans:-\n",
    "a = [[1,2,3],[4,5,6],[7,8,9]]\n",
    "b = [[11,12,13],[14,15,8],[3,6,9]]\n",
    "\n",
    "def multiply_matrice(a,b):\n",
    "    output = []\n",
    "    if len(a[0]) == len(b):\n",
    "        for ele in range(len(a[0])):\n",
    "            output.append([0 for ele in range(len(b[0]))])\n",
    "        for i in range(len(a)):\n",
    "            for j in range(len(b[0])):\n",
    "                for k in range(len(b)):\n",
    "                    output[i][j] += a[i][k]*b[k][j]\n",
    "        print(output)     \n",
    "    else:\n",
    "        print('Matrix Multiplication is Not Possible')\n",
    "        \n",
    "multiply_matrice(a,b)"
   ]
  },
  {
   "cell_type": "code",
   "execution_count": 10,
   "id": "60d71c24",
   "metadata": {},
   "outputs": [
    {
     "name": "stdout",
     "output_type": "stream",
     "text": [
      "[[1, 2, 3], [4, 5, 6], [7, 8, 9]] -> [[1, 4, 7], [2, 5, 8], [3, 6, 9]]\n",
      "[[1, 2], [4, 5], [7, 8]] -> [[1, 4, 7], [2, 5, 8]]\n",
      "[[1, 2, 3], [4, 5, 6]] -> [[1, 4], [2, 5], [3, 6]]\n"
     ]
    }
   ],
   "source": [
    "# 3. Write a Python Program to Transpose a Matrix?\n",
    "# Ans:-\n",
    "a = [[1,2,3],[4,5,6],[7,8,9]]\n",
    "b = [[1,2],[4,5],[7,8]]\n",
    "c = [[1,2,3],[4,5,6]]\n",
    "\n",
    "def generate_transpose(in_matrix):\n",
    "    out_matrix = []\n",
    "    for ele in range(len(in_matrix[0])):\n",
    "        out_matrix.append([0 for i in range(len(in_matrix))])\n",
    "    for i in range(len(in_matrix)):\n",
    "        for j in range(len(in_matrix[i])):\n",
    "            out_matrix[j][i] = in_matrix[i][j]\n",
    "    print(f'{in_matrix} -> {out_matrix}')\n",
    "        \n",
    "generate_transpose(a)\n",
    "generate_transpose(b)\n",
    "generate_transpose(c)"
   ]
  },
  {
   "cell_type": "code",
   "execution_count": 13,
   "id": "27076e3a",
   "metadata": {},
   "outputs": [
    {
     "name": "stdout",
     "output_type": "stream",
     "text": [
      "apple\n",
      "ball\n",
      "cat\n",
      "doll\n",
      "Enter the wordsMy name is Aman Gupta\n",
      "Aman\n",
      "Gupta\n",
      "My\n",
      "is\n",
      "name\n"
     ]
    }
   ],
   "source": [
    "# 4. Write a Python Program to Sort Words in Alphabetic Order?\n",
    "# Ans:-\n",
    "words=['doll','ball','cat','apple']\n",
    "words.sort()\n",
    "for i in words:\n",
    "    print(i)\n",
    "# OR\n",
    "str=input(\"Enter the words\")\n",
    "words=str.split()\n",
    "words.sort()\n",
    "for i in words:\n",
    "    print(i)"
   ]
  },
  {
   "cell_type": "code",
   "execution_count": 8,
   "id": "fa97d66b",
   "metadata": {},
   "outputs": [
    {
     "name": "stdout",
     "output_type": "stream",
     "text": [
      "Aman Gupta \n"
     ]
    }
   ],
   "source": [
    "# 5. Write a Python Program to Remove Punctuation From a String?\n",
    "# Ans:-\n",
    "def remove_special_symbols(s):\n",
    "    punctuations='''!()-[]{};:'\"\\,<>./?@#$%^&*_~'''\n",
    "    out_string = ''\n",
    "    for i in s:\n",
    "        if i not in punctuations:\n",
    "            out_string += i\n",
    "    print(out_string)\n",
    "s=\"Aman- Gupta! \"\n",
    "remove_special_symbols(s)"
   ]
  },
  {
   "cell_type": "code",
   "execution_count": null,
   "id": "9dc2fcc0",
   "metadata": {},
   "outputs": [],
   "source": []
  }
 ],
 "metadata": {
  "kernelspec": {
   "display_name": "Python 3 (ipykernel)",
   "language": "python",
   "name": "python3"
  },
  "language_info": {
   "codemirror_mode": {
    "name": "ipython",
    "version": 3
   },
   "file_extension": ".py",
   "mimetype": "text/x-python",
   "name": "python",
   "nbconvert_exporter": "python",
   "pygments_lexer": "ipython3",
   "version": "3.9.12"
  }
 },
 "nbformat": 4,
 "nbformat_minor": 5
}
