{
 "cells": [
  {
   "cell_type": "code",
   "execution_count": null,
   "id": "2a65924a",
   "metadata": {},
   "outputs": [],
   "source": [
    "# 1. How do you distinguish between shutil.copy() and shutil.copytree()?\n",
    "# Ans:-\n",
    "While shutil.copy() will copy a single file with same permissions, \n",
    "shutil.copytree() will copy an entire folder and every folder and file contained in it."
   ]
  },
  {
   "cell_type": "code",
   "execution_count": 8,
   "id": "26bc02d3",
   "metadata": {},
   "outputs": [],
   "source": [
    "# 2. What function is used to rename files??\n",
    "# Ans:-\n",
    "With move function w change the name of file w.r.t to changing location...\n",
    "import shutil\n",
    "shutil.move('oldname', 'renamedfiles/newname')"
   ]
  },
  {
   "cell_type": "code",
   "execution_count": null,
   "id": "461318ab",
   "metadata": {},
   "outputs": [],
   "source": [
    "# 3. What is the difference between the delete functions in the send2trash and shutil modules?\n",
    "# Ans:-\n",
    "The send2trash functions will move a file or folder to the recycle bin, \n",
    "while shutil functions will permanently delete files and folders."
   ]
  },
  {
   "cell_type": "code",
   "execution_count": null,
   "id": "5c38243b",
   "metadata": {},
   "outputs": [],
   "source": [
    "# 4.ZipFile objects have a close() method just like File objects’ close() method. What ZipFile method is\n",
    "# equivalent to File objects’ open() method?\n",
    "# Ans:-\n",
    "#  ZipFile Module provides a method called as zipfile.ZipFile() to read and write to zipFiles. it takes arugments such as filename and mode etc zipfile.ZipFile('filename', mode = 'r')"
   ]
  },
  {
   "cell_type": "code",
   "execution_count": null,
   "id": "c6212f92",
   "metadata": {},
   "outputs": [],
   "source": [
    "5. Create a programme that searches a folder tree for files with a certain file extension (such as .pdf\n",
    "or .jpg). Copy these files from whatever location they are in to a new folder.\n",
    "\n"
   ]
  },
  {
   "cell_type": "code",
   "execution_count": 33,
   "id": "c8355a13",
   "metadata": {},
   "outputs": [],
   "source": [
    "import os\n",
    "import shutil\n",
    "def search_me(source,destination,extensions):\n",
    "    source=os.path.abspath(source)\n",
    "    destinatin=os.path.abspath(destination)\n",
    "    for foldername, subfolders, filenames in os.walk(source):\n",
    "        for filename in filenames:\n",
    "            name, extension = os.path.splitext(filename)\n",
    "            if extension in extensions:\n",
    "                fileAbsPath = foldername + os.path.sep + filename + extension\n",
    "                print('Coping', fileAbsPath, 'to', destination)\n",
    "                shutil.copy(fileAbsPath, destination)\n",
    "    \n",
    "extensions=['.pdf','.jpg']\n",
    "source=\"Pictures\"\n",
    "destination=\"Documents\"\n",
    "search_me(source,destination,extensions)\n"
   ]
  },
  {
   "cell_type": "code",
   "execution_count": null,
   "id": "fa1329ca",
   "metadata": {},
   "outputs": [],
   "source": []
  }
 ],
 "metadata": {
  "kernelspec": {
   "display_name": "Python 3 (ipykernel)",
   "language": "python",
   "name": "python3"
  },
  "language_info": {
   "codemirror_mode": {
    "name": "ipython",
    "version": 3
   },
   "file_extension": ".py",
   "mimetype": "text/x-python",
   "name": "python",
   "nbconvert_exporter": "python",
   "pygments_lexer": "ipython3",
   "version": "3.9.12"
  }
 },
 "nbformat": 4,
 "nbformat_minor": 5
}
