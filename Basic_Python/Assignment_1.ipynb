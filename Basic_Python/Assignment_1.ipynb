{
 "cells": [
  {
   "cell_type": "code",
   "execution_count": null,
   "id": "a68421f9",
   "metadata": {},
   "outputs": [],
   "source": [
    "Que 1. In the below elements which of them are values or an expression? \n",
    "eg:- values can be integer or string and expressions will be mathematical operators.\n",
    "\n",
    "* :- It is a expression\n",
    "'hello' :- It is a value \n",
    "-87.8 :- It is a value\n",
    "- :- It is a expression\n",
    "/ :- It is a expression\n",
    "+ :- It is a expression\n",
    "6 :- It is a value"
   ]
  },
  {
   "cell_type": "code",
   "execution_count": null,
   "id": "74463ea4",
   "metadata": {},
   "outputs": [],
   "source": [
    "Que 2. What is the difference between string and variable?\n",
    "Ans :-\n",
    "String is the collection of characters/values i.e(Array) example:- \"Aman Gupta\"\n",
    "variable is like a container/refrence which store values example:- age=22"
   ]
  },
  {
   "cell_type": "code",
   "execution_count": null,
   "id": "44ca31d7",
   "metadata": {},
   "outputs": [],
   "source": [
    "Que 3. Describe three different data types.\n",
    "Ans :-\n",
    "int is a data type which store numbers example:- 10,11,12,13\n",
    "float is a data type which store point values/ fraction values example:- pie = 3.1415\n",
    "string is a data type which store alphabets example:- name=\"Aman\" "
   ]
  },
  {
   "cell_type": "code",
   "execution_count": null,
   "id": "9a987b3a",
   "metadata": {},
   "outputs": [],
   "source": [
    "Que 4. What is an expression made up of? What do all expressions do?\n",
    "Ans:-\n",
    "Expression is made up of combination of constant, variable and operators. example:- c = a + b\n",
    "Expressions are used to perform some calculations to get the desire out put."
   ]
  },
  {
   "cell_type": "code",
   "execution_count": null,
   "id": "ab3fc19f",
   "metadata": {},
   "outputs": [],
   "source": [
    "Que5. This assignment statements, like spam = 10.\n",
    "      What is the difference between an expression and a statement?\n",
    "Ans:-\n",
    "Expression is the combination of constant, variable and operators which returns value,\n",
    "where as a statement is a sentence which doesnot return anything."
   ]
  },
  {
   "cell_type": "code",
   "execution_count": null,
   "id": "fe3e67b6",
   "metadata": {},
   "outputs": [],
   "source": [
    "Que 6. After running the following code, what does the variable bacon contain?\n",
    "bacon = 22\n",
    "bacon + 1\n",
    "Ans :-\n",
    "bacon will contain 23."
   ]
  },
  {
   "cell_type": "code",
   "execution_count": 3,
   "id": "fba0a503",
   "metadata": {},
   "outputs": [
    {
     "data": {
      "text/plain": [
       "23"
      ]
     },
     "execution_count": 3,
     "metadata": {},
     "output_type": "execute_result"
    }
   ],
   "source": [
    "bacon = 22\n",
    "bacon + 1"
   ]
  },
  {
   "cell_type": "code",
   "execution_count": null,
   "id": "ffcd6049",
   "metadata": {},
   "outputs": [],
   "source": [
    "Que 7. What should the values of the following two terms be?\n",
    "'spam' + 'spamspam'\n",
    "'spam' * 3\n",
    "Ans:-\n",
    "'spam' + 'spamspam' = 'spamspamspam'\n",
    "'spam' * 3 = 'spamspamspam'"
   ]
  },
  {
   "cell_type": "code",
   "execution_count": null,
   "id": "a95f13ad",
   "metadata": {},
   "outputs": [],
   "source": [
    "Que 8. Why is eggs a valid variable name while 100 is invalid?\n",
    "Ans:-\n",
    "eggs is a valid name because it starts with a letter while 100 is invalid\n",
    "because it starts with number.\n",
    "To define a variable it must start with letter or underscore. "
   ]
  },
  {
   "cell_type": "code",
   "execution_count": null,
   "id": "6e14e48a",
   "metadata": {},
   "outputs": [],
   "source": [
    "Que 9. What three functions can be used to get the integer, \n",
    "   floating-point number, or string version of a value?\n",
    "Ans:-\n",
    "We can use int(), float(), str(), these three function to get integer, floting point,\n",
    "and string.\n",
    "example:- \n",
    "no=5\n",
    "no=float(no)\n",
    "print(type(no))\n",
    "no=int(no)\n",
    "print(type(no))\n",
    "no=str(no)\n",
    "print(type(no))"
   ]
  },
  {
   "cell_type": "code",
   "execution_count": null,
   "id": "08cce6bc",
   "metadata": {},
   "outputs": [],
   "source": [
    "Que 10. Why does this expression cause an error? How can you fix it?\n",
    "'I have eaten ' + 99 + ' burritos.'\n",
    "Ans :-\n",
    "This is a TypeError because we are concating a integer value to strings.\n",
    "To fix it we can put 99 into quotes eg :- 'I have eaten ' + '99' + ' burritos.'"
   ]
  },
  {
   "cell_type": "code",
   "execution_count": null,
   "id": "b8d30ef3",
   "metadata": {},
   "outputs": [],
   "source": []
  }
 ],
 "metadata": {
  "kernelspec": {
   "display_name": "Python 3",
   "language": "python",
   "name": "python3"
  },
  "language_info": {
   "codemirror_mode": {
    "name": "ipython",
    "version": 3
   },
   "file_extension": ".py",
   "mimetype": "text/x-python",
   "name": "python",
   "nbconvert_exporter": "python",
   "pygments_lexer": "ipython3",
   "version": "3.8.8"
  }
 },
 "nbformat": 4,
 "nbformat_minor": 5
}
