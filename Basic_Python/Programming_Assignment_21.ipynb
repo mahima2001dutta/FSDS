{
 "cells": [
  {
   "cell_type": "markdown",
   "id": "9f8cb8fd",
   "metadata": {
    "id": "9f8cb8fd"
   },
   "source": [
    "#### 1.Write a function that takes a list and a number as arguments. Add the number to the end of the list, then remove the first element of the list. The function should then return the updated list.\n",
    "**Examples:**  \n",
    "`next_in_line([5, 6, 7, 8, 9], 1) ➞ [6, 7, 8, 9, 1]`  \n",
    "`next_in_line([7, 6, 3, 23, 17], 10) ➞ [6, 3, 23, 17, 10]`  \n",
    "`next_in_line([1, 10, 20, 42 ], 6) ➞ [10, 20, 42, 6]`  \n",
    "`next_in_line([], 6) ➞ \"No list has been selected\"`  "
   ]
  },
  {
   "cell_type": "code",
   "execution_count": 1,
   "id": "925dd9d9",
   "metadata": {
    "id": "925dd9d9",
    "outputId": "5ebe6d8b-2ed5-4c14-aab2-b9f4b3a7d427"
   },
   "outputs": [
    {
     "name": "stdout",
     "output_type": "stream",
     "text": [
      "Output ➞ [6, 7, 8, 9, 1]\n",
      "Output ➞ [6, 3, 23, 17, 10]\n",
      "Output ➞ [10, 20, 42, 6]\n",
      "No list has been selected\n"
     ]
    }
   ],
   "source": [
    "def next_in_line(input_list, input_num):\n",
    "    if len(input_list) > 1:\n",
    "        input_list.append(input_num)\n",
    "        input_list.remove(input_list[0])\n",
    "        print(f'Output ➞ {input_list}')\n",
    "    else:\n",
    "        print('No list has been selected')\n",
    "\n",
    "next_in_line([5, 6, 7, 8, 9], 1) \n",
    "next_in_line([7, 6, 3, 23, 17], 10)\n",
    "next_in_line([1, 10, 20, 42 ], 6)\n",
    "next_in_line([], 6)"
   ]
  },
  {
   "cell_type": "markdown",
   "id": "406594e9",
   "metadata": {
    "id": "406594e9"
   },
   "source": [
    "#### 2.Create the function that takes a list of dictionaries and returns the sum of people's budgets.\n",
    "**Examples:**  \n",
    "`get_budgets([\n",
    "{ \"name\": \"John\", \"age\": 21, \"budget\": 23000 },\n",
    "{ \"name\": \"Steve\", \"age\": 32, \"budget\": 40000 },\n",
    "{ \"name\": \"Martin\", \"age\": 16, \"budget\": 2700 }\n",
    "]) ➞ 65700`\n",
    "\n",
    "`get_budgets([\n",
    "{ \"name\": \"John\", \"age\": 21, \"budget\": 29000 },\n",
    "{ \"name\": \"Steve\", \"age\": 32, \"budget\": 32000 },\n",
    "{ \"name\": \"Martin\", \"age\": 16, \"budget\": 1600 }\n",
    "]) ➞ 62600`"
   ]
  },
  {
   "cell_type": "code",
   "execution_count": 2,
   "id": "2762e1ad",
   "metadata": {
    "id": "2762e1ad",
    "outputId": "4178c803-0560-40e5-aba8-d5aec0ac96f9"
   },
   "outputs": [
    {
     "name": "stdout",
     "output_type": "stream",
     "text": [
      "Output ➞ 65700\n",
      "Output ➞ 62600\n"
     ]
    }
   ],
   "source": [
    "def get_budgets(input_dt):\n",
    "    sum = 0\n",
    "    for i in input_dt:\n",
    "        sum += i[\"budget\"]\n",
    "    print(f'Output ➞ {sum}')\n",
    "    \n",
    "get_budgets([\n",
    "{ \"name\": \"John\", \"age\": 21, \"budget\": 23000 },\n",
    "{ \"name\": \"Steve\", \"age\": 32, \"budget\": 40000 },\n",
    "{ \"name\": \"Martin\", \"age\": 16, \"budget\": 2700 }\n",
    "])\n",
    "\n",
    "get_budgets([\n",
    "{ \"name\": \"John\", \"age\": 21, \"budget\": 29000 },\n",
    "{ \"name\": \"Steve\", \"age\": 32, \"budget\": 32000 },\n",
    "{ \"name\": \"Martin\", \"age\": 16, \"budget\": 1600 }\n",
    "])"
   ]
  },
  {
   "cell_type": "markdown",
   "id": "dca0850a",
   "metadata": {
    "id": "dca0850a"
   },
   "source": [
    "#### 3.Create a function that takes a string and returns a string with its letters in alphabetical order.\n",
    "**Examples:**   \n",
    "`alphabet_soup(\"hello\") ➞ \"ehllo\"`  \n",
    "`alphabet_soup(\"edabit\") ➞ \"abdeit\"`  \n",
    "`alphabet_soup(\"hacker\") ➞ \"acehkr\"`  \n",
    "`alphabet_soup(\"geek\") ➞ \"eegk\"`  \n",
    "`alphabet_soup(\"javascript\") ➞ \"aacijprstv\"`  "
   ]
  },
  {
   "cell_type": "code",
   "execution_count": 3,
   "id": "5232ceca",
   "metadata": {
    "id": "5232ceca",
    "outputId": "668c9e92-be30-4f74-9143-73a7b9486989"
   },
   "outputs": [
    {
     "name": "stdout",
     "output_type": "stream",
     "text": [
      "hello ➞ ehllo\n",
      "edabit ➞ abdeit\n",
      "hacker ➞ acehkr\n",
      "geek ➞ eegk\n",
      "javascript ➞ aacijprstv\n"
     ]
    }
   ],
   "source": [
    "def alphabet_soup(input_string):\n",
    "    output_string = ''.join(sorted(input_string))\n",
    "    print(f'{input_string} ➞ {output_string}')\n",
    "\n",
    "alphabet_soup(\"hello\")\n",
    "alphabet_soup(\"edabit\")\n",
    "alphabet_soup(\"hacker\")\n",
    "alphabet_soup(\"geek\")\n",
    "alphabet_soup(\"javascript\")"
   ]
  },
  {
   "cell_type": "markdown",
   "id": "79ce23fd",
   "metadata": {
    "id": "79ce23fd"
   },
   "source": [
    "#### 4.What will be the value of your investment at the end of the 10 year period?\n",
    "Create a function that accepts the principal p, the term in years t, the interest rate r, and the\n",
    "number of compounding periods per year n. The function returns the value at the end of term\n",
    "rounded to the nearest cent.\n",
    "\n",
    "\n",
    "**For the example above:**  \n",
    "`compound_interest(10000, 10, 0.06, 12) ➞ 18193.97`  \n",
    "Note that the interest rate is given as a decimal and n=12 because with monthly compounding\n",
    "there are 12 periods per year. Compounding can also be done annually, quarterly, weekly, or\n",
    "daily.  \n",
    "\n",
    "**Examples:**  \n",
    "`compound_interest(100, 1, 0.05, 1) ➞ 105.0`  \n",
    "`compound_interest(3500, 15, 0.1, 4) ➞ 15399.26`  \n",
    "`compound_interest(100000, 20, 0.15, 365) ➞ 2007316.26`  "
   ]
  },
  {
   "cell_type": "code",
   "execution_count": 4,
   "id": "0eb9a4d8",
   "metadata": {
    "id": "0eb9a4d8",
    "outputId": "1d03f91a-0d03-4d9d-b5b4-9e175686872f"
   },
   "outputs": [
    {
     "name": "stdout",
     "output_type": "stream",
     "text": [
      "Output ➞  105.00\n",
      "Output ➞  15399.26\n",
      "Output ➞  2007316.26\n"
     ]
    }
   ],
   "source": [
    "def compound_interest(principal, years, roi, cp):\n",
    "    ci = principal * (1 + (roi / cp)) ** (cp * years)\n",
    "    print(f'Output ➞ {ci: .2f}')\n",
    "\n",
    "compound_interest(100, 1, 0.05, 1)\n",
    "compound_interest(3500, 15, 0.1, 4)\n",
    "compound_interest(100000, 20, 0.15, 365)"
   ]
  },
  {
   "cell_type": "markdown",
   "id": "abb06dab",
   "metadata": {
    "id": "abb06dab"
   },
   "source": [
    "#### 5.Write a function that takes a list of elements and returns only the integers.\n",
    "**Examples:**  \n",
    "`return_only_integer([9, 2, \"space\", \"car\", \"lion\", 16]) ➞ [9, 2, 16]`  \n",
    "`return_only_integer([\"hello\", 81, \"basketball\", 123, \"fox\"]) ➞ [81, 123]`   \n",
    "`return_only_integer([10, \"121\", 56, 20, \"car\", 3, \"lion\"]) ➞ [10, 56, 20,3]`    \n",
    "`return_only_integer([\"String\", True, 3.3, 1]) ➞ [1]`"
   ]
  },
  {
   "cell_type": "code",
   "execution_count": 6,
   "id": "61926cd1",
   "metadata": {
    "id": "61926cd1",
    "outputId": "94134fef-f7d6-42e2-8568-661f799d6893"
   },
   "outputs": [
    {
     "name": "stdout",
     "output_type": "stream",
     "text": [
      "[9, 2, 'space', 'car', 'lion', 16] ➞ [9, 2, 16]\n",
      "['hello', 81, 'basketball', 123, 'fox'] ➞ [81, 123]\n",
      "[10, '121', 56, 20, 'car', 3, 'lion'] ➞ [10, 56, 20, 3]\n",
      "['String', True, 3.3, 1] ➞ [1]\n"
     ]
    }
   ],
   "source": [
    "def return_only_integer(input_list):\n",
    "    output_list = []\n",
    "    for i in input_list:\n",
    "        if type(i) == int:\n",
    "            output_list.append(i)\n",
    "    print(f'{input_list} ➞ {output_list}')\n",
    "    \n",
    "return_only_integer([9, 2, \"space\", \"car\", \"lion\", 16])\n",
    "return_only_integer([\"hello\", 81, \"basketball\", 123, \"fox\"])\n",
    "return_only_integer([10, \"121\", 56, 20, \"car\", 3, \"lion\"]) \n",
    "return_only_integer([\"String\", True, 3.3, 1])"
   ]
  },
  {
   "cell_type": "code",
   "execution_count": null,
   "id": "e78b982f",
   "metadata": {},
   "outputs": [],
   "source": []
  }
 ],
 "metadata": {
  "colab": {
   "name": "Basic_Programming Assignment_21.ipynb",
   "provenance": []
  },
  "kernelspec": {
   "display_name": "Python 3 (ipykernel)",
   "language": "python",
   "name": "python3"
  },
  "language_info": {
   "codemirror_mode": {
    "name": "ipython",
    "version": 3
   },
   "file_extension": ".py",
   "mimetype": "text/x-python",
   "name": "python",
   "nbconvert_exporter": "python",
   "pygments_lexer": "ipython3",
   "version": "3.9.12"
  }
 },
 "nbformat": 4,
 "nbformat_minor": 5
}
