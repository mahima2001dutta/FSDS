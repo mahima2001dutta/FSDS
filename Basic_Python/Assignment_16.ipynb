{
 "cells": [
  {
   "cell_type": "code",
   "execution_count": 1,
   "id": "8fe10780",
   "metadata": {},
   "outputs": [
    {
     "data": {
      "text/plain": [
       "[2000, 2001, 2002, 2003, 2004, 2005]"
      ]
     },
     "execution_count": 1,
     "metadata": {},
     "output_type": "execute_result"
    }
   ],
   "source": [
    "# 1. Create a list called years_list, starting with the year of your birth, and each year thereafter until\n",
    "# the year of your fifth birthday. For example, if you were born in 1980. the list would be years_list =\n",
    "# [1980, 1981, 1982, 1983, 1984, 1985].\n",
    "# Ans:-\n",
    "years_list=[i for i in range(2000,2006,1)]\n",
    "years_list"
   ]
  },
  {
   "cell_type": "code",
   "execution_count": 2,
   "id": "2bb29034",
   "metadata": {},
   "outputs": [
    {
     "name": "stdout",
     "output_type": "stream",
     "text": [
      "2003\n"
     ]
    }
   ],
   "source": [
    "# 2. In which year in years_list was your third birthday? Remember, you were 0 years of age for your\n",
    "# first year.\n",
    "# Ans:-\n",
    "print(years_list[3])"
   ]
  },
  {
   "cell_type": "code",
   "execution_count": 3,
   "id": "bdee5489",
   "metadata": {},
   "outputs": [
    {
     "name": "stdout",
     "output_type": "stream",
     "text": [
      "2005\n"
     ]
    }
   ],
   "source": [
    "# 3.In the years list, which year were you the oldest?\n",
    "# Ans:-\n",
    "print(max(years_list))"
   ]
  },
  {
   "cell_type": "code",
   "execution_count": 12,
   "id": "a9af0880",
   "metadata": {},
   "outputs": [],
   "source": [
    "# 4. Make a list called things with these three strings as elements: 'mozzarella', 'cinderella',\n",
    "# 'salmonella'.\n",
    "things=['mozzarella', 'cinderella', 'salmonella']"
   ]
  },
  {
   "cell_type": "code",
   "execution_count": 13,
   "id": "8507a42a",
   "metadata": {},
   "outputs": [
    {
     "name": "stdout",
     "output_type": "stream",
     "text": [
      "['mozzarella', 'Cinderella', 'salmonella']\n"
     ]
    }
   ],
   "source": [
    "# 5. Capitalize the element in things that refers to a person and then print the list. Did it change the\n",
    "# element in the list?\n",
    "# Ans:-\n",
    "\n",
    "things[1]=things[1].capitalize()\n",
    "print(things)"
   ]
  },
  {
   "cell_type": "code",
   "execution_count": 7,
   "id": "7261eeeb",
   "metadata": {},
   "outputs": [],
   "source": [
    "# 6. Make a surprise list with the elements 'Groucho', 'Chico', and 'Harpo.'\n",
    "# Ans:-\n",
    "surprise=['Groucho', 'Chico', 'Harpo']"
   ]
  },
  {
   "cell_type": "code",
   "execution_count": 16,
   "id": "a520207a",
   "metadata": {},
   "outputs": [
    {
     "data": {
      "text/plain": [
       "['Groucho', 'Chico', 'Oprah']"
      ]
     },
     "execution_count": 16,
     "metadata": {},
     "output_type": "execute_result"
    }
   ],
   "source": [
    "# 7. Lowercase the last element of the surprise list, reverse it, and then capitalize it.\n",
    "# Ans:-\n",
    "surprise[2]=surprise[2].lower()\n",
    "surprise[2]=surprise[2][::-1].capitalize()\n",
    "surprise"
   ]
  },
  {
   "cell_type": "code",
   "execution_count": 20,
   "id": "6385d657",
   "metadata": {},
   "outputs": [
    {
     "data": {
      "text/plain": [
       "{'Dog': 'Chien', 'Cat': 'Chat', 'walrus': 'morse'}"
      ]
     },
     "execution_count": 20,
     "metadata": {},
     "output_type": "execute_result"
    }
   ],
   "source": [
    "# 8. Make an English-to-French dictionary called e2f and print it. Here are your starter words: dog is\n",
    "# chien, cat is chat, and walrus is morse.\n",
    "# Ans:-\n",
    "e2f={'Dog':'Chien', 'Cat':'Chat', 'walrus':'morse'}\n",
    "e2f"
   ]
  },
  {
   "cell_type": "code",
   "execution_count": 24,
   "id": "d4b8ad32",
   "metadata": {},
   "outputs": [
    {
     "data": {
      "text/plain": [
       "'morse'"
      ]
     },
     "execution_count": 24,
     "metadata": {},
     "output_type": "execute_result"
    }
   ],
   "source": [
    "# 9. Write the French word for walrus in your three-word dictionary e2f.\n",
    "# Ans:-\n",
    "e2f.get('walrus')"
   ]
  },
  {
   "cell_type": "code",
   "execution_count": 41,
   "id": "2d76274e",
   "metadata": {},
   "outputs": [
    {
     "data": {
      "text/plain": [
       "{'Chien': 'Dog', 'Chat': 'Cat', 'morse': 'walrus'}"
      ]
     },
     "execution_count": 41,
     "metadata": {},
     "output_type": "execute_result"
    }
   ],
   "source": [
    "# 10. Make a French-to-English dictionary called f2e from e2f. Use the items method.\n",
    "# Ans:\n",
    "f2e=dict([i[::-1] for i in e2f.items()])\n",
    "f2e"
   ]
  },
  {
   "cell_type": "code",
   "execution_count": 43,
   "id": "2fc0955a",
   "metadata": {},
   "outputs": [
    {
     "data": {
      "text/plain": [
       "'Dog'"
      ]
     },
     "execution_count": 43,
     "metadata": {},
     "output_type": "execute_result"
    }
   ],
   "source": [
    "# 11. Print the English version of the French word chien using f2e.\n",
    "# Ans:-\n",
    "f2e.get('Chien')"
   ]
  },
  {
   "cell_type": "code",
   "execution_count": 49,
   "id": "63294278",
   "metadata": {},
   "outputs": [
    {
     "data": {
      "text/plain": [
       "['Chien', 'Chat', 'morse']"
      ]
     },
     "execution_count": 49,
     "metadata": {},
     "output_type": "execute_result"
    }
   ],
   "source": [
    "# 12. Make and print a set of English words from the keys in e2f.\n",
    "# Ans:-\n",
    "English_word=[]\n",
    "for i in e2f.values():\n",
    "    English_word.append(i)\n",
    "English_word"
   ]
  },
  {
   "cell_type": "code",
   "execution_count": 57,
   "id": "4252d064",
   "metadata": {},
   "outputs": [
    {
     "data": {
      "text/plain": [
       "{'animals': {'cats': ['Henri', 'Grumpy', 'Lucy'], 'octop': {}, 'emus': {}},\n",
       " 'plants': {},\n",
       " 'others': {}}"
      ]
     },
     "execution_count": 57,
     "metadata": {},
     "output_type": "execute_result"
    }
   ],
   "source": [
    "# 13. Make a multilevel dictionary called life. Use these strings for the topmost keys: 'animals', 'plants',\n",
    "# and 'other'. Make the 'animals' key refer to another dictionary with the keys 'cats', 'octop';, and\n",
    "# 'emus'. Make the 'cats' key refer to a list of strings with the values 'Henri', 'Grumpy', and 'Lucy'.\n",
    "# Make all the other keys refer to empty dictionaries.\n",
    "# # Ans:-\n",
    "life={\n",
    "    'animals':{\n",
    "        'cats':['Henri', 'Grumpy', 'Lucy'], \n",
    "        'octop':{},\n",
    "        'emus':{} },\n",
    "    'plants':{},\n",
    "    'others':{} }\n",
    "life"
   ]
  },
  {
   "cell_type": "code",
   "execution_count": 62,
   "id": "ce634266",
   "metadata": {},
   "outputs": [
    {
     "name": "stdout",
     "output_type": "stream",
     "text": [
      "['animals', 'plants', 'others']\n"
     ]
    }
   ],
   "source": [
    "# 14. Print the top-level keys of life.\n",
    "# Ans:-\n",
    "print(list(life.keys()))"
   ]
  },
  {
   "cell_type": "code",
   "execution_count": 73,
   "id": "057303e5",
   "metadata": {},
   "outputs": [
    {
     "name": "stdout",
     "output_type": "stream",
     "text": [
      "cats\n",
      "octop\n",
      "emus\n"
     ]
    },
    {
     "data": {
      "text/plain": [
       "dict_keys(['cats', 'octop', 'emus'])"
      ]
     },
     "execution_count": 73,
     "metadata": {},
     "output_type": "execute_result"
    }
   ],
   "source": [
    "# 15. Print the keys for life['animals'].\n",
    "for i in life['animals']:\n",
    "    print(i)\n",
    "    \n",
    "life['animals'].keys()"
   ]
  },
  {
   "cell_type": "code",
   "execution_count": 69,
   "id": "be151972",
   "metadata": {},
   "outputs": [
    {
     "name": "stdout",
     "output_type": "stream",
     "text": [
      "['Henri', 'Grumpy', 'Lucy']\n"
     ]
    }
   ],
   "source": [
    "# 16. Print the values for life['animals']['cats']\n",
    "# Ans:-\n",
    "print(life['animals']['cats'][:])"
   ]
  },
  {
   "cell_type": "code",
   "execution_count": null,
   "id": "cffd7c29",
   "metadata": {},
   "outputs": [],
   "source": []
  }
 ],
 "metadata": {
  "kernelspec": {
   "display_name": "Python 3",
   "language": "python",
   "name": "python3"
  },
  "language_info": {
   "codemirror_mode": {
    "name": "ipython",
    "version": 3
   },
   "file_extension": ".py",
   "mimetype": "text/x-python",
   "name": "python",
   "nbconvert_exporter": "python",
   "pygments_lexer": "ipython3",
   "version": "3.8.8"
  }
 },
 "nbformat": 4,
 "nbformat_minor": 5
}
