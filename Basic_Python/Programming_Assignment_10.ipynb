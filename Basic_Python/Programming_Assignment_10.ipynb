{
 "cells": [
  {
   "cell_type": "code",
   "execution_count": 14,
   "id": "b25cb142",
   "metadata": {},
   "outputs": [
    {
     "name": "stdout",
     "output_type": "stream",
     "text": [
      "The sum of list is 120\n"
     ]
    }
   ],
   "source": [
    "# 1. Write a Python program to find sum of elements in list?\n",
    "# Ans:-\n",
    "l=[x for x in range(15+1)]\n",
    "from functools import reduce\n",
    "print(\"The sum of list is\",reduce(lambda a,b:a+b, l))"
   ]
  },
  {
   "cell_type": "code",
   "execution_count": 17,
   "id": "18a5194e",
   "metadata": {},
   "outputs": [
    {
     "name": "stdout",
     "output_type": "stream",
     "text": [
      "The sum of list is 120\n"
     ]
    }
   ],
   "source": [
    "# 2. Write a Python program to Multiply all numbers in the list?\n",
    "l=[x for x in range(1,5+1)]\n",
    "from functools import reduce\n",
    "print(\"The sum of list is\",reduce(lambda a,b:a*b, l))"
   ]
  },
  {
   "cell_type": "code",
   "execution_count": 24,
   "id": "87ace617",
   "metadata": {},
   "outputs": [
    {
     "name": "stdout",
     "output_type": "stream",
     "text": [
      "Smallest number in the list is 1\n"
     ]
    }
   ],
   "source": [
    "# 3. Write a Python program to find smallest number in a list?\n",
    "# Ans:-\n",
    "l=[2,4,5,6,13,53,6,756,3,1]\n",
    "l.sort()\n",
    "print(\"Smallest number in the list is\",l[0])\n",
    "\n"
   ]
  },
  {
   "cell_type": "code",
   "execution_count": 26,
   "id": "09768387",
   "metadata": {},
   "outputs": [
    {
     "name": "stdout",
     "output_type": "stream",
     "text": [
      "Largest number in the list is 756\n"
     ]
    }
   ],
   "source": [
    "# 4. Write a Python program to find largest number in a list?\n",
    "# Ans:-\n",
    "l=[2,4,5,6,13,53,6,756,3,1]\n",
    "l.sort()\n",
    "print(\"Largest number in the list is\",l[-1])"
   ]
  },
  {
   "cell_type": "code",
   "execution_count": 28,
   "id": "27119ab5",
   "metadata": {},
   "outputs": [
    {
     "name": "stdout",
     "output_type": "stream",
     "text": [
      "Second largest number in the list is 53\n"
     ]
    }
   ],
   "source": [
    "# 5. Write a Python program to find second largest number in a list?\n",
    "# Ans:-\n",
    "l=[2,4,5,6,13,53,6,756,3,1]\n",
    "l.sort()\n",
    "print(\"Second largest number in the list is\",l[-2])"
   ]
  },
  {
   "cell_type": "code",
   "execution_count": 8,
   "id": "a622d239",
   "metadata": {},
   "outputs": [
    {
     "name": "stdout",
     "output_type": "stream",
     "text": [
      "Enter the largest number of index you want :1\n",
      "1 largest number in the list is number 756\n"
     ]
    }
   ],
   "source": [
    "# 6. Write a Python program to find N largest elements from a list?\n",
    "# Ans:-\n",
    "l=[2,4,5,6,13,53,6,756,3,1]\n",
    "l.sort()\n",
    "nth=int(input(\"Enter the largest number of index you want :\"))\n",
    "print(f\"{nth} largest number in the list is number\",l[-nth])"
   ]
  },
  {
   "cell_type": "code",
   "execution_count": 10,
   "id": "9a2a9c2a",
   "metadata": {},
   "outputs": [
    {
     "name": "stdout",
     "output_type": "stream",
     "text": [
      "[2, 4, 6, 8, 10, 12, 14, 16, 18, 20]\n"
     ]
    }
   ],
   "source": [
    "# 7. Write a Python program to print even numbers in a list?\n",
    "# Ans:-\n",
    "l=[x for x in range(1,20+1)]\n",
    "print(list(filter(lambda x:x%2==0, l)))"
   ]
  },
  {
   "cell_type": "code",
   "execution_count": 11,
   "id": "d136712e",
   "metadata": {},
   "outputs": [
    {
     "name": "stdout",
     "output_type": "stream",
     "text": [
      "Object `List` not found.\n",
      "[1, 3, 5, 7, 9, 11, 13, 15, 17, 19]\n"
     ]
    }
   ],
   "source": [
    "8. Write a Python program to print odd numbers in a List?\n",
    "# Ans:-\n",
    "l=[x for x in range(1,20+1)]\n",
    "print(list(filter(lambda x:x%2==1, l)))"
   ]
  },
  {
   "cell_type": "code",
   "execution_count": 38,
   "id": "ddde795a",
   "metadata": {},
   "outputs": [
    {
     "data": {
      "text/plain": [
       "[1, 2, 3, [4, 5], 6, [7], 8]"
      ]
     },
     "execution_count": 38,
     "metadata": {},
     "output_type": "execute_result"
    }
   ],
   "source": [
    "# 9. Write a Python program to Remove empty List from List?\n",
    "# Ans:-\n",
    "l=[1,2,3,[],[4,5],[],6,[7],8,[]]\n",
    "new_l=[i for i in l if i!=[]]\n",
    "new_l"
   ]
  },
  {
   "cell_type": "code",
   "execution_count": 40,
   "id": "f0d6db21",
   "metadata": {},
   "outputs": [
    {
     "data": {
      "text/plain": [
       "[1, 2, 3, [4, 5], 6, [7], 8]"
      ]
     },
     "execution_count": 40,
     "metadata": {},
     "output_type": "execute_result"
    }
   ],
   "source": [
    "# 10. Write a Python program to Cloning or Copying a list?\n",
    "# Ans:-\n",
    "copy_list=new_l.copy()\n",
    "copy_list"
   ]
  },
  {
   "cell_type": "code",
   "execution_count": 44,
   "id": "fa7e5812",
   "metadata": {},
   "outputs": [
    {
     "name": "stdout",
     "output_type": "stream",
     "text": [
      "4\n",
      "3\n",
      "6\n"
     ]
    }
   ],
   "source": [
    "# 11. Write a Python program to Count occurrences of an element in a list?\n",
    "l=[1,2,3,4,5,5,4,3,3,4,5,5,3,3,3]\n",
    "print(l.count(5))\n",
    "print(l.count(4))\n",
    "print(l.count(3))"
   ]
  },
  {
   "cell_type": "code",
   "execution_count": null,
   "id": "a3eeae27",
   "metadata": {},
   "outputs": [],
   "source": []
  },
  {
   "cell_type": "code",
   "execution_count": null,
   "id": "3f00bc8b",
   "metadata": {},
   "outputs": [],
   "source": []
  },
  {
   "cell_type": "code",
   "execution_count": null,
   "id": "f84522d4",
   "metadata": {},
   "outputs": [],
   "source": []
  }
 ],
 "metadata": {
  "kernelspec": {
   "display_name": "Python 3",
   "language": "python",
   "name": "python3"
  },
  "language_info": {
   "codemirror_mode": {
    "name": "ipython",
    "version": 3
   },
   "file_extension": ".py",
   "mimetype": "text/x-python",
   "name": "python",
   "nbconvert_exporter": "python",
   "pygments_lexer": "ipython3",
   "version": "3.8.8"
  }
 },
 "nbformat": 4,
 "nbformat_minor": 5
}
