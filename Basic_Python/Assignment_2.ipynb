{
 "cells": [
  {
   "cell_type": "code",
   "execution_count": null,
   "id": "0e405253",
   "metadata": {},
   "outputs": [],
   "source": [
    "Que 1.What are the two values of the Boolean data type? How do you write them?\n",
    "Ans:-\n",
    "The two values of Boolean data type are True and False.\n",
    "T must be capital and F must be capital Example True and False."
   ]
  },
  {
   "cell_type": "code",
   "execution_count": null,
   "id": "ca4e7e18",
   "metadata": {},
   "outputs": [],
   "source": [
    "Que 2. What are the three different types of Boolean operators?\n",
    "Ans:-\n",
    "The three different types of boolean operators are and, or, not. "
   ]
  },
  {
   "cell_type": "code",
   "execution_count": null,
   "id": "957d3408",
   "metadata": {},
   "outputs": [],
   "source": [
    "Que 3. Make a list of each Boolean operator's truth tables \n",
    "(i.e. every possible combination of Boolean values for the operator and what it evaluate ).\n",
    "Ans:-\n",
    "0=True 1=False\n",
    "for And \n",
    "X * Y = XY\n",
    "0 * 0 = 0\n",
    "0 * 1 = 0\n",
    "1 * 0 = 0\n",
    "1 * 1 = 1\n",
    "\n",
    "for or \n",
    "X + Y = X+Y\n",
    "0 + 0 = 0\n",
    "0 + 1 = 1\n",
    "1 + 0 = 1\n",
    "1 + 1 = 1\n",
    "\n",
    "for not \n",
    "!0(False) = 1(True)\n",
    "!1(True) = 0(False)\n"
   ]
  },
  {
   "cell_type": "code",
   "execution_count": null,
   "id": "31d1b691",
   "metadata": {},
   "outputs": [],
   "source": [
    "Que 4. What are the values of the following expressions?\n",
    "(5 > 4) and (3 == 5)\n",
    "not (5 > 4)\n",
    "(5 > 4) or (3 == 5)\n",
    "not ((5 > 4) or (3 == 5))\n",
    "(True and True) and (True == False)\n",
    "(not False) or (not True)\n",
    "\n",
    "Ans:-\n",
    "    \n",
    "(5 > 4) and (3 == 5) is False\n",
    "not (5 > 4) is False\n",
    "(5 > 4) or (3 == 5) is True\n",
    "not ((5 > 4) or (3 == 5)) is False\n",
    "(True and True) and (True == False) is False\n",
    "(not False) or (not True) is True"
   ]
  },
  {
   "cell_type": "code",
   "execution_count": null,
   "id": "7b3a536b",
   "metadata": {},
   "outputs": [],
   "source": [
    "Que 5. What are the six comparison operators?\n",
    "Ans:-\n",
    "Less than ( < )\n",
    "Less than or equal to (<=)\n",
    "Greater than (>)\n",
    "Greater than or equal to (>=)\n",
    "Equal to ( == )\n",
    "Not equal to ( != )"
   ]
  },
  {
   "cell_type": "code",
   "execution_count": null,
   "id": "a2b7e6d8",
   "metadata": {},
   "outputs": [],
   "source": [
    "Que 6. How do you tell the difference between the equal to and assignment operators?\n",
    "Describe a condition and when you would use one.\n",
    "Ans:-\n",
    "equals to is denoted by '==' where as assignment operator is denoted by '='.\n",
    "we can tell the difference by checking the symbol if one equal is there then it is an assignment\n",
    "operator, if two equal then it means equal to.\n",
    "\n",
    "we can use assignment operator to assign values eg:- x=5, y=10\n",
    "we can use equal to check one variabe is equal to other eg:- x==y\n",
    "\n",
    "example\n",
    "x,y=5,10\n",
    "if x==y:\n",
    "    print(\"They are equal!\")\n",
    "else:\n",
    "    print(\"They are not equal!\")    "
   ]
  },
  {
   "cell_type": "code",
   "execution_count": null,
   "id": "a2235508",
   "metadata": {},
   "outputs": [],
   "source": [
    "Que 7. Identify the three blocks in this code:\n",
    "spam = 0\n",
    "if spam == 10:\n",
    "print('eggs')\n",
    "if spam > 5:\n",
    "print('bacon')\n",
    "else:\n",
    "print('ham')\n",
    "print('spam')\n",
    "print('spam')\n",
    "\n",
    "Ans:-\n",
    "    First Block\n",
    "    if spam == 10:\n",
    "        print('eggs')\n",
    "    \n",
    "    Second Block\n",
    "    if spam > 5:\n",
    "        print('bacon')\n",
    "    \n",
    "    Third Block\n",
    "    else:\n",
    "        print('ham')\n",
    "        print('spam')\n",
    "        print('spam')"
   ]
  },
  {
   "cell_type": "code",
   "execution_count": null,
   "id": "87b1bc0d",
   "metadata": {},
   "outputs": [],
   "source": [
    "Que 8. Write code that prints Hello if 1 is stored in spam, \n",
    "prints Howdy if 2 is stored in spam, and prints Greetings! if anything else is stored in spam.\n",
    "\n",
    "Ans:-\n",
    "spam=int(input(\"Enter 1 or 2 :\"))\n",
    "if spam==1:\n",
    "    print(\"Hello\")\n",
    "elif spam==2:\n",
    "    print(\"Howdy\")\n",
    "else:\n",
    "    print(\"Greetings!\")"
   ]
  },
  {
   "cell_type": "code",
   "execution_count": null,
   "id": "a2ed5b22",
   "metadata": {},
   "outputs": [],
   "source": [
    "Que 9.If your programme is stuck in an endless loop, what keys you’ll press?\n",
    "Ans:-\n",
    "Ctrl + C Keys, pressing simultaneously will end the loop."
   ]
  },
  {
   "cell_type": "code",
   "execution_count": null,
   "id": "3ec836b9",
   "metadata": {},
   "outputs": [],
   "source": [
    "Que 10. How can you tell the difference between break and continue?\n",
    "Ans:-\n",
    "break will terminate that block and come out of that block,\n",
    "where as continue will skip the code below that and proceed further."
   ]
  },
  {
   "cell_type": "code",
   "execution_count": null,
   "id": "99da04fb",
   "metadata": {},
   "outputs": [],
   "source": [
    "Que 11. In a for loop, what is the difference between range(10), range(0, 10), and range(0, 10, 1)?\n",
    "Ans.\n",
    "In range(10) the value given is 10 means we want 10 numbers starts from 0 to 9.\n",
    "In range(0,10) starting value is 0 and ending is 10.\n",
    "In range(0,10,1) starting value is 0 and ending is 10 and steps/increament is 1."
   ]
  },
  {
   "cell_type": "code",
   "execution_count": null,
   "id": "eeb496d0",
   "metadata": {},
   "outputs": [],
   "source": [
    "Que 12. Write a short program that prints the numbers 1 to 10 using a for loop.\n",
    "Then write an equivalent program that prints the numbers 1 to 10 using a while loop.\n",
    "Ans:-\n",
    "    \n",
    "for i in range(1,11,1):\n",
    "    print(i)\n",
    "\n",
    "i=1\n",
    "while i<=10:\n",
    "    print(i)\n",
    "    i+=1"
   ]
  },
  {
   "cell_type": "code",
   "execution_count": null,
   "id": "fba7a80e",
   "metadata": {},
   "outputs": [],
   "source": [
    "Que 13. If you had a function named bacon() inside a module named spam,\n",
    "how would you call it after importing spam?\n",
    "Ans:-\n",
    "spam.bacon()"
   ]
  },
  {
   "cell_type": "code",
   "execution_count": null,
   "id": "acae12a8",
   "metadata": {},
   "outputs": [],
   "source": []
  }
 ],
 "metadata": {
  "kernelspec": {
   "display_name": "Python 3",
   "language": "python",
   "name": "python3"
  },
  "language_info": {
   "codemirror_mode": {
    "name": "ipython",
    "version": 3
   },
   "file_extension": ".py",
   "mimetype": "text/x-python",
   "name": "python",
   "nbconvert_exporter": "python",
   "pygments_lexer": "ipython3",
   "version": "3.8.8"
  }
 },
 "nbformat": 4,
 "nbformat_minor": 5
}
