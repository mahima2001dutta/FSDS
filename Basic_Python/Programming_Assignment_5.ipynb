{
 "cells": [
  {
   "cell_type": "code",
   "execution_count": 9,
   "id": "4aff851e",
   "metadata": {},
   "outputs": [
    {
     "name": "stdout",
     "output_type": "stream",
     "text": [
      "Enter the first number :2\n",
      "Enter the second number :4\n",
      "LCM for 2 and 4 is 4\n"
     ]
    }
   ],
   "source": [
    "# 1.\tWrite a Python Program to Find LCM?\n",
    "# Ans:-\n",
    "a=int(input(\"Enter the first number :\"))\n",
    "b=int(input(\"Enter the second number :\"))\n",
    "max_no=max(a,b)\n",
    "while(1):\n",
    "    if(max_no%a==0 and max_no%b==0):\n",
    "        break\n",
    "    max_no+=1\n",
    "print(\"LCM for {} and {} is\".format(a,b),max_no)"
   ]
  },
  {
   "cell_type": "code",
   "execution_count": 10,
   "id": "af3a331f",
   "metadata": {},
   "outputs": [
    {
     "name": "stdout",
     "output_type": "stream",
     "text": [
      "Enter the first number :4\n",
      "Enter the second number :28\n",
      "HCF of 4 and 28 is 4\n"
     ]
    }
   ],
   "source": [
    "# 2.\tWrite a Python Program to Find HCF?\n",
    "# Ans;-\n",
    "a=int(input(\"Enter the first number :\"))\n",
    "b=int(input(\"Enter the second number :\"))\n",
    "min_no=min(a,b)\n",
    "for i in range(1,min_no+1):\n",
    "    if(a%i==0 and b%i==0):\n",
    "        hcf=i\n",
    "print(\"HCF of {} and {} is\".format(a,b),hcf)"
   ]
  },
  {
   "cell_type": "code",
   "execution_count": 12,
   "id": "f6c67d52",
   "metadata": {},
   "outputs": [
    {
     "name": "stdout",
     "output_type": "stream",
     "text": [
      "Enter the number :4\n",
      "Binary of 4 is 0b100\n",
      "Octal of 4 is 0o4\n",
      "Hexadecimal of 4 is 0x4\n"
     ]
    }
   ],
   "source": [
    "# 3.\tWrite a Python Program to Convert Decimal to Binary, Octal and Hexadecimal?\n",
    "no=int(input(\"Enter the number :\"))\n",
    "print(\"Binary of {} is\".format(no),bin(no))\n",
    "print(\"Octal of {} is\".format(no),oct(no))\n",
    "print(\"Hexadecimal of {} is\".format(no),hex(no))"
   ]
  },
  {
   "cell_type": "code",
   "execution_count": 15,
   "id": "2810c94f",
   "metadata": {},
   "outputs": [
    {
     "name": "stdout",
     "output_type": "stream",
     "text": [
      "Enter a character to know its ascii value :A\n",
      "ASCII value of A is 65\n"
     ]
    }
   ],
   "source": [
    "# 4.\tWrite a Python Program To Find ASCII value of a character?\n",
    "string=input(\"Enter a character to know its ascii value :\")\n",
    "print(\"ASCII value of {} is\".format(string),ord(string))"
   ]
  },
  {
   "cell_type": "code",
   "execution_count": 6,
   "id": "c6484497",
   "metadata": {},
   "outputs": [
    {
     "name": "stdout",
     "output_type": "stream",
     "text": [
      "Enter the first number :100\n",
      "Enter the second number :5\n",
      "1 for Addtion, 2 for subtraction, 3 for multiplication, 4 for Division :4\n",
      "100 / 5 is 20.0\n"
     ]
    }
   ],
   "source": [
    "# 5.\tWrite a Python Program to Make a Simple Calculator with 4 basic mathematical operations?\n",
    "# Ans:-\n",
    "a=int(input(\"Enter the first number :\"))\n",
    "b=int(input(\"Enter the second number :\"))\n",
    "operation=int(input(\"1 for Addtion, 2 for subtraction, 3 for multiplication, 4 for Division :\"))\n",
    "if operation==1:\n",
    "    print(\"{} + {} is\".format(a,b),a+b)\n",
    "elif operation==2:\n",
    "    print(\"{} - {} is\".format(a,b),a-b)\n",
    "elif operation==3:\n",
    "    print(\"{} * {} is\".format(a,b),a*b)\n",
    "elif operation==4:\n",
    "    print(\"{} / {} is\".format(a,b),a/b)\n",
    "else:\n",
    "    print(\"You have entered a wrong input\")"
   ]
  },
  {
   "cell_type": "code",
   "execution_count": null,
   "id": "e27ad749",
   "metadata": {},
   "outputs": [],
   "source": []
  }
 ],
 "metadata": {
  "kernelspec": {
   "display_name": "Python 3",
   "language": "python",
   "name": "python3"
  },
  "language_info": {
   "codemirror_mode": {
    "name": "ipython",
    "version": 3
   },
   "file_extension": ".py",
   "mimetype": "text/x-python",
   "name": "python",
   "nbconvert_exporter": "python",
   "pygments_lexer": "ipython3",
   "version": "3.8.8"
  }
 },
 "nbformat": 4,
 "nbformat_minor": 5
}
