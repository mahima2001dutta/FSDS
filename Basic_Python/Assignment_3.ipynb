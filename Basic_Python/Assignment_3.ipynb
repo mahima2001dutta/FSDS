{
 "cells": [
  {
   "cell_type": "code",
   "execution_count": null,
   "id": "355a9a12",
   "metadata": {},
   "outputs": [],
   "source": [
    "# 1. Why are functions advantageous to have in your programs?\n",
    "Ans:-\n",
    "1)We can make different different functions for different different task.\n",
    "2)We can call functions as much time as we want.\n",
    "3)We can reuse function in different different programs as well."
   ]
  },
  {
   "cell_type": "code",
   "execution_count": null,
   "id": "1ede7b51",
   "metadata": {},
   "outputs": [],
   "source": [
    "# 2. When does the code in a function run: when it's specified or when it's called?\n",
    "Ans:-\n",
    "The code in a function runs when it is called."
   ]
  },
  {
   "cell_type": "code",
   "execution_count": null,
   "id": "be5c829e",
   "metadata": {},
   "outputs": [],
   "source": [
    "# 3. What statement creates a function?\n",
    "Ans:-\n",
    "Syntax of function\n",
    "def function_name():\n",
    "    statement"
   ]
  },
  {
   "cell_type": "code",
   "execution_count": null,
   "id": "16277c5f",
   "metadata": {},
   "outputs": [],
   "source": [
    "# 4. What is the difference between a function and a function call?\n",
    "# Ans:-\n",
    "A function is Block of code which performs a particular task.\n",
    "We cannot use function directly in our code we need to call that function,\n",
    "it is called as function calling."
   ]
  },
  {
   "cell_type": "code",
   "execution_count": null,
   "id": "5c787cd0",
   "metadata": {},
   "outputs": [],
   "source": [
    "# 5. How many global scopes are there in a Python program? How many local scopes?\n",
    "# Ans:-\n",
    "There is only one global and local Python scope per program execution. \n",
    "This scope remains in existence until the program terminates and all its names are forgotten."
   ]
  },
  {
   "cell_type": "code",
   "execution_count": null,
   "id": "a391e1fb",
   "metadata": {},
   "outputs": [],
   "source": [
    "# 6. What happens to variables in a local scope when the function call returns?\n",
    "# Ans:-\n",
    "A local variable retains its value until the next time the function is called.\n",
    "A local variable becomes undefined after the function call completes"
   ]
  },
  {
   "cell_type": "code",
   "execution_count": null,
   "id": "379c594a",
   "metadata": {},
   "outputs": [],
   "source": [
    "# 7. What is the concept of a return value? \n",
    "# Is it possible to have a return value in an expression?\n",
    "# Ans:-\n",
    "While we are writing a function we can ask function to give us the value of something,\n",
    "for example :- \n",
    "def add(x,y):\n",
    "    return x+y\n",
    "In this we are telling function to return us the value of a+b.\n",
    "We can only return value inside a function. "
   ]
  },
  {
   "cell_type": "code",
   "execution_count": null,
   "id": "8508f548",
   "metadata": {},
   "outputs": [],
   "source": [
    "# 8. If a function does not have a return statement,\n",
    "# what is the return value of a call to that function?\n",
    "Ans:- If a function does not have a return statement it will return none."
   ]
  },
  {
   "cell_type": "code",
   "execution_count": null,
   "id": "4c27a064",
   "metadata": {},
   "outputs": [],
   "source": [
    "# 9. How do you make a function variable refer to the global variable?\n",
    "Ans:-\n",
    "If we want to refer to a global variable in a function, \n",
    "we can use the global keyword to declare which variables are global"
   ]
  },
  {
   "cell_type": "code",
   "execution_count": null,
   "id": "3c9269f8",
   "metadata": {},
   "outputs": [],
   "source": [
    "# 10. What is the data type of None?\n",
    "Ans:-\n",
    "The data type of none is none type."
   ]
  },
  {
   "cell_type": "code",
   "execution_count": null,
   "id": "f884ddcc",
   "metadata": {},
   "outputs": [],
   "source": [
    "# 11. What does the sentence import areallyourpetsnamederic do?\n",
    "# Ans:-\n",
    "---------------------------------------------------------------------------\n",
    "ModuleNotFoundError                       Traceback (most recent call last)\n",
    "<ipython-input-15-b1ea9cb2228f> in <module>\n",
    "----> 1 import areallyourpetsnamederic\n",
    "\n",
    "ModuleNotFoundError: No module named 'areallyourpetsnamederic'"
   ]
  },
  {
   "cell_type": "code",
   "execution_count": null,
   "id": "8b7979d4",
   "metadata": {},
   "outputs": [],
   "source": [
    "# 12. If you had a bacon() feature in a spam module, what would you call it after importing spam?\n",
    "# Ans:-\n",
    "spam.bacon()"
   ]
  },
  {
   "cell_type": "code",
   "execution_count": 1,
   "id": "33c50699",
   "metadata": {},
   "outputs": [
    {
     "data": {
      "text/plain": [
       "'Zero division error try another number'"
      ]
     },
     "execution_count": 1,
     "metadata": {},
     "output_type": "execute_result"
    }
   ],
   "source": [
    "# 13. What can you do to save a programme from crashing if it encounters an error?\n",
    "# Ans:-\n",
    "def div(x,y):\n",
    "    try:\n",
    "        return x/y\n",
    "    except Exception as e:\n",
    "        return \"Zero division error try another number\"\n",
    "div(4,0)"
   ]
  },
  {
   "cell_type": "code",
   "execution_count": null,
   "id": "1e3ddc82",
   "metadata": {},
   "outputs": [],
   "source": [
    "# 14. What is the purpose of the try clause? What is the purpose of the except clause?\n",
    "# Ans:-\n",
    "The code block that can cause error can be handeled by try and except clause,\n",
    "If try block does not run sucessfully then except block runs"
   ]
  },
  {
   "cell_type": "code",
   "execution_count": null,
   "id": "1e4e3e36",
   "metadata": {},
   "outputs": [],
   "source": []
  },
  {
   "cell_type": "code",
   "execution_count": null,
   "id": "b3481263",
   "metadata": {},
   "outputs": [],
   "source": []
  }
 ],
 "metadata": {
  "kernelspec": {
   "display_name": "Python 3",
   "language": "python",
   "name": "python3"
  },
  "language_info": {
   "codemirror_mode": {
    "name": "ipython",
    "version": 3
   },
   "file_extension": ".py",
   "mimetype": "text/x-python",
   "name": "python",
   "nbconvert_exporter": "python",
   "pygments_lexer": "ipython3",
   "version": "3.8.8"
  }
 },
 "nbformat": 4,
 "nbformat_minor": 5
}
