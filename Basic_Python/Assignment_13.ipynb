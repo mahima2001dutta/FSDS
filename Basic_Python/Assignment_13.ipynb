{
 "cells": [
  {
   "cell_type": "code",
   "execution_count": null,
   "id": "6da7f6fb",
   "metadata": {},
   "outputs": [],
   "source": []
  },
  {
   "cell_type": "code",
   "execution_count": null,
   "id": "fbe0cafa",
   "metadata": {},
   "outputs": [],
   "source": [
    "# 1. What advantages do Excel spreadsheets have over CSV spreadsheets?\n",
    "\n",
    "Ans: The Advantages of Excel over CSV are:\n",
    "\n",
    "1. Excel (XLS and XLSX) file formats are better for storing and analysing complex data.\n",
    "2. An Excel not only stores data but can also do operations on the data using macros, formulas etc\n",
    "3. CSV files are plain-text files, Does not contain formatting, formulas, macros, etc. It is also known as flat files"
   ]
  },
  {
   "cell_type": "code",
   "execution_count": null,
   "id": "119832e0",
   "metadata": {},
   "outputs": [],
   "source": [
    "# 2.What do you pass to csv.reader() and csv.writer() to create reader and writer objects?\n",
    "# Ans:-\n",
    "# sample code\n",
    "import csv\n",
    "with open(\"test.csv\",\"r\") as data:\n",
    "    csv_data = csv.reader(\"data\", delimeter=\",\")\n",
    "    for i in csv_data:\n",
    "        print(i)"
   ]
  },
  {
   "cell_type": "code",
   "execution_count": null,
   "id": "61567ce3",
   "metadata": {},
   "outputs": [],
   "source": [
    "# 3. What modes do File objects for reader and writer objects need to be opened in?\n",
    "# Ans:\n",
    "For csv.reader(iterable_file_object), the file objects needed to be opened in read mode mode='r'\n",
    "Whereas for csv.writer(iterable_file_object) the file objects needed to be opened in write mode mode='w'"
   ]
  },
  {
   "cell_type": "code",
   "execution_count": null,
   "id": "10f4414b",
   "metadata": {},
   "outputs": [],
   "source": [
    "4. What method takes a list argument and writes it to a CSV file?\n",
    "# Ans:\n",
    "csv.writer class provides two methods for writing to CSV. \n",
    "They are writerow() and writerows(). \n",
    "writerow() method writes a single row at a time. \n",
    "Whereas writerows() method is used to write multiple rows at a time."
   ]
  },
  {
   "cell_type": "code",
   "execution_count": 2,
   "id": "a9ae1540",
   "metadata": {},
   "outputs": [],
   "source": [
    "# Example Program\n",
    "import csv      \n",
    "fields = ['Name', 'Major', 'Year', 'CGPA'] #column names \n",
    "rows = [ \n",
    "            ['Aman', 'BSC_IT', '3', '7.0'],  # data rows of csv file \n",
    "            ['Manish', 'BSC_IT', '3', '8.1'], \n",
    "            ['Nikhli', 'BSC_IT', '3', '9.3']\n",
    "       ] \n",
    "with open(\"college_records.csv\", 'w') as data: \n",
    "    csv_writer = csv.writer(data) # creating a csv writer object \n",
    "    csv_writer.writerow(fields) # writing the fields \n",
    "    csv_writer.writerows(rows) # writing the data rows "
   ]
  },
  {
   "cell_type": "code",
   "execution_count": null,
   "id": "f6113595",
   "metadata": {},
   "outputs": [],
   "source": [
    "# 5. What do the keyword arguments delimiter and line terminator do?\n",
    "# Ans:-\n",
    "',' is Delimiter. We can use any Character as per our needs if required.\n",
    "Similarly Line Terminator comes at end of line by default it is newline and can be changed accourding to Requirement."
   ]
  },
  {
   "cell_type": "code",
   "execution_count": null,
   "id": "8e067020",
   "metadata": {},
   "outputs": [],
   "source": [
    "# 6. What function takes a string of JSON data and returns a Python data structure?\n",
    "# Ans:-\n",
    "loads() method takes a string of JSON data and returns a Python data structure"
   ]
  },
  {
   "cell_type": "code",
   "execution_count": 4,
   "id": "34024bfd",
   "metadata": {},
   "outputs": [
    {
     "name": "stdout",
     "output_type": "stream",
     "text": [
      "{\n",
      "    \"Name\": \"Aman Gupta\",\n",
      "    \"Qualification\": \"BSC\",\n",
      "    \"Stream\": \"IT\"\n",
      "}\n",
      "Type of my_details_1 is <class 'str'>\n",
      "{'Name': 'Aman Gupta', 'Qualification': 'BSC', 'Stream': 'IT'}\n",
      "Type of my_details_2 is <class 'dict'>\n"
     ]
    }
   ],
   "source": [
    "# Example of json.loads() method\n",
    "import json\n",
    "my_details_1 ='''{\n",
    "    \"Name\": \"Aman Gupta\",\n",
    "    \"Qualification\": \"BSC\",\n",
    "    \"Stream\": \"IT\"\n",
    "}'''\n",
    "print(my_details_1)\n",
    "print(f'Type of my_details_1 is {type(my_details_1)}')\n",
    "my_details_2 = json.loads(my_details_1)\n",
    "print(my_details_2)\n",
    "print(f'Type of my_details_2 is {type(my_details_2)}')"
   ]
  },
  {
   "cell_type": "code",
   "execution_count": null,
   "id": "32d67dea",
   "metadata": {},
   "outputs": [],
   "source": [
    "# 7. What function takes a Python data structure and returns a string of JSON data?\n",
    "Ans: dumps() method takes a python data structure and returns a string of JSON data"
   ]
  },
  {
   "cell_type": "code",
   "execution_count": 9,
   "id": "f8de7790",
   "metadata": {},
   "outputs": [
    {
     "name": "stdout",
     "output_type": "stream",
     "text": [
      "{'Name': 'Aman Gupta', 'Qualification': 'BSC', 'Stream': 'IT'}\n",
      "Type of my_details_1 is <class 'dict'>\n",
      "{\"Name\": \"Aman Gupta\", \"Qualification\": \"BSC\", \"Stream\": \"IT\"}\n",
      "Type of my_details_2 is <class 'str'>\n"
     ]
    }
   ],
   "source": [
    "import json\n",
    "my_details_1= {\n",
    "    \"Name\": \"Aman Gupta\",\n",
    "    \"Qualification\": \"BSC\",\n",
    "    \"Stream\": \"IT\"\n",
    "}\n",
    "print(my_details_1)\n",
    "print(f'Type of my_details_1 is {type(my_details_1)}')\n",
    "my_details_2 = json.dumps(my_details_1)\n",
    "print(my_details_2)\n",
    "print(f'Type of my_details_2 is {type(my_details_2)}')"
   ]
  },
  {
   "cell_type": "code",
   "execution_count": null,
   "id": "f350f090",
   "metadata": {},
   "outputs": [],
   "source": []
  }
 ],
 "metadata": {
  "kernelspec": {
   "display_name": "Python 3 (ipykernel)",
   "language": "python",
   "name": "python3"
  },
  "language_info": {
   "codemirror_mode": {
    "name": "ipython",
    "version": 3
   },
   "file_extension": ".py",
   "mimetype": "text/x-python",
   "name": "python",
   "nbconvert_exporter": "python",
   "pygments_lexer": "ipython3",
   "version": "3.9.12"
  }
 },
 "nbformat": 4,
 "nbformat_minor": 5
}
