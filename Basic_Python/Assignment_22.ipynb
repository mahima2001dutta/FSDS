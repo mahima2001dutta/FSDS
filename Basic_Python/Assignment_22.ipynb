{
 "cells": [
  {
   "cell_type": "code",
   "execution_count": null,
   "id": "a2113f32",
   "metadata": {},
   "outputs": [],
   "source": [
    "1. What is the result of the code, and explain?\n",
    "\n",
    ">>> X = 'iNeuron'\n",
    ">>> def func():\n",
    "print(X)\n",
    "\n",
    ">>> func()\n",
    "\n",
    "Ans:-\n",
    "    \n",
    "This function will print iNeuron in the console.\n",
    "In First line a variable X is storing string of 'iNeuron'.\n",
    "In Second line a function with name func is made with no parameter.\n",
    "Inside that function the value X is printed.\n",
    "Because the value of X was not availabe in the function it took the \n",
    "value from the global variable which was outside the function.\n"
   ]
  },
  {
   "cell_type": "code",
   "execution_count": 1,
   "id": "821bbf52",
   "metadata": {},
   "outputs": [
    {
     "name": "stdout",
     "output_type": "stream",
     "text": [
      "iNeuron\n"
     ]
    }
   ],
   "source": [
    "X='iNeuron'\n",
    "def func():\n",
    "    print(X)\n",
    "\n",
    "func()"
   ]
  },
  {
   "cell_type": "code",
   "execution_count": null,
   "id": "dea15aaf",
   "metadata": {},
   "outputs": [],
   "source": [
    "2. What is the result of the code, and explain?\n",
    "\n",
    ">>> X = 'iNeuron'\n",
    ">>> def func():\n",
    "X = 'NI!'\n",
    "\n",
    ">>> func()\n",
    ">>> print(X)\n",
    "\n",
    "Ans:\n",
    "Result of the code us iNeuron because even tho function was made and there was \n",
    "local value of X it was not printed inside.\n",
    "The value of X was printed outside the function, so it took value from global X."
   ]
  },
  {
   "cell_type": "code",
   "execution_count": 12,
   "id": "5bba79ed",
   "metadata": {},
   "outputs": [
    {
     "name": "stdout",
     "output_type": "stream",
     "text": [
      "iNeuron\n"
     ]
    }
   ],
   "source": [
    "X='iNeuron'\n",
    "def func():\n",
    "    X=\"NI!\"\n",
    "func()\n",
    "print(X)"
   ]
  },
  {
   "cell_type": "code",
   "execution_count": null,
   "id": "20f63a5b",
   "metadata": {},
   "outputs": [],
   "source": [
    "3. What does this code print, and why?\n",
    "\n",
    ">>> X = 'iNeuron'\n",
    ">>> def func():\n",
    "X = 'NI'\n",
    "print(X)\n",
    "\n",
    ">>> func()\n",
    ">>> print(X)\n",
    "\n",
    "Ans:-\n",
    "Both the string 'iNeuron' and 'NI!' will be printed.\n",
    "The print inside the function will print 'NI!' because it is a local variable of X,\n",
    "But the print outside the function will print 'iNeuron because it is global variable'."
   ]
  },
  {
   "cell_type": "code",
   "execution_count": 13,
   "id": "e0b1c21c",
   "metadata": {},
   "outputs": [
    {
     "name": "stdout",
     "output_type": "stream",
     "text": [
      "NI!\n",
      "iNeuron\n"
     ]
    }
   ],
   "source": [
    "X='iNeuron'\n",
    "def func():\n",
    "    X=\"NI!\"\n",
    "    print(X)\n",
    "func()\n",
    "print(X)"
   ]
  },
  {
   "cell_type": "code",
   "execution_count": null,
   "id": "e9d12b4f",
   "metadata": {},
   "outputs": [],
   "source": [
    "4. What output does this code produce? and Why?\n",
    "\n",
    ">>> X = 'iNeuron'\n",
    ">>> def func():\n",
    "global X\n",
    "X = 'NI'\n",
    "\n",
    ">>> func()\n",
    ">>> print(X)\n",
    "\n",
    "Ans:-\n",
    "This time NI! value will be printed.\n",
    "Because global X is redefined inside the function.\n",
    "so out side the function also it is aplicable"
   ]
  },
  {
   "cell_type": "code",
   "execution_count": 14,
   "id": "43b1bc93",
   "metadata": {},
   "outputs": [
    {
     "name": "stdout",
     "output_type": "stream",
     "text": [
      "NI!\n",
      "NI!\n"
     ]
    }
   ],
   "source": [
    "X='iNeuron'\n",
    "def func():\n",
    "    global X\n",
    "    X=\"NI!\"\n",
    "    print(X)\n",
    "func()\n",
    "print(X)"
   ]
  },
  {
   "cell_type": "code",
   "execution_count": null,
   "id": "3529337e",
   "metadata": {},
   "outputs": [],
   "source": [
    "5. What about this code — what’s the output, and why?\n",
    "\n",
    ">>> X = 'iNeuron'\n",
    ">>> def func():\n",
    "X = 'NI'\n",
    "def nested():\n",
    "print(X)\n",
    "nested()\n",
    "\n",
    ">>> func()\n",
    ">>> X\n",
    "\n",
    "Ans:-\n",
    "Both the string 'iNeuron' and 'NI!' will be printed.\n",
    "Inside a function there is a nested function,\n",
    "that nested function will take the value from function,\n",
    "because it for him the outer function will be global.\n",
    "the outer print will print global of X that is 'iNeuron'"
   ]
  },
  {
   "cell_type": "code",
   "execution_count": 17,
   "id": "a7e5e9e3",
   "metadata": {},
   "outputs": [
    {
     "name": "stdout",
     "output_type": "stream",
     "text": [
      "NI!\n",
      "iNeuron\n"
     ]
    }
   ],
   "source": [
    "X='iNeuron'\n",
    "def func():\n",
    "    X=\"NI!\"\n",
    "    def nested():\n",
    "        print(X)\n",
    "    nested()\n",
    "func()\n",
    "print(X)"
   ]
  },
  {
   "cell_type": "code",
   "execution_count": null,
   "id": "b4837798",
   "metadata": {},
   "outputs": [],
   "source": [
    "6. How about this code: what is its output in Python 3, and explain?\n",
    "\n",
    ">>> def func():\n",
    "X = 'NI'\n",
    "def nested():\n",
    "nonlocal X\n",
    "X = 'Spam'\n",
    "nested()\n",
    "print(X)\n",
    "\n",
    ">>> func()\n",
    "\n",
    "Ans:-\n",
    "Spam will be the output.\n",
    "nonlocal keyword is only used in nested function it refer variable to to the parent function.\n",
    "We cannot use it refer a global variable"
   ]
  },
  {
   "cell_type": "code",
   "execution_count": 18,
   "id": "1c7cb48d",
   "metadata": {},
   "outputs": [
    {
     "name": "stdout",
     "output_type": "stream",
     "text": [
      "Spam\n"
     ]
    }
   ],
   "source": [
    "def func():\n",
    "    X = 'NI'\n",
    "    def nested():\n",
    "        nonlocal X\n",
    "        X = 'Spam'\n",
    "    nested()\n",
    "    print(X)\n",
    "func()"
   ]
  },
  {
   "cell_type": "code",
   "execution_count": null,
   "id": "2deab1f2",
   "metadata": {},
   "outputs": [],
   "source": []
  }
 ],
 "metadata": {
  "kernelspec": {
   "display_name": "Python 3",
   "language": "python",
   "name": "python3"
  },
  "language_info": {
   "codemirror_mode": {
    "name": "ipython",
    "version": 3
   },
   "file_extension": ".py",
   "mimetype": "text/x-python",
   "name": "python",
   "nbconvert_exporter": "python",
   "pygments_lexer": "ipython3",
   "version": "3.8.8"
  }
 },
 "nbformat": 4,
 "nbformat_minor": 5
}
