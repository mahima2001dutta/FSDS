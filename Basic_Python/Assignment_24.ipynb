{
 "cells": [
  {
   "cell_type": "code",
   "execution_count": null,
   "id": "cf92c57d",
   "metadata": {},
   "outputs": [],
   "source": [
    "# 1. What is the relationship between def statements and lambda expressions ?\n",
    "# Ans:-\n",
    "# The relationship between them is both of them are function.\n",
    "# Syntax of def function\n",
    "def function_name():\n",
    "    statement\n",
    "\n",
    "lambda variables : expression or statement"
   ]
  },
  {
   "cell_type": "code",
   "execution_count": null,
   "id": "489c9499",
   "metadata": {},
   "outputs": [],
   "source": [
    "# 2. What is the benefit of lambda?\n",
    "# Ans:-\n",
    "The code is simple and clear.\n",
    "We dont need a to define a function name.\n",
    "No additional variables are added."
   ]
  },
  {
   "cell_type": "code",
   "execution_count": 6,
   "id": "4eeb92dd",
   "metadata": {},
   "outputs": [
    {
     "name": "stdout",
     "output_type": "stream",
     "text": [
      "[1, 4, 9, 16, 25]\n"
     ]
    }
   ],
   "source": [
    "# 3. Compare and contrast map, filter, and reduce.\n",
    "# Ans:-\n",
    "\n",
    "# Map:- It map's a function with the list of elements.\n",
    "def test(x):\n",
    "    return x*x\n",
    "l=[1,2,3,4,5]\n",
    "print(list(map(test,l)))"
   ]
  },
  {
   "cell_type": "code",
   "execution_count": 13,
   "id": "8cbb754e",
   "metadata": {},
   "outputs": [
    {
     "data": {
      "text/plain": [
       "[2, 4, 6, 8, 10]"
      ]
     },
     "execution_count": 13,
     "metadata": {},
     "output_type": "execute_result"
    }
   ],
   "source": [
    "# Filter:- IT filters the elements\n",
    "l=[1,2,3,4,5,6,7,8,9,10]\n",
    "def divisibleBy2(no):\n",
    "    return no%2==0\n",
    "list(filter(divisibleBy2,l))"
   ]
  },
  {
   "cell_type": "code",
   "execution_count": 19,
   "id": "6b9f8909",
   "metadata": {},
   "outputs": [
    {
     "data": {
      "text/plain": [
       "55"
      ]
     },
     "execution_count": 19,
     "metadata": {},
     "output_type": "execute_result"
    }
   ],
   "source": [
    "# We need to import reduce function\n",
    "from functools import reduce\n",
    "l=[i for i in range(1,10+1)]\n",
    "reduce(lambda a,b:a+b,l)"
   ]
  },
  {
   "cell_type": "code",
   "execution_count": 19,
   "id": "1d74b442",
   "metadata": {},
   "outputs": [],
   "source": [
    "# 4. What are function annotations, and how are they used?\n",
    "# Ans:-\n",
    "Function annotations are arbitrary python expressions that are associated with \n",
    "various part of functions. These expressions are evaluated at compile time and\n",
    "have no life in python’s runtime environment. \n",
    "Python does not attach any meaning to these annotations. \n",
    "They take life when interpreted by third party libraries, for example, mypy."
   ]
  },
  {
   "cell_type": "code",
   "execution_count": 24,
   "id": "8d5468e8",
   "metadata": {},
   "outputs": [
    {
     "data": {
      "text/plain": [
       "25"
      ]
     },
     "execution_count": 24,
     "metadata": {},
     "output_type": "execute_result"
    }
   ],
   "source": [
    "# Using annotation\n",
    "def add(x:'int',y:'int'=0) -> 'int':\n",
    "    return x+y\n",
    "add(5,20)"
   ]
  },
  {
   "cell_type": "code",
   "execution_count": 15,
   "id": "d3f8c87d",
   "metadata": {},
   "outputs": [
    {
     "name": "stdout",
     "output_type": "stream",
     "text": [
      "120\n"
     ]
    }
   ],
   "source": [
    "# 5. What are recursive functions, and how are they used?\n",
    "# Ans:-\n",
    "# A recursie function is a function calling itself.\n",
    "def fact(no):\n",
    "    if no==0 or no==1:\n",
    "        return 1\n",
    "    else:\n",
    "        return no*fact(no-1)\n",
    "print(fact(5))"
   ]
  },
  {
   "cell_type": "code",
   "execution_count": null,
   "id": "110bd605",
   "metadata": {},
   "outputs": [],
   "source": [
    "# 6. What are some general design guidelines for coding functions?\n",
    "# Ans:-\n",
    "Some of the general design guidelines for coding functions are:\n",
    "\n",
    "Always use a docstring to explain the functionality of the function\n",
    "Avoid using or limit use of global variables\n",
    "Proper Indentation to increase the code readability\n",
    "Try to follow a proper naming convention for function names (pascalCase or camelCase) and stick with the same convention throughout the application.\n",
    "Avoid using digits while choosing a variable name\n",
    "Try to use a name for the function which conveys the purpose of the function\n",
    "Local variables should be named using camelCase format (ex: localVariable) whereas Global variables names should be using PascalCase (ex:GlobalVariable).\n",
    "Constant should be represented in allcaps (ex:CONSTANT)."
   ]
  },
  {
   "cell_type": "code",
   "execution_count": null,
   "id": "8e6dcc94",
   "metadata": {},
   "outputs": [],
   "source": [
    "# 7. Name three or more ways that functions can communicate results to a caller.\n",
    "Ans:-\n",
    "return\n",
    "yield\n",
    "print\n"
   ]
  },
  {
   "cell_type": "code",
   "execution_count": null,
   "id": "641b7205",
   "metadata": {},
   "outputs": [],
   "source": []
  },
  {
   "cell_type": "code",
   "execution_count": null,
   "id": "95cc974a",
   "metadata": {},
   "outputs": [],
   "source": []
  }
 ],
 "metadata": {
  "kernelspec": {
   "display_name": "Python 3",
   "language": "python",
   "name": "python3"
  },
  "language_info": {
   "codemirror_mode": {
    "name": "ipython",
    "version": 3
   },
   "file_extension": ".py",
   "mimetype": "text/x-python",
   "name": "python",
   "nbconvert_exporter": "python",
   "pygments_lexer": "ipython3",
   "version": "3.8.8"
  }
 },
 "nbformat": 4,
 "nbformat_minor": 5
}
