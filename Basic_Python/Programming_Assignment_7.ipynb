{
 "cells": [
  {
   "cell_type": "code",
   "execution_count": 9,
   "id": "93f8a018",
   "metadata": {},
   "outputs": [
    {
     "name": "stdout",
     "output_type": "stream",
     "text": [
      "21\n",
      "21\n"
     ]
    }
   ],
   "source": [
    "# 1. Write a Python Program to find sum of array?\n",
    "# Ans:-\n",
    "# Using Array as a list\n",
    "arr=[1,2,3,4,5,6]\n",
    "print(sum(arr))\n",
    "\n",
    "res=0\n",
    "for i in arr:\n",
    "    res+=i\n",
    "print(res)"
   ]
  },
  {
   "cell_type": "code",
   "execution_count": 13,
   "id": "fb6129ef",
   "metadata": {},
   "outputs": [
    {
     "name": "stdout",
     "output_type": "stream",
     "text": [
      "55\n",
      "55\n"
     ]
    }
   ],
   "source": [
    "# 2. Write a Python Program to find largest element in an array?\n",
    "# Ans:-\n",
    "# Using Array as a list\n",
    "arr=[1,21,34,48,55,6]\n",
    "print(max(arr))\n",
    "# OR\n",
    "x=0\n",
    "for i in arr:\n",
    "    if i>=x:\n",
    "        x=i\n",
    "else:\n",
    "    print(x)"
   ]
  },
  {
   "cell_type": "code",
   "execution_count": 3,
   "id": "e97396b7",
   "metadata": {},
   "outputs": [
    {
     "name": "stdout",
     "output_type": "stream",
     "text": [
      "[15, 16, 17, 18, 19, 11, 12, 13, 14]\n"
     ]
    }
   ],
   "source": [
    "# 3. Write a Python Program for array rotation?\n",
    "# Ans\n",
    "array=[11,12,13,14,15,16,17,18,19]\n",
    "shift=4\n",
    "\n",
    "for i in range(0,shift):\n",
    "    temp=array[0]\n",
    "    for j in range(0, len(array)-1):\n",
    "        array[j]=array[j+1]\n",
    "    array[len(array)-1]=temp\n",
    "print(array)"
   ]
  },
  {
   "cell_type": "markdown",
   "id": "08109e11",
   "metadata": {},
   "source": [
    "## "
   ]
  },
  {
   "cell_type": "code",
   "execution_count": 9,
   "id": "2aa5f3b5",
   "metadata": {},
   "outputs": [
    {
     "name": "stdout",
     "output_type": "stream",
     "text": [
      "[25, 30, 35, 40, 15, 20]\n"
     ]
    }
   ],
   "source": [
    "# 4. Write a Python Program to Split the array and add the first part to the end?\n",
    "# Ans:-\n",
    "def split_array(array,shift):\n",
    "    for i in range(0,shift):\n",
    "        temp=array[0]\n",
    "        for j in range(0, len(array)-1):\n",
    "            array[j]=array[j+1]\n",
    "        array[len(array)-1]=temp\n",
    "    return array\n",
    "array=[15,20,25,30,35,40]\n",
    "shift=2\n",
    "result=split_array(array,shift)\n",
    "print(result)"
   ]
  },
  {
   "cell_type": "code",
   "execution_count": 43,
   "id": "2a3a0c49",
   "metadata": {},
   "outputs": [
    {
     "data": {
      "text/plain": [
       "10"
      ]
     },
     "execution_count": 43,
     "metadata": {},
     "output_type": "execute_result"
    }
   ],
   "source": [
    "array=[10,9,8,7,6,5,4,3,2,1]\n",
    "shift=5\n",
    "array_lenght=len(array)\n",
    "array_lenght"
   ]
  },
  {
   "cell_type": "code",
   "execution_count": 15,
   "id": "4ba9855d",
   "metadata": {},
   "outputs": [
    {
     "name": "stdout",
     "output_type": "stream",
     "text": [
      "It is an monoonic array\n"
     ]
    }
   ],
   "source": [
    "# 5. Write a Python Program to check if given array is Monotonic?\n",
    "# Ans:\n",
    "\n",
    "def monotonic(array):\n",
    "    decreasing=False\n",
    "    if array[0]>array[1]:\n",
    "        decreasing=True\n",
    "    for i in range(len(array)-1):\n",
    "        if(array[i]< array[i+1] and decreasing or array[i] > array[i+1] and not decreasing):\n",
    "            return \"It is not an monoonic array\"\n",
    "    return \"It is an monoonic array\"\n",
    "array=[15,20,25,30,35,40]\n",
    "print(monotonic(array))     "
   ]
  },
  {
   "cell_type": "code",
   "execution_count": null,
   "id": "b77dcf67",
   "metadata": {},
   "outputs": [],
   "source": []
  }
 ],
 "metadata": {
  "kernelspec": {
   "display_name": "Python 3",
   "language": "python",
   "name": "python3"
  },
  "language_info": {
   "codemirror_mode": {
    "name": "ipython",
    "version": 3
   },
   "file_extension": ".py",
   "mimetype": "text/x-python",
   "name": "python",
   "nbconvert_exporter": "python",
   "pygments_lexer": "ipython3",
   "version": "3.8.8"
  }
 },
 "nbformat": 4,
 "nbformat_minor": 5
}
