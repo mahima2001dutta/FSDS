{
 "cells": [
  {
   "cell_type": "markdown",
   "id": "4d407ebd",
   "metadata": {},
   "source": [
    "#### 1. Write a Python program to find words which are greater than given length k ?"
   ]
  },
  {
   "cell_type": "code",
   "execution_count": 4,
   "id": "d3ec10f6",
   "metadata": {
    "colab": {
     "base_uri": "https://localhost:8080/"
    },
    "id": "d3ec10f6",
    "outputId": "38ce6b46-3778-4f9d-ed3d-b76969283bde"
   },
   "outputs": [
    {
     "name": "stdout",
     "output_type": "stream",
     "text": [
      "Enter the string: My name is Aman Gupta\n",
      "Enter the length of the string: 4\n",
      "Gupta\n"
     ]
    }
   ],
   "source": [
    "\n",
    "def check_length_of_string():\n",
    "    in_string = input(\"Enter the string: \")\n",
    "    in_length = int(input('Enter the length of the string: '))\n",
    "    out_string = []\n",
    "    for string in in_string.split(\" \"):\n",
    "        if len(string) > in_length:\n",
    "            out_string.append(string)\n",
    "    print(','.join(out_string))\n",
    "\n",
    "check_length_of_string()"
   ]
  },
  {
   "cell_type": "markdown",
   "id": "3711485d",
   "metadata": {
    "id": "3711485d"
   },
   "source": [
    "#### 2. Write a Python program for removing i-th character from a string ?"
   ]
  },
  {
   "cell_type": "code",
   "execution_count": 5,
   "id": "f7fccd01",
   "metadata": {
    "colab": {
     "base_uri": "https://localhost:8080/"
    },
    "id": "f7fccd01",
    "outputId": "68fceba4-3623-4efc-ffb0-b08bb4da0870"
   },
   "outputs": [
    {
     "name": "stdout",
     "output_type": "stream",
     "text": [
      "Enter the String: Aman\n",
      "Enter the ith Character: 2\n",
      "Amn\n"
     ]
    }
   ],
   "source": [
    "def remove_character():\n",
    "    in_string = input(\"Enter the String: \")\n",
    "    in_char_num = int(input(\"Enter the ith Character: \"))\n",
    "    out_string = ''\n",
    "    for ele in range(len(in_string)):\n",
    "        if ele != in_char_num:\n",
    "            out_string = out_string + in_string[ele]\n",
    "    print(out_string)\n",
    "    \n",
    "remove_character()"
   ]
  },
  {
   "cell_type": "markdown",
   "id": "845ba790",
   "metadata": {
    "id": "845ba790"
   },
   "source": [
    "#### 3. Write a Python program to split and join a string ?"
   ]
  },
  {
   "cell_type": "code",
   "execution_count": 6,
   "id": "fd82df54",
   "metadata": {
    "colab": {
     "base_uri": "https://localhost:8080/"
    },
    "id": "fd82df54",
    "outputId": "01c8b1d9-0aea-4ee0-adec-77cbeb6c7e45"
   },
   "outputs": [
    {
     "name": "stdout",
     "output_type": "stream",
     "text": [
      "Enter the string: Lion is the king \n",
      "Split String: ['Lion', 'is', 'the', 'king', '']\n",
      "Join String: Lion is the king \n"
     ]
    }
   ],
   "source": [
    "def split_join_string():\n",
    "    in_string = input('Enter the string: ')\n",
    "    print(f\"Split String: {in_string.split(' ')}\")\n",
    "    print(f\"Join String: {' '.join(in_string.split(' '))}\")\n",
    "\n",
    "split_join_string()"
   ]
  },
  {
   "cell_type": "markdown",
   "id": "ee642cdf",
   "metadata": {
    "id": "ee642cdf"
   },
   "source": [
    "#### 4. Write a Python to check if a given string is binary string or not ?"
   ]
  },
  {
   "cell_type": "code",
   "execution_count": 8,
   "id": "6d04b29e",
   "metadata": {
    "colab": {
     "base_uri": "https://localhost:8080/"
    },
    "id": "6d04b29e",
    "outputId": "e4c8891e-4a21-429d-ac8e-9d3bb4ff4049"
   },
   "outputs": [
    {
     "name": "stdout",
     "output_type": "stream",
     "text": [
      "Enter the string: 12345\n",
      "12345 is not a binart string\n",
      "Enter the string: 01110110\n",
      "01110110 is a binary string\n"
     ]
    }
   ],
   "source": [
    "def check_binary():\n",
    "    in_string = input('Enter the string: ')\n",
    "    stun = 0\n",
    "    for ele in in_string:\n",
    "        if ele in ['0','1']:\n",
    "            stun = 1\n",
    "            continue\n",
    "        else:\n",
    "            stun = 0\n",
    "            break\n",
    "    statement = 'is a binary string' if stun == 1 else 'is not a binart string' \n",
    "    print(f'{in_string} {statement}')\n",
    "\n",
    "check_binary()\n",
    "check_binary()"
   ]
  },
  {
   "cell_type": "markdown",
   "id": "d22e2622",
   "metadata": {
    "id": "d22e2622"
   },
   "source": [
    "#### 5. Write a Python program to find uncommon words from two Strings ?"
   ]
  },
  {
   "cell_type": "code",
   "execution_count": 9,
   "id": "be223e06",
   "metadata": {
    "colab": {
     "base_uri": "https://localhost:8080/"
    },
    "id": "be223e06",
    "outputId": "c36e865f-3e37-4ba3-8024-3c8a99101acc"
   },
   "outputs": [
    {
     "name": "stdout",
     "output_type": "stream",
     "text": [
      "Enter the String 1: Aman Gupta\n",
      "Enter the String 2: Ankit Gupta\n",
      "{'Ankit', 'Aman'}\n"
     ]
    }
   ],
   "source": [
    "def un_common_words():\n",
    "    in_string_1 = set(input(\"Enter the String 1: \").split(' '))\n",
    "    in_string_2 = set(input(\"Enter the String 2: \").split(' '))\n",
    "    out_string = (in_string_1.union(in_string_2)).difference(in_string_1.intersection(in_string_2))\n",
    "    print(out_string)\n",
    "\n",
    "un_common_words()"
   ]
  },
  {
   "cell_type": "markdown",
   "id": "a077bda5",
   "metadata": {
    "id": "a077bda5"
   },
   "source": [
    "#### 6. Write a Python to find all duplicate characters in string ?"
   ]
  },
  {
   "cell_type": "code",
   "execution_count": 10,
   "id": "6116a494",
   "metadata": {
    "colab": {
     "base_uri": "https://localhost:8080/"
    },
    "id": "6116a494",
    "outputId": "58946383-37a1-4fe9-9fcf-2cec4ef1c21f"
   },
   "outputs": [
    {
     "name": "stdout",
     "output_type": "stream",
     "text": [
      "Enter the string: aabbccasfastgvd\n",
      "Duplicate characters are: ['a', 'b', 'c', 's']\n"
     ]
    }
   ],
   "source": [
    "def duplicate_chars():\n",
    "    in_string = input('Enter the string: ')\n",
    "    non_duplicate_list = []\n",
    "    duplicate_list = []\n",
    "    for ele in in_string:\n",
    "        if ele not in non_duplicate_list:\n",
    "            non_duplicate_list.append(ele)\n",
    "        else:\n",
    "            duplicate_list.append(ele)\n",
    "    print(f'Duplicate characters are: {list(set(duplicate_list))}')\n",
    "        \n",
    "duplicate_chars()"
   ]
  },
  {
   "cell_type": "markdown",
   "id": "e14912b1",
   "metadata": {
    "id": "e14912b1"
   },
   "source": [
    "#### 7. Write a Python Program to check if a string contains any special character?"
   ]
  },
  {
   "cell_type": "code",
   "execution_count": 11,
   "id": "b51b221d",
   "metadata": {
    "colab": {
     "base_uri": "https://localhost:8080/"
    },
    "id": "b51b221d",
    "outputId": "357f9e6c-bb97-4811-a3ec-602547b5b3f3"
   },
   "outputs": [
    {
     "name": "stdout",
     "output_type": "stream",
     "text": [
      "Enter the string: amangupta$\n",
      "There are 1 Special Characters in amangupta$ which are ['$']\n",
      "Enter the string: !@#aman\n",
      "There are 3 Special Characters in !@#aman which are ['!', '@', '#']\n"
     ]
    }
   ],
   "source": [
    "def check_special_char():\n",
    "    spl_chars = '[@_!#$%^&*()<>?/\\|}{~:]'\n",
    "    in_num = input('Enter the string: ')\n",
    "    count = 0\n",
    "    char_list = []\n",
    "    for ele in in_num:\n",
    "        if ele in spl_chars:\n",
    "            char_list.append(ele)\n",
    "            count = count+1\n",
    "    print(f'There are {count} Special Characters in {in_num} which are {char_list}')\n",
    "            \n",
    "        \n",
    "check_special_char()\n",
    "check_special_char()"
   ]
  },
  {
   "cell_type": "code",
   "execution_count": null,
   "id": "337face2",
   "metadata": {},
   "outputs": [],
   "source": []
  }
 ],
 "metadata": {
  "colab": {
   "collapsed_sections": [],
   "name": "Basic_Programming Assignment_11.ipynb",
   "provenance": []
  },
  "kernelspec": {
   "display_name": "Python 3 (ipykernel)",
   "language": "python",
   "name": "python3"
  },
  "language_info": {
   "codemirror_mode": {
    "name": "ipython",
    "version": 3
   },
   "file_extension": ".py",
   "mimetype": "text/x-python",
   "name": "python",
   "nbconvert_exporter": "python",
   "pygments_lexer": "ipython3",
   "version": "3.9.12"
  }
 },
 "nbformat": 4,
 "nbformat_minor": 5
}
