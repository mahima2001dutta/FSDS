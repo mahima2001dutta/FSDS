{
 "cells": [
  {
   "cell_type": "code",
   "execution_count": 6,
   "id": "6c976f54",
   "metadata": {},
   "outputs": [
    {
     "name": "stdout",
     "output_type": "stream",
     "text": [
      "Enter the kilometer value you want to convert :10\n",
      "10 km is equal to 6.213699999999999 miles\n"
     ]
    }
   ],
   "source": [
    "# 1.\tWrite a Python program to convert kilometers to miles?\n",
    "# Ans:-\n",
    "km=int(input(\"Enter the kilometer value you want to convert :\"))\n",
    "mile=km*0.62137\n",
    "print(km,\"km is equal to\",mile,\"miles\")"
   ]
  },
  {
   "cell_type": "code",
   "execution_count": 11,
   "id": "da909136",
   "metadata": {},
   "outputs": [
    {
     "name": "stdout",
     "output_type": "stream",
     "text": [
      "Enter the celsius value you want to convert :100\n",
      "100 Cel is equal to 212.0 Fah\n"
     ]
    }
   ],
   "source": [
    "# 2.\tWrite a Python program to convert Celsius to Fahrenheit?\n",
    "# Ans:-\n",
    "cel=int(input(\"Enter the celsius value you want to convert :\"))\n",
    "fah=(cel*1.8)+32\n",
    "print(cel,\"Cel is equal to\",fah,\"Fah\")"
   ]
  },
  {
   "cell_type": "code",
   "execution_count": 16,
   "id": "4e507209",
   "metadata": {},
   "outputs": [
    {
     "name": "stdout",
     "output_type": "stream",
     "text": [
      "     June 2022\n",
      "Mo Tu We Th Fr Sa Su\n",
      "       1  2  3  4  5\n",
      " 6  7  8  9 10 11 12\n",
      "13 14 15 16 17 18 19\n",
      "20 21 22 23 24 25 26\n",
      "27 28 29 30\n",
      "\n"
     ]
    }
   ],
   "source": [
    "# 3.\tWrite a Python program to display calendar?\n",
    "# Ans:-\n",
    "import calendar\n",
    "print(calendar.month(2022,6))"
   ]
  },
  {
   "cell_type": "code",
   "execution_count": 18,
   "id": "a9390dd8",
   "metadata": {},
   "outputs": [
    {
     "name": "stdout",
     "output_type": "stream",
     "text": [
      "Enter a :8\n",
      "Enter b :5\n",
      "Enter c :9\n",
      "The solution are (-0.3125+1.0135796712641785j) and (-0.3125-1.0135796712641785j)\n"
     ]
    }
   ],
   "source": [
    "# 4.\tWrite a Python program to solve quadratic equation?\n",
    "# Ans:-\n",
    "import cmath\n",
    "a=float(input(\"Enter a :\"))\n",
    "b=float(input(\"Enter b :\"))\n",
    "c=float(input(\"Enter c :\"))\n",
    "# Calculating the discriminant\n",
    "d=(b**2)-(4*a*c)\n",
    "# find two solutions  \n",
    "sol1 = (-b-cmath.sqrt(d))/(2*a)  \n",
    "sol2 = (-b+cmath.sqrt(d))/(2*a)\n",
    "print(\"The solution are {1} and {0}\".format(sol1,sol2))"
   ]
  },
  {
   "cell_type": "code",
   "execution_count": 1,
   "id": "a7c889d6",
   "metadata": {},
   "outputs": [
    {
     "name": "stdout",
     "output_type": "stream",
     "text": [
      "Enter the first number :5\n",
      "Enter the second number :6\n",
      "Before Swaping!\n",
      "a = 5\n",
      "b = 6\n",
      "After Swaping!\n",
      "a = 6\n",
      "b = 5\n"
     ]
    }
   ],
   "source": [
    "# 5.\tWrite a Python program to swap two variables without temp variable?\n",
    "# Ans 1:-\n",
    "a=int(input(\"Enter the first number :\"))\n",
    "b=int(input(\"Enter the second number :\"))\n",
    "print(\"Before Swaping!\")\n",
    "print(\"a =\",a)\n",
    "print(\"b =\",b)\n",
    "print(\"After Swaping!\")\n",
    "a,b=b,a\n",
    "print(\"a =\",a)\n",
    "print(\"b =\",b)"
   ]
  },
  {
   "cell_type": "code",
   "execution_count": 2,
   "id": "e283b319",
   "metadata": {},
   "outputs": [
    {
     "name": "stdout",
     "output_type": "stream",
     "text": [
      "Enter the first number :5\n",
      "Enter the second number :6\n",
      "Before Swaping!\n",
      "a = 5\n",
      "b = 6\n",
      "After Swaping!\n",
      "a = 6\n",
      "b = 5\n"
     ]
    }
   ],
   "source": [
    "# Ans 2:-\n",
    "a=int(input(\"Enter the first number :\"))\n",
    "b=int(input(\"Enter the second number :\"))\n",
    "print(\"Before Swaping!\")\n",
    "print(\"a =\",a)\n",
    "print(\"b =\",b)\n",
    "print(\"After Swaping!\")\n",
    "a=a+b\n",
    "b=a-b\n",
    "a=a-b\n",
    "print(\"a =\",a)\n",
    "print(\"b =\",b)"
   ]
  },
  {
   "cell_type": "code",
   "execution_count": null,
   "id": "b767a5df",
   "metadata": {},
   "outputs": [],
   "source": []
  }
 ],
 "metadata": {
  "kernelspec": {
   "display_name": "Python 3",
   "language": "python",
   "name": "python3"
  },
  "language_info": {
   "codemirror_mode": {
    "name": "ipython",
    "version": 3
   },
   "file_extension": ".py",
   "mimetype": "text/x-python",
   "name": "python",
   "nbconvert_exporter": "python",
   "pygments_lexer": "ipython3",
   "version": "3.8.8"
  }
 },
 "nbformat": 4,
 "nbformat_minor": 5
}
